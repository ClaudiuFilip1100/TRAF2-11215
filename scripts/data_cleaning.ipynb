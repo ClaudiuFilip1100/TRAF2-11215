{
 "cells": [
  {
   "cell_type": "code",
   "execution_count": 1,
   "outputs": [],
   "source": [
    "import pandas as pd\n",
    "import numpy as np"
   ],
   "metadata": {
    "collapsed": false,
    "pycharm": {
     "name": "#%%\n"
    }
   }
  },
  {
   "cell_type": "code",
   "execution_count": 2,
   "outputs": [],
   "source": [
    "raw_df = pd.read_csv('../data/raw_dataset.csv', header=None)\n",
    "raw_df.head(10)\n",
    "raw_df = raw_df[0]"
   ],
   "metadata": {
    "collapsed": false,
    "pycharm": {
     "name": "#%%\n"
    }
   }
  },
  {
   "cell_type": "markdown",
   "source": [
    "1. remove null values\n",
    "2. remove _x005F_x000D_"
   ],
   "metadata": {
    "collapsed": false,
    "pycharm": {
     "name": "#%% md\n"
    }
   }
  },
  {
   "cell_type": "code",
   "execution_count": 3,
   "outputs": [
    {
     "name": "stdout",
     "output_type": "stream",
     "text": [
      "12\n",
      "0\n"
     ]
    }
   ],
   "source": [
    "print(sum(raw_df.isna()))\n",
    "raw_df.dropna(inplace=True)\n",
    "print(sum(raw_df.isna()))"
   ],
   "metadata": {
    "collapsed": false,
    "pycharm": {
     "name": "#%%\n"
    }
   }
  },
  {
   "cell_type": "code",
   "execution_count": 4,
   "outputs": [
    {
     "data": {
      "text/plain": "0    FOB\\nMULTI CODES DENIM FABRIC AS PER PROFORMA ...\n1    CPT LAHORE AIRPORT, PAKISTAN_x005F_x000D_\\nPHA...\n2    CFR KEAMARI KARACHI SEAPORT/PORT QASIM, PAKIST...\n3    CFR ANY PORT OF KARACHI_x005F_x000D_\\nHARDWARE...\n4    CPT LAHORE AIRPORT, PAKISTAN_x005F_x000D_\\n1. ...\nName: 0, dtype: object"
     },
     "execution_count": 4,
     "metadata": {},
     "output_type": "execute_result"
    }
   ],
   "source": [
    "raw_df.head()"
   ],
   "metadata": {
    "collapsed": false,
    "pycharm": {
     "name": "#%%\n"
    }
   }
  },
  {
   "cell_type": "code",
   "execution_count": 5,
   "outputs": [],
   "source": [
    "df = raw_df.apply(lambda x: x.replace('_x005F_x000D_',''))"
   ],
   "metadata": {
    "collapsed": false,
    "pycharm": {
     "name": "#%%\n"
    }
   }
  },
  {
   "cell_type": "code",
   "execution_count": 6,
   "outputs": [],
   "source": [
    "df_2 = df.apply(lambda x: x.replace('\\n',' '))"
   ],
   "metadata": {
    "collapsed": false,
    "pycharm": {
     "name": "#%%\n"
    }
   }
  },
  {
   "cell_type": "code",
   "execution_count": 7,
   "outputs": [],
   "source": [
    "df_2 = df_2.apply(lambda x: x.replace(':',' '))"
   ],
   "metadata": {
    "collapsed": false,
    "pycharm": {
     "name": "#%%\n"
    }
   }
  },
  {
   "cell_type": "code",
   "execution_count": 8,
   "outputs": [],
   "source": [
    "df_2 = df_2.apply(lambda x: x.replace(',',''))"
   ],
   "metadata": {
    "collapsed": false,
    "pycharm": {
     "name": "#%%\n"
    }
   }
  },
  {
   "cell_type": "code",
   "execution_count": 9,
   "outputs": [],
   "source": [
    "df_2 = df_2.apply(lambda x: x.replace('-',''))"
   ],
   "metadata": {
    "collapsed": false,
    "pycharm": {
     "name": "#%%\n"
    }
   }
  },
  {
   "cell_type": "code",
   "execution_count": 10,
   "outputs": [],
   "source": [
    "df_2 = df_2.apply(lambda x: x.strip())"
   ],
   "metadata": {
    "collapsed": false,
    "pycharm": {
     "name": "#%%\n"
    }
   }
  },
  {
   "cell_type": "code",
   "execution_count": 11,
   "outputs": [
    {
     "data": {
      "text/plain": "0    FOB MULTI CODES DENIM FABRIC AS PER PROFORMA I...\n1    CPT LAHORE AIRPORT PAKISTAN PHARMACEUTICAL ALL...\n2    CFR KEAMARI KARACHI SEAPORT/PORT QASIM PAKISTA...\n3    CFR ANY PORT OF KARACHI HARDWARE FITTINGS ACCE...\n4    CPT LAHORE AIRPORT PAKISTAN 1. QTY  01 PC SPIN...\n5    CPT LAHORE AIRPORT PAKISTAN QTY  01 SET OF UST...\n6    CPT LAHORE AIRPORT PAKISTAN QTY  1 UNIT OF ELE...\n7    CFR KEAMARI KARACHI SEAPORT / PORT QASIM PAKIS...\n8    FOB SHANGHAI SEAPORT CHINA TOTAL QTY  6523.00 ...\n9    CFR KARACHI SEAPORT PAKISTAN QTY  150.00 MTS P...\nName: 0, dtype: object"
     },
     "execution_count": 11,
     "metadata": {},
     "output_type": "execute_result"
    }
   ],
   "source": [
    "df_2.head(10)"
   ],
   "metadata": {
    "collapsed": false,
    "pycharm": {
     "name": "#%%\n"
    }
   }
  },
  {
   "cell_type": "code",
   "execution_count": 13,
   "outputs": [],
   "source": [
    "df_2.to_csv('../data/dataset.csv', index=False, header=False)"
   ],
   "metadata": {
    "collapsed": false,
    "pycharm": {
     "name": "#%%\n"
    }
   }
  },
  {
   "cell_type": "markdown",
   "source": [
    "EXW QTY: 496,800.00 KGS POLYESTER CHIPS BOTTLE GRADE (PET RESIN) GATRONOVA 'A 84' AT PKR: 159.00 PER KG PKR: 78,991,200 (WITHOUT SALES TAX) PLUS 17 PERCENT SALES TAX PKR: 13,428,504 MAKING TOTAL V..."
   ],
   "metadata": {
    "collapsed": false,
    "pycharm": {
     "name": "#%% md\n"
    }
   }
  },
  {
   "cell_type": "markdown",
   "source": [
    "https://github.com/floydhub/named-entity-recognition-template"
   ],
   "metadata": {
    "collapsed": false,
    "pycharm": {
     "name": "#%% md\n"
    }
   }
  }
 ],
 "metadata": {
  "kernelspec": {
   "display_name": "Python 3",
   "language": "python",
   "name": "python3"
  },
  "language_info": {
   "codemirror_mode": {
    "name": "ipython",
    "version": 2
   },
   "file_extension": ".py",
   "mimetype": "text/x-python",
   "name": "python",
   "nbconvert_exporter": "python",
   "pygments_lexer": "ipython2",
   "version": "2.7.6"
  }
 },
 "nbformat": 4,
 "nbformat_minor": 0
}