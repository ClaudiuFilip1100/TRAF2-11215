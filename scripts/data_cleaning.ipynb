{
 "cells": [
  {
   "cell_type": "code",
   "execution_count": 1,
   "outputs": [],
   "source": [
    "import pandas as pd\n",
    "import re"
   ],
   "metadata": {
    "collapsed": false,
    "pycharm": {
     "name": "#%%\n"
    }
   }
  },
  {
   "cell_type": "code",
   "execution_count": 2,
   "outputs": [],
   "source": [
    "raw_df = pd.read_csv('../data/raw_dataset.csv', header=None)\n",
    "raw_df.head(10)\n",
    "raw_df = raw_df[0]"
   ],
   "metadata": {
    "collapsed": false,
    "pycharm": {
     "name": "#%%\n"
    }
   }
  },
  {
   "cell_type": "markdown",
   "source": [
    "1. remove null values\n",
    "2. remove _x005F_x000D_"
   ],
   "metadata": {
    "collapsed": false,
    "pycharm": {
     "name": "#%% md\n"
    }
   }
  },
  {
   "cell_type": "code",
   "execution_count": 3,
   "outputs": [
    {
     "name": "stdout",
     "output_type": "stream",
     "text": [
      "12\n",
      "0\n"
     ]
    }
   ],
   "source": [
    "print(sum(raw_df.isna()))\n",
    "raw_df.dropna(inplace=True)\n",
    "print(sum(raw_df.isna()))"
   ],
   "metadata": {
    "collapsed": false,
    "pycharm": {
     "name": "#%%\n"
    }
   }
  },
  {
   "cell_type": "code",
   "execution_count": 4,
   "outputs": [
    {
     "data": {
      "text/plain": "0    FOB\\nMULTI CODES DENIM FABRIC AS PER PROFORMA ...\n1    CPT LAHORE AIRPORT, PAKISTAN_x005F_x000D_\\nPHA...\n2    CFR KEAMARI KARACHI SEAPORT/PORT QASIM, PAKIST...\n3    CFR ANY PORT OF KARACHI_x005F_x000D_\\nHARDWARE...\n4    CPT LAHORE AIRPORT, PAKISTAN_x005F_x000D_\\n1. ...\nName: 0, dtype: object"
     },
     "execution_count": 4,
     "metadata": {},
     "output_type": "execute_result"
    }
   ],
   "source": [
    "raw_df.head()"
   ],
   "metadata": {
    "collapsed": false,
    "pycharm": {
     "name": "#%%\n"
    }
   }
  },
  {
   "cell_type": "code",
   "execution_count": 5,
   "outputs": [],
   "source": [
    "df = raw_df.apply(lambda x: x.replace('_x005F_x000D_',''))"
   ],
   "metadata": {
    "collapsed": false,
    "pycharm": {
     "name": "#%%\n"
    }
   }
  },
  {
   "cell_type": "code",
   "execution_count": 6,
   "outputs": [],
   "source": [
    "df_2 = df.apply(lambda x: x.replace('\\n',' '))"
   ],
   "metadata": {
    "collapsed": false,
    "pycharm": {
     "name": "#%%\n"
    }
   }
  },
  {
   "cell_type": "code",
   "execution_count": 7,
   "outputs": [],
   "source": [
    "df_2 = df_2.apply(lambda x: x.replace(':',' '))"
   ],
   "metadata": {
    "collapsed": false,
    "pycharm": {
     "name": "#%%\n"
    }
   }
  },
  {
   "cell_type": "code",
   "execution_count": 8,
   "outputs": [],
   "source": [
    "df_2 = df_2.apply(lambda x: x.replace('+)',''))"
   ],
   "metadata": {
    "collapsed": false,
    "pycharm": {
     "name": "#%%\n"
    }
   }
  },
  {
   "cell_type": "code",
   "execution_count": 9,
   "outputs": [],
   "source": [
    "# to remove 1- or 2- characters from numbering QTY\n",
    "df_2 = df_2.apply(lambda x: re.sub('\\d-', '', x))"
   ],
   "metadata": {
    "collapsed": false,
    "pycharm": {
     "name": "#%%\n"
    }
   }
  },
  {
   "cell_type": "code",
   "execution_count": 10,
   "outputs": [],
   "source": [
    "# to remove (1) or (2) characters from numbering QTY\n",
    "df_2 = df_2.apply(lambda x: re.sub('\\(\\d\\)', '', x))"
   ],
   "metadata": {
    "collapsed": false,
    "pycharm": {
     "name": "#%%\n"
    }
   }
  },
  {
   "cell_type": "code",
   "execution_count": 11,
   "outputs": [],
   "source": [
    "# to remove 1) or 2) characters from numbering QTY\n",
    "df_2 = df_2.apply(lambda x: re.sub('\\\\d\\)', '', x))"
   ],
   "metadata": {
    "collapsed": false,
    "pycharm": {
     "name": "#%%\n"
    }
   }
  },
  {
   "cell_type": "code",
   "execution_count": 12,
   "outputs": [],
   "source": [
    "# to remove , followed by space from sentences, but not from numbers\n",
    "df_2 = df_2.apply(lambda x: re.sub(',\\s', '', x))"
   ],
   "metadata": {
    "collapsed": false,
    "pycharm": {
     "name": "#%%\n"
    }
   }
  },
  {
   "cell_type": "code",
   "execution_count": 13,
   "outputs": [],
   "source": [
    "# to remove , followed by word from sentences, but not from numbers\n",
    "df_2 = df_2.apply(lambda x: re.sub(',\\w', '', x))"
   ],
   "metadata": {
    "collapsed": false,
    "pycharm": {
     "name": "#%%\n"
    }
   }
  },
  {
   "cell_type": "code",
   "execution_count": 14,
   "outputs": [],
   "source": [
    "def remove_dot(x):\n",
    "    pattern = '\\w\\.' # removes dots at the end of sentences... ex: \"we went there.\" -> \"we went there\"\n",
    "    finds = re.findall(pattern, x)\n",
    "    for find in finds:\n",
    "        x = re.sub(pattern, find[:-1], x)\n",
    "\n",
    "    pattern_2 = '\\.\\w' # removes dots at the end of sentences. ex: \"we went .there\" -> \"we went there\"\n",
    "    x = re.sub(pattern_2, '', x)\n",
    "\n",
    "    pattern_3 = '\\s\\.\\s' # removes dots at the end of sentences. ex: \"abc . abc\" -> \"abc abc\"\n",
    "    x = re.sub(pattern_3, '', x)\n",
    "\n",
    "    return x\n",
    "\n",
    "df_2 = df_2.apply(remove_dot)"
   ],
   "metadata": {
    "collapsed": false,
    "pycharm": {
     "name": "#%%\n"
    }
   }
  },
  {
   "cell_type": "code",
   "execution_count": 15,
   "outputs": [],
   "source": [
    "df_2 = df_2.apply(lambda x: x.replace(' - ',''))"
   ],
   "metadata": {
    "collapsed": false,
    "pycharm": {
     "name": "#%%\n"
    }
   }
  },
  {
   "cell_type": "code",
   "execution_count": 16,
   "outputs": [],
   "source": [
    "df_2 = df_2.apply(lambda x: x.replace('++++++++++++++++++++++++++++++++++++',''))"
   ],
   "metadata": {
    "collapsed": false,
    "pycharm": {
     "name": "#%%\n"
    }
   }
  },
  {
   "cell_type": "code",
   "execution_count": 17,
   "outputs": [],
   "source": [
    "df_2 = df_2.apply(lambda x: x.strip())"
   ],
   "metadata": {
    "collapsed": false,
    "pycharm": {
     "name": "#%%\n"
    }
   }
  },
  {
   "cell_type": "code",
   "execution_count": 18,
   "outputs": [
    {
     "data": {
      "text/plain": "0    FOB MULTI CODES DENIM FABRIC AS PER PROFORMA I...\n1    CPT LAHORE AIRPORTPAKISTAN PHARMACEUTICAL ALLO...\n2    CFR KEAMARI KARACHI SEAPORT/PORT QASIMPAKISTAN...\n3    CFR ANY PORT OF KARACHI HARDWARE FITTINGS ACCE...\n4    CPT LAHORE AIRPORTPAKISTAN 1 QTY  01 PC SPINNE...\n5    CPT LAHORE AIRPORTPAKISTAN QTY  01 SET OF USTE...\n6    CPT LAHORE AIRPORTPAKISTAN QTY  1 UNIT OF ELEC...\n7    CFR KEAMARI KARACHI SEAPORT / PORT QASIMPAKIST...\n8    FOB SHANGHAI SEAPORT CHINA TOTAL QTY  652300 H...\n9    CFR KARACHI SEAPORTPAKISTAN QTY  15000 MTS PRI...\nName: 0, dtype: object"
     },
     "execution_count": 18,
     "metadata": {},
     "output_type": "execute_result"
    }
   ],
   "source": [
    "df_2.head(10)"
   ],
   "metadata": {
    "collapsed": false,
    "pycharm": {
     "name": "#%%\n"
    }
   }
  },
  {
   "cell_type": "code",
   "execution_count": 19,
   "outputs": [],
   "source": [
    "df_2.to_csv('../data/cleaned_dataset.csv', index=False, header=False)"
   ],
   "metadata": {
    "collapsed": false,
    "pycharm": {
     "name": "#%%\n"
    }
   }
  },
  {
   "cell_type": "markdown",
   "source": [
    "EXW QTY: 496,800.00 KGS POLYESTER CHIPS BOTTLE GRADE (PET RESIN) GATRONOVA 'A 84' AT PKR: 159.00 PER KG PKR: 78,991,200 (WITHOUT SALES TAX) PLUS 17 PERCENT SALES TAX PKR: 13,428,504 MAKING TOTAL V..."
   ],
   "metadata": {
    "collapsed": false,
    "pycharm": {
     "name": "#%% md\n"
    }
   }
  },
  {
   "cell_type": "markdown",
   "source": [
    "https://github.com/floydhub/named-entity-recognition-template"
   ],
   "metadata": {
    "collapsed": false,
    "pycharm": {
     "name": "#%% md\n"
    }
   }
  }
 ],
 "metadata": {
  "kernelspec": {
   "display_name": "Python 3",
   "language": "python",
   "name": "python3"
  },
  "language_info": {
   "codemirror_mode": {
    "name": "ipython",
    "version": 2
   },
   "file_extension": ".py",
   "mimetype": "text/x-python",
   "name": "python",
   "nbconvert_exporter": "python",
   "pygments_lexer": "ipython2",
   "version": "2.7.6"
  }
 },
 "nbformat": 4,
 "nbformat_minor": 0
}