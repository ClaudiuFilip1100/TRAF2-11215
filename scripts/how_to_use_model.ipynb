{
 "cells": [
  {
   "cell_type": "code",
   "execution_count": 5,
   "metadata": {},
   "outputs": [],
   "source": [
    "import numpy as np\n",
    "import pandas as pd\n",
    "import tensorflow as tf\n",
    "from tensorflow import keras"
   ]
  },
  {
   "cell_type": "code",
   "execution_count": 65,
   "metadata": {},
   "outputs": [
    {
     "name": "stdout",
     "output_type": "stream",
     "text": [
      "WARNING:tensorflow:Layer lstm will not use cuDNN kernels since it doesn't meet the criteria. It will use a generic GPU kernel as fallback when running on GPU.\n",
      "WARNING:tensorflow:Layer lstm will not use cuDNN kernels since it doesn't meet the criteria. It will use a generic GPU kernel as fallback when running on GPU.\n",
      "WARNING:tensorflow:Layer lstm will not use cuDNN kernels since it doesn't meet the criteria. It will use a generic GPU kernel as fallback when running on GPU.\n",
      "Model: \"model\"\n",
      "_________________________________________________________________\n",
      " Layer (type)                Output Shape              Param #   \n",
      "=================================================================\n",
      " input_1 (InputLayer)        [(None, 50)]              0         \n",
      "                                                                 \n",
      " embedding (Embedding)       (None, 50, 50)            468000    \n",
      "                                                                 \n",
      " dropout (Dropout)           (None, 50, 50)            0         \n",
      "                                                                 \n",
      " bidirectional (Bidirectiona  (None, 50, 200)          120800    \n",
      " l)                                                              \n",
      "                                                                 \n",
      " time_distributed (TimeDistr  (None, 50, 8)            1608      \n",
      " ibuted)                                                         \n",
      "                                                                 \n",
      "=================================================================\n",
      "Total params: 590,408\n",
      "Trainable params: 590,408\n",
      "Non-trainable params: 0\n",
      "_________________________________________________________________\n"
     ]
    }
   ],
   "source": [
    "model = keras.models.load_model('../output/NER_model.h5')\n",
    "model.summary()"
   ]
  },
  {
   "cell_type": "code",
   "execution_count": 20,
   "metadata": {},
   "outputs": [
    {
     "name": "stderr",
     "output_type": "stream",
     "text": [
      "2022-08-22 16:37:17.876984: I tensorflow/core/grappler/optimizers/custom_graph_optimizer_registry.cc:113] Plugin optimizer for device_type GPU is enabled.\n"
     ]
    }
   ],
   "source": [
    "# word and tag 2 index\n",
    "# max_len = 50\n",
    "# word2idx = {w: i for i, w in enumerate(words)}\n",
    "# tag2idx = {t: i for i, t in enumerate(tags)}\n",
    "\n",
    "\n",
    "# Sentence to predict\n",
    "sentence = 'EXW QTY: 192 UNITS CONCENTRATE 7-UP, AS PER BENEFICIARY\\'S SALES QUOTATION NO. 790005454 DATED 02.01.2020'\n",
    "\n",
    "\n",
    "# Apply pre-processing steps from before\n",
    "def replace_dots(x):\n",
    "    return x.replace(':',' ')\n",
    "\n",
    "def replace_comma(x):\n",
    "    return x.replace(',','')\n",
    "\n",
    "sentence = replace_dots(replace_comma(sentence))\n",
    "\n",
    "\n",
    "\n",
    "words = sentence.split()\n",
    "\n",
    "import pickle\n",
    "# Save the embeddings\n",
    "with open(\"words_embeddings\", \"rb\") as fp: \n",
    "    word2idx = pickle.load(fp)\n",
    "\n",
    "\n",
    "# Embedding\n",
    "X = []\n",
    "for word in words:\n",
    "    X.append(word2idx[word])\n",
    "X\n",
    "\n",
    "max_len = 50 # taken from ner_nn.ipynb\n",
    "from keras.preprocessing.sequence import pad_sequences\n",
    "X = pad_sequences(maxlen=max_len, sequences=[X], padding=\"post\", value=len(word2idx)-1)\n",
    "\n",
    "# Apply the predict function\n",
    "output = model.predict(X)"
   ]
  },
  {
   "cell_type": "code",
   "execution_count": 136,
   "metadata": {},
   "outputs": [
    {
     "name": "stdout",
     "output_type": "stream",
     "text": [
      "4\n",
      "4\n",
      "4\n",
      "0\n",
      "4\n",
      "0\n",
      "0\n",
      "0\n",
      "4\n",
      "4\n",
      "4\n",
      "4\n",
      "4\n",
      "4\n",
      "4\n",
      "4\n",
      "4\n",
      "4\n",
      "4\n",
      "4\n",
      "4\n",
      "4\n",
      "4\n",
      "4\n",
      "4\n",
      "4\n",
      "4\n",
      "4\n",
      "4\n",
      "4\n",
      "4\n",
      "4\n",
      "4\n",
      "4\n",
      "4\n",
      "4\n",
      "4\n",
      "4\n",
      "4\n",
      "4\n",
      "4\n",
      "4\n",
      "4\n",
      "4\n",
      "4\n",
      "4\n",
      "4\n",
      "4\n",
      "4\n",
      "4\n"
     ]
    }
   ],
   "source": [
    "with open(\"tags_embeddings\", \"rb\") as fp: \n",
    "    tag2idx = pickle.load(fp)\n",
    "tag2idx = list(tag2idx)\n",
    "tag2idx\n",
    "\n",
    "predicted_output = []\n",
    "for word in output[0]:\n",
    "    print(word.argmax())\n",
    "    predicted_output.append(tag2idx[word.argmax()])"
   ]
  },
  {
   "cell_type": "code",
   "execution_count": 138,
   "metadata": {},
   "outputs": [],
   "source": [
    "df = pd.read_csv('../data/dataset_from_json.csv')"
   ]
  },
  {
   "cell_type": "code",
   "execution_count": 160,
   "metadata": {},
   "outputs": [
    {
     "data": {
      "text/plain": [
       "['CPT',\n",
       " 'LAHORE',\n",
       " 'AIRPORT',\n",
       " 'PAKISTAN',\n",
       " 'QTY',\n",
       " '1',\n",
       " 'PC',\n",
       " 'OF',\n",
       " 'MULTI',\n",
       " 'MODE',\n",
       " 'READER/TRINOCULAR',\n",
       " 'MICROSCOPE',\n",
       " 'SYSTEM',\n",
       " 'MODEL']"
      ]
     },
     "execution_count": 160,
     "metadata": {},
     "output_type": "execute_result"
    }
   ],
   "source": [
    "list(df[df['sentence #'] == 0]['words'])"
   ]
  },
  {
   "cell_type": "code",
   "execution_count": null,
   "metadata": {},
   "outputs": [],
   "source": [
    "['CPT,....,ENDPAD, ENDPAD,ENDPAD,ENDPAD,ENDPAD']"
   ]
  },
  {
   "cell_type": "code",
   "execution_count": 152,
   "metadata": {},
   "outputs": [
    {
     "data": {
      "text/plain": [
       "(1, 50)"
      ]
     },
     "execution_count": 152,
     "metadata": {},
     "output_type": "execute_result"
    }
   ],
   "source": [
    "words = list(df[df['sentence #'] == 0]['words'])\n",
    "X = []\n",
    "for word in words:\n",
    "    X.append(word2idx[word])\n",
    "\n",
    "max_len = 50 # taken from ner_nn.ipynb\n",
    "from keras.preprocessing.sequence import pad_sequences\n",
    "X = pad_sequences(maxlen=max_len, sequences=[X], padding=\"post\", value=len(word2idx)-1)\n",
    "X.shape"
   ]
  },
  {
   "cell_type": "code",
   "execution_count": null,
   "metadata": {},
   "outputs": [],
   "source": []
  },
  {
   "cell_type": "code",
   "execution_count": 153,
   "metadata": {},
   "outputs": [
    {
     "data": {
      "text/plain": [
       "(1, 50, 8)"
      ]
     },
     "execution_count": 153,
     "metadata": {},
     "output_type": "execute_result"
    }
   ],
   "source": [
    "_y = model.predict(X)\n",
    "_y.shape"
   ]
  },
  {
   "cell_type": "code",
   "execution_count": 168,
   "metadata": {},
   "outputs": [
    {
     "name": "stdout",
     "output_type": "stream",
     "text": [
      "0\n",
      "3\n",
      "4\n",
      "4\n",
      "4\n",
      "4\n",
      "0\n",
      "0\n",
      "4\n",
      "4\n",
      "4\n",
      "4\n",
      "4\n",
      "4\n",
      "4\n",
      "4\n",
      "4\n",
      "4\n",
      "4\n",
      "4\n",
      "4\n",
      "4\n",
      "4\n",
      "4\n",
      "4\n",
      "4\n",
      "4\n",
      "4\n",
      "4\n",
      "4\n",
      "4\n",
      "4\n",
      "4\n",
      "4\n",
      "4\n",
      "4\n",
      "4\n",
      "4\n",
      "4\n",
      "4\n",
      "4\n",
      "4\n",
      "4\n",
      "4\n",
      "4\n",
      "4\n",
      "4\n",
      "4\n",
      "4\n",
      "4\n"
     ]
    }
   ],
   "source": [
    "for prediction in _y[0]:\n",
    "    # print(len(prediction))\n",
    "    print(np.argmax(prediction))"
   ]
  },
  {
   "cell_type": "code",
   "execution_count": 154,
   "metadata": {},
   "outputs": [
    {
     "name": "stdout",
     "output_type": "stream",
     "text": [
      "0 Incoterms\n",
      "0 Incoterms\n",
      "0 Incoterms\n",
      "0 Incoterms\n",
      "6 O\n",
      "1 Quantity\n",
      "1 Quantity\n",
      "6 O\n",
      "3 GoodsDescription\n",
      "3 GoodsDescription\n",
      "3 GoodsDescription\n",
      "3 GoodsDescription\n",
      "3 GoodsDescription\n",
      "6 O\n"
     ]
    }
   ],
   "source": [
    "for tag in df[df['sentence #'] == 0]['tag']:\n",
    "    print(tag2idx.index(tag), tag)"
   ]
  },
  {
   "cell_type": "code",
   "execution_count": 169,
   "metadata": {},
   "outputs": [
    {
     "name": "stdout",
     "output_type": "stream",
     "text": [
      "Actual ('Incoterms', 'Incoterms') Predicted\n",
      "Actual ('Incoterms', 'GoodsDescription') Predicted\n",
      "Actual ('Incoterms', 'UnitPriceAmount') Predicted\n",
      "Actual ('Incoterms', 'UnitPriceAmount') Predicted\n",
      "Actual ('O', 'UnitPriceAmount') Predicted\n",
      "Actual ('Quantity', 'UnitPriceAmount') Predicted\n",
      "Actual ('Quantity', 'Incoterms') Predicted\n",
      "Actual ('O', 'Incoterms') Predicted\n",
      "Actual ('GoodsDescription', 'UnitPriceAmount') Predicted\n",
      "Actual ('GoodsDescription', 'UnitPriceAmount') Predicted\n"
     ]
    }
   ],
   "source": [
    "y_pred = []\n",
    "for word in _y[0]:\n",
    "    y_pred.append(tag2idx[word.argmax()])\n",
    "\n",
    "y = list(df[df['sentence #'] == 0]['tag'])\n",
    "for i in range(len(y_pred)-len(y)):\n",
    "    y.append('O')\n",
    "\n",
    "\n",
    "for i, val in enumerate(zip(y, y_pred)):\n",
    "    if i < 10:\n",
    "        print('Actual', val, 'Predicted')"
   ]
  },
  {
   "cell_type": "code",
   "execution_count": 156,
   "metadata": {},
   "outputs": [
    {
     "data": {
      "text/plain": [
       "<Figure size 1080x1080 with 0 Axes>"
      ]
     },
     "metadata": {},
     "output_type": "display_data"
    },
    {
     "data": {
      "image/png": "[encoded data removed]",
      "text/plain": [
       "<Figure size 432x288 with 2 Axes>"
      ]
     },
     "metadata": {
      "needs_background": "light"
     },
     "output_type": "display_data"
    }
   ],
   "source": [
    "from sklearn.metrics import confusion_matrix\n",
    "from sklearn.metrics import ConfusionMatrixDisplay\n",
    "import matplotlib.pyplot as plt\n",
    "\n",
    "plt.figure(figsize=(15,15))\n",
    "conf_matrix = ConfusionMatrixDisplay(confusion_matrix(y, y_pred))\n",
    "conf_matrix.plot()\n",
    "plt.show()"
   ]
  },
  {
   "cell_type": "code",
   "execution_count": 158,
   "metadata": {},
   "outputs": [
    {
     "name": "stdout",
     "output_type": "stream",
     "text": [
      "0 Incoterms\n",
      "1 Quantity\n",
      "2 Tolerance\n",
      "3 GoodsDescription\n",
      "4 UnitPriceAmount\n",
      "5 GoodsOrigin\n",
      "6 O\n",
      "7 HSCode\n"
     ]
    }
   ],
   "source": [
    "for i, v in enumerate(tag2idx):\n",
    "    print(i, v)"
   ]
  },
  {
   "cell_type": "code",
   "execution_count": null,
   "metadata": {},
   "outputs": [],
   "source": []
  }
 ],
 "metadata": {
  "kernelspec": {
   "display_name": "Python 3.8.12 ('hr')",
   "language": "python",
   "name": "python3"
  },
  "language_info": {
   "codemirror_mode": {
    "name": "ipython",
    "version": 3
   },
   "file_extension": ".py",
   "mimetype": "text/x-python",
   "name": "python",
   "nbconvert_exporter": "python",
   "pygments_lexer": "ipython3",
   "version": "3.8.12"
  },
  "orig_nbformat": 4,
  "vscode": {
   "interpreter": {
    "hash": "3b750cac4311e9fd618add7f135fe3e519a4aa0ff674a9c2788ad127b0f6cf49"
   }
  }
 },
 "nbformat": 4,
 "nbformat_minor": 2
}
