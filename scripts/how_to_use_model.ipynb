{
 "cells": [
  {
   "cell_type": "code",
   "execution_count": 1,
   "metadata": {},
   "outputs": [
    {
     "name": "stderr",
     "output_type": "stream",
     "text": [
      "2022-08-29 19:37:18.568381: W tensorflow/stream_executor/platform/default/dso_loader.cc:64] Could not load dynamic library 'libcudart.so.11.0'; dlerror: libcudart.so.11.0: cannot open shared object file: No such file or directory\n",
      "2022-08-29 19:37:18.568426: I tensorflow/stream_executor/cuda/cudart_stub.cc:29] Ignore above cudart dlerror if you do not have a GPU set up on your machine.\n"
     ]
    }
   ],
   "source": [
    "import numpy as np\n",
    "import pandas as pd\n",
    "import tensorflow as tf\n",
    "from tensorflow import keras"
   ]
  },
  {
   "cell_type": "code",
   "execution_count": 2,
   "metadata": {},
   "outputs": [
    {
     "name": "stderr",
     "output_type": "stream",
     "text": [
      "2022-08-29 19:37:21.070001: W tensorflow/stream_executor/platform/default/dso_loader.cc:64] Could not load dynamic library 'libcuda.so.1'; dlerror: libcuda.so.1: cannot open shared object file: No such file or directory\n",
      "2022-08-29 19:37:21.070044: W tensorflow/stream_executor/cuda/cuda_driver.cc:269] failed call to cuInit: UNKNOWN ERROR (303)\n",
      "2022-08-29 19:37:21.070071: I tensorflow/stream_executor/cuda/cuda_diagnostics.cc:156] kernel driver does not appear to be running on this host (TudorMLTest1): /proc/driver/nvidia/version does not exist\n",
      "2022-08-29 19:37:21.070349: I tensorflow/core/platform/cpu_feature_guard.cc:151] This TensorFlow binary is optimized with oneAPI Deep Neural Network Library (oneDNN) to use the following CPU instructions in performance-critical operations:  AVX2 FMA\n",
      "To enable them in other operations, rebuild TensorFlow with the appropriate compiler flags.\n"
     ]
    },
    {
     "name": "stdout",
     "output_type": "stream",
     "text": [
      "Model: \"model\"\n",
      "_________________________________________________________________\n",
      " Layer (type)                Output Shape              Param #   \n",
      "=================================================================\n",
      " input_1 (InputLayer)        [(None, 300)]             0         \n",
      "                                                                 \n",
      " embedding (Embedding)       (None, 300, 50)           468000    \n",
      "                                                                 \n",
      " dropout (Dropout)           (None, 300, 50)           0         \n",
      "                                                                 \n",
      " bidirectional (Bidirectiona  (None, 300, 400)         401600    \n",
      " l)                                                              \n",
      "                                                                 \n",
      " time_distributed (TimeDistr  (None, 300, 8)           3208      \n",
      " ibuted)                                                         \n",
      "                                                                 \n",
      "=================================================================\n",
      "Total params: 872,808\n",
      "Trainable params: 872,808\n",
      "Non-trainable params: 0\n",
      "_________________________________________________________________\n"
     ]
    }
   ],
   "source": [
    "model = keras.models.load_model('../output/NER_model_updated.h5')\n",
    "model.summary()"
   ]
  },
  {
   "cell_type": "markdown",
   "metadata": {},
   "source": [
    "# Pipeline\n",
    "This is an example of a full pipeline of a sentence that needs to be predicted.\n",
    "\n",
    "Steps:\n",
    "1. Apply pre-processing (replace the dots and the commas)\n",
    "2. Split the words\n",
    "3. Import the embeddings (created from the dataset)\n",
    "4. Pad the sequence\n",
    "5. Predict\n",
    "6. ???\n",
    "7. Profit"
   ]
  },
  {
   "cell_type": "code",
   "execution_count": 10,
   "metadata": {},
   "outputs": [
    {
     "name": "stdout",
     "output_type": "stream",
     "text": [
      "Original word:  EXW === Predicted Tag:  Incoterms\n",
      "Original word:  QTY === Predicted Tag:  O\n",
      "Original word:  192 === Predicted Tag:  Quantity\n",
      "Original word:  UNITS === Predicted Tag:  Quantity\n",
      "Original word:  CONCENTRATE === Predicted Tag:  GoodsDescription\n",
      "Original word:  7-UP === Predicted Tag:  GoodsDescription\n",
      "Original word:  AS === Predicted Tag:  O\n",
      "Original word:  PER === Predicted Tag:  O\n",
      "Original word:  BENEFICIARY'S === Predicted Tag:  O\n",
      "Original word:  SALES === Predicted Tag:  O\n",
      "Original word:  QUOTATION === Predicted Tag:  O\n",
      "Original word:  NO. === Predicted Tag:  O\n",
      "Original word:  790005454 === Predicted Tag:  O\n",
      "Original word:  DATED === Predicted Tag:  O\n",
      "Original word:  02.01.2020 === Predicted Tag:  O\n"
     ]
    }
   ],
   "source": [
    "# word and tag 2 index\n",
    "# max_len = 50\n",
    "# word2idx = {w: i for i, w in enumerate(words)}\n",
    "# tag2idx = {t: i for i, t in enumerate(tags)}\n",
    "\n",
    "\n",
    "# Sentence to predict\n",
    "sentence = 'EXW QTY: 192 UNITS CONCENTRATE 7-UP, AS PER BENEFICIARY\\'S SALES QUOTATION NO. 790005454 DATED 02.01.2020'\n",
    "\n",
    "\n",
    "# Apply pre-processing steps from before\n",
    "def replace_dots(x):\n",
    "    return x.replace(':',' ')\n",
    "\n",
    "def replace_comma(x):\n",
    "    return x.replace(',','')\n",
    "\n",
    "sentence = replace_dots(replace_comma(sentence))\n",
    "\n",
    "words = sentence.split()\n",
    "\n",
    "import pickle\n",
    "# Save the embeddings\n",
    "with open(\"words_embeddings\", \"rb\") as fp: \n",
    "    word2idx = pickle.load(fp)\n",
    "\n",
    "\n",
    "# Embedding\n",
    "X = []\n",
    "for word in words:\n",
    "    X.append(word2idx[word])\n",
    "X\n",
    "\n",
    "max_len = 300 # taken from ner_nn.ipynb\n",
    "from keras.preprocessing.sequence import pad_sequences\n",
    "X = pad_sequences(maxlen=max_len, sequences=[X], padding=\"post\", value=len(word2idx)-1)\n",
    "\n",
    "# Apply the predict function\n",
    "output = model.predict(X)\n",
    "\n",
    "with open(\"tags_embeddings\", \"rb\") as fp: \n",
    "    tag2idx = pickle.load(fp)\n",
    "tag2idx = list(tag2idx)\n",
    "tag2idx\n",
    "\n",
    "predicted_output = []\n",
    "for word in output[0]:\n",
    "    predicted_output.append(tag2idx[word.argmax()])\n",
    "\n",
    "for i in range(len(words)):\n",
    "    print('Original word: ', words[i], '=== Predicted Tag: ', predicted_output[i])\n",
    "# predicted_output"
   ]
  },
  {
   "cell_type": "code",
   "execution_count": 11,
   "metadata": {},
   "outputs": [
    {
     "data": {
      "text/plain": [
       "(1, 300)"
      ]
     },
     "execution_count": 11,
     "metadata": {},
     "output_type": "execute_result"
    }
   ],
   "source": [
    "df = pd.read_csv('../data/dataset_from_json.csv')\n",
    "\n",
    "words = list(df[df['sentence #'] == 0]['words'])\n",
    "\n",
    "X = []\n",
    "for word in words:\n",
    "    X.append(word2idx[word])\n",
    "\n",
    "max_len = 300 # taken from ner_nn.ipynb\n",
    "\n",
    "from keras.preprocessing.sequence import pad_sequences\n",
    "\n",
    "X = pad_sequences(maxlen=max_len, sequences=[X], padding=\"post\", value=len(word2idx)-1)\n",
    "X.shape"
   ]
  },
  {
   "cell_type": "code",
   "execution_count": 12,
   "metadata": {},
   "outputs": [
    {
     "data": {
      "text/plain": [
       "(1, 300, 8)"
      ]
     },
     "execution_count": 12,
     "metadata": {},
     "output_type": "execute_result"
    }
   ],
   "source": [
    "_y = model.predict(X)\n",
    "_y.shape"
   ]
  },
  {
   "cell_type": "code",
   "execution_count": 14,
   "metadata": {},
   "outputs": [
    {
     "name": "stdout",
     "output_type": "stream",
     "text": [
      "4 Incoterms\n",
      "4 Incoterms\n",
      "4 Incoterms\n",
      "4 Incoterms\n",
      "2 O\n",
      "0 Quantity\n",
      "0 Quantity\n",
      "2 O\n",
      "3 GoodsDescription\n",
      "3 GoodsDescription\n",
      "3 GoodsDescription\n",
      "3 GoodsDescription\n",
      "3 GoodsDescription\n",
      "2 O\n"
     ]
    }
   ],
   "source": [
    "for tag in df[df['sentence #'] == 0]['tag']:\n",
    "    print(tag2idx.index(tag), tag)"
   ]
  },
  {
   "cell_type": "code",
   "execution_count": 15,
   "metadata": {},
   "outputs": [
    {
     "name": "stdout",
     "output_type": "stream",
     "text": [
      "Actual ('Incoterms', 'Incoterms') Predicted\n",
      "Actual ('Incoterms', 'Incoterms') Predicted\n",
      "Actual ('Incoterms', 'Incoterms') Predicted\n",
      "Actual ('Incoterms', 'Incoterms') Predicted\n",
      "Actual ('O', 'O') Predicted\n",
      "Actual ('Quantity', 'Quantity') Predicted\n",
      "Actual ('Quantity', 'Quantity') Predicted\n",
      "Actual ('O', 'O') Predicted\n",
      "Actual ('GoodsDescription', 'GoodsDescription') Predicted\n",
      "Actual ('GoodsDescription', 'GoodsDescription') Predicted\n"
     ]
    }
   ],
   "source": [
    "y_pred = []\n",
    "for word in _y[0]:\n",
    "    y_pred.append(tag2idx[word.argmax()])\n",
    "\n",
    "y = list(df[df['sentence #'] == 0]['tag'])\n",
    "for i in range(len(y_pred)-len(y)):\n",
    "    y.append('O')\n",
    "\n",
    "\n",
    "for i, val in enumerate(zip(y, y_pred)):\n",
    "    if i < 10:\n",
    "        print('Actual', val, 'Predicted')"
   ]
  },
  {
   "cell_type": "code",
   "execution_count": 16,
   "metadata": {},
   "outputs": [
    {
     "data": {
      "text/plain": [
       "<Figure size 1080x1080 with 0 Axes>"
      ]
     },
     "metadata": {},
     "output_type": "display_data"
    },
    {
     "data": {
      "image/png": "[encoded data removed]",
      "text/plain": [
       "<Figure size 432x288 with 2 Axes>"
      ]
     },
     "metadata": {
      "needs_background": "light"
     },
     "output_type": "display_data"
    }
   ],
   "source": [
    "from sklearn.metrics import confusion_matrix\n",
    "from sklearn.metrics import ConfusionMatrixDisplay\n",
    "import matplotlib.pyplot as plt\n",
    "\n",
    "plt.figure(figsize=(15,15))\n",
    "conf_matrix = ConfusionMatrixDisplay(confusion_matrix(y, y_pred))\n",
    "conf_matrix.plot()\n",
    "plt.show()"
   ]
  },
  {
   "cell_type": "code",
   "execution_count": 17,
   "metadata": {},
   "outputs": [
    {
     "name": "stdout",
     "output_type": "stream",
     "text": [
      "0 Quantity\n",
      "1 UnitPriceAmount\n",
      "2 O\n",
      "3 GoodsDescription\n",
      "4 Incoterms\n",
      "5 GoodsOrigin\n",
      "6 Tolerance\n",
      "7 HSCode\n"
     ]
    }
   ],
   "source": [
    "for i, v in enumerate(tag2idx):\n",
    "    print(i, v)"
   ]
  }
 ],
 "metadata": {
  "kernelspec": {
   "display_name": "Python 3.8.13 ('hr')",
   "language": "python",
   "name": "python3"
  },
  "language_info": {
   "codemirror_mode": {
    "name": "ipython",
    "version": 3
   },
   "file_extension": ".py",
   "mimetype": "text/x-python",
   "name": "python",
   "nbconvert_exporter": "python",
   "pygments_lexer": "ipython3",
   "version": "3.8.13"
  },
  "orig_nbformat": 4,
  "vscode": {
   "interpreter": {
    "hash": "6ac56e923553ae260eadc6a8fc47cb8610e6932d01c07ad0ad2ed4868b3c09b0"
   }
  }
 },
 "nbformat": 4,
 "nbformat_minor": 2
}
