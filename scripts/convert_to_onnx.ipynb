{
 "cells": [
  {
   "cell_type": "code",
   "execution_count": 20,
   "metadata": {},
   "outputs": [
    {
     "name": "stdout",
     "output_type": "stream",
     "text": [
      "WARNING:tensorflow:Layer lstm will not use cuDNN kernels since it doesn't meet the criteria. It will use a generic GPU kernel as fallback when running on GPU.\n",
      "WARNING:tensorflow:Layer lstm will not use cuDNN kernels since it doesn't meet the criteria. It will use a generic GPU kernel as fallback when running on GPU.\n",
      "WARNING:tensorflow:Layer lstm will not use cuDNN kernels since it doesn't meet the criteria. It will use a generic GPU kernel as fallback when running on GPU.\n",
      "Model: \"model\"\n",
      "_________________________________________________________________\n",
      " Layer (type)                Output Shape              Param #   \n",
      "=================================================================\n",
      " input_1 (InputLayer)        [(None, 300)]             0         \n",
      "                                                                 \n",
      " embedding (Embedding)       (None, 300, 50)           468000    \n",
      "                                                                 \n",
      " dropout (Dropout)           (None, 300, 50)           0         \n",
      "                                                                 \n",
      " bidirectional (Bidirectiona  (None, 300, 400)         401600    \n",
      " l)                                                              \n",
      "                                                                 \n",
      " time_distributed (TimeDistr  (None, 300, 8)           3208      \n",
      " ibuted)                                                         \n",
      "                                                                 \n",
      "=================================================================\n",
      "Total params: 872,808\n",
      "Trainable params: 872,808\n",
      "Non-trainable params: 0\n",
      "_________________________________________________________________\n"
     ]
    }
   ],
   "source": [
    "import numpy as np\n",
    "import pandas as pd\n",
    "import tensorflow as tf\n",
    "from tensorflow import keras\n",
    "\n",
    "model = keras.models.load_model('../output/NER_model_updated.h5')\n",
    "model.summary()"
   ]
  },
  {
   "cell_type": "code",
   "execution_count": 21,
   "metadata": {},
   "outputs": [
    {
     "name": "stdout",
     "output_type": "stream",
     "text": [
      "INFO:tensorflow:Assets written to: ../output/convert_graph_onnx/assets\n"
     ]
    }
   ],
   "source": [
    "tf.saved_model.save(model, \"../output/convert_graph_onnx\")"
   ]
  },
  {
   "cell_type": "code",
   "execution_count": 23,
   "metadata": {},
   "outputs": [
    {
     "name": "stdout",
     "output_type": "stream",
     "text": [
      "/Users/claudiufilip/miniforge3/envs/hr/lib/python3.8/runpy.py:127: RuntimeWarning: 'tf2onnx.convert' found in sys.modules after import of package 'tf2onnx', but prior to execution of 'tf2onnx.convert'; this may result in unpredictable behaviour\n",
      "  warn(RuntimeWarning(msg))\n",
      "Metal device set to: Apple M1 Pro\n",
      "\n",
      "systemMemory: 16.00 GB\n",
      "maxCacheSize: 5.33 GB\n",
      "\n",
      "2022-09-15 10:39:13,060 - WARNING - '--tag' not specified for saved_model. Using --tag serve\n",
      "2022-09-15 10:39:14,177 - INFO - Signatures found in model: [serving_default].\n",
      "2022-09-15 10:39:14,177 - WARNING - '--signature_def' not specified, using first signature: serving_default\n",
      "2022-09-15 10:39:14,177 - INFO - Output names: ['time_distributed']\n",
      "WARNING:tensorflow:From /Users/claudiufilip/miniforge3/envs/hr/lib/python3.8/site-packages/tf2onnx/tf_loader.py:711: extract_sub_graph (from tensorflow.python.framework.graph_util_impl) is deprecated and will be removed in a future version.\n",
      "Instructions for updating:\n",
      "Use `tf.compat.v1.graph_util.extract_sub_graph`\n",
      "2022-09-15 10:39:14,339 - WARNING - From /Users/claudiufilip/miniforge3/envs/hr/lib/python3.8/site-packages/tf2onnx/tf_loader.py:711: extract_sub_graph (from tensorflow.python.framework.graph_util_impl) is deprecated and will be removed in a future version.\n",
      "Instructions for updating:\n",
      "Use `tf.compat.v1.graph_util.extract_sub_graph`\n",
      "2022-09-15 10:39:14,454 - INFO - Using tensorflow=2.8.0, onnx=1.12.0, tf2onnx=1.12.0/a58786\n",
      "2022-09-15 10:39:14,454 - INFO - Using opset <onnx, 13>\n",
      "2022-09-15 10:39:14,654 - INFO - Computed 0 values for constant folding\n",
      "2022-09-15 10:39:14,661 - INFO - Computed 0 values for constant folding\n",
      "2022-09-15 10:39:14,662 - INFO - Computed 0 values for constant folding\n",
      "2022-09-15 10:39:14,663 - INFO - Computed 0 values for constant folding\n",
      "2022-09-15 10:39:14,801 - INFO - Computed 2 values for constant folding\n",
      "2022-09-15 10:39:14,966 - INFO - folding node using tf type=StridedSlice, name=StatefulPartitionedCall/model/bidirectional/forward_lstm/strided_slice_1\n",
      "2022-09-15 10:39:14,966 - INFO - folding node using tf type=StridedSlice, name=StatefulPartitionedCall/model/bidirectional/backward_lstm/strided_slice_1\n",
      "2022-09-15 10:39:15,044 - INFO - Optimizing ONNX model\n",
      "2022-09-15 10:39:15,511 - INFO - After optimization: Cast -10 (21->11), Concat -3 (5->2), Const -49 (95->46), Expand -3 (8->5), Identity -68 (70->2), Less -1 (4->3), Placeholder -2 (21->19), Shape -2 (8->6), Slice -1 (10->9), Squeeze -2 (2->0), Transpose -2 (6->4), Unsqueeze -8 (8->0)\n",
      "2022-09-15 10:39:15,519 - INFO - \n",
      "2022-09-15 10:39:15,520 - INFO - Successfully converted TensorFlow model ../output/convert_graph_onnx to ONNX\n",
      "2022-09-15 10:39:15,520 - INFO - Model inputs: ['input_1']\n",
      "2022-09-15 10:39:15,520 - INFO - Model outputs: ['time_distributed']\n",
      "2022-09-15 10:39:15,520 - INFO - ONNX model is saved at ../output/model.onnx\n"
     ]
    }
   ],
   "source": [
    "!python -m tf2onnx.convert --saved-model ../output/convert_graph_onnx --output \"../output/model.onnx\""
   ]
  },
  {
   "cell_type": "code",
   "execution_count": null,
   "metadata": {},
   "outputs": [],
   "source": []
  }
 ],
 "metadata": {
  "kernelspec": {
   "display_name": "Python 3.8.12 ('hr')",
   "language": "python",
   "name": "python3"
  },
  "language_info": {
   "codemirror_mode": {
    "name": "ipython",
    "version": 3
   },
   "file_extension": ".py",
   "mimetype": "text/x-python",
   "name": "python",
   "nbconvert_exporter": "python",
   "pygments_lexer": "ipython3",
   "version": "3.8.12"
  },
  "orig_nbformat": 4,
  "vscode": {
   "interpreter": {
    "hash": "3b750cac4311e9fd618add7f135fe3e519a4aa0ff674a9c2788ad127b0f6cf49"
   }
  }
 },
 "nbformat": 4,
 "nbformat_minor": 2
}
