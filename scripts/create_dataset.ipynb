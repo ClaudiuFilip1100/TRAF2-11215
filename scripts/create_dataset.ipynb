{
 "cells": [
  {
   "cell_type": "code",
   "execution_count": 1,
   "outputs": [],
   "source": [
    "import pandas as pd"
   ],
   "metadata": {
    "collapsed": false,
    "pycharm": {
     "name": "#%%\n"
    }
   }
  },
  {
   "cell_type": "markdown",
   "source": [
    "So, I need to create a tokenizer? I think.\n",
    "\n",
    "I need to start by creating a column `sentence`. And split everything into `words`."
   ],
   "metadata": {
    "collapsed": false,
    "pycharm": {
     "name": "#%% md\n"
    }
   }
  },
  {
   "cell_type": "code",
   "execution_count": 2,
   "outputs": [
    {
     "data": {
      "text/plain": "0    FOB MULTI CODES DENIM FABRIC AS PER PROFORMA I...\n1    CPT LAHORE AIRPORTPAKISTAN PHARMACEUTICAL ALLO...\n2    CFR KEAMARI KARACHI SEAPORT/PORT QASIMPAKISTAN...\n3    CFR ANY PORT OF KARACHI HARDWARE FITTINGS ACCE...\n4    CPT LAHORE AIRPORTPAKISTAN 1 QTY  01 PC SPINNE...\nName: 0, dtype: object"
     },
     "execution_count": 2,
     "metadata": {},
     "output_type": "execute_result"
    }
   ],
   "source": [
    "init_df = pd.read_csv('../data/cleaned_dataset.csv', header=None)\n",
    "init_df = init_df[0]\n",
    "init_df.head()"
   ],
   "metadata": {
    "collapsed": false,
    "pycharm": {
     "name": "#%%\n"
    }
   }
  },
  {
   "cell_type": "code",
   "execution_count": 3,
   "outputs": [
    {
     "data": {
      "text/plain": "58880"
     },
     "execution_count": 3,
     "metadata": {},
     "output_type": "execute_result"
    }
   ],
   "source": [
    "# create DataFrame\n",
    "df = pd.DataFrame()\n",
    "for idx, sentence in enumerate(init_df):\n",
    "    # create a dict with the sentence nr. and each individual word\n",
    "    words = pd.DataFrame({'words': init_df[idx].split(), 'sentence #': idx})\n",
    "    df = pd.concat([df, words])\n",
    "\n",
    "df['tag'] = ['O' for _ in range(len(df))]\n",
    "\n",
    "len(df)"
   ],
   "metadata": {
    "collapsed": false,
    "pycharm": {
     "name": "#%%\n"
    }
   }
  },
  {
   "cell_type": "code",
   "execution_count": 4,
   "outputs": [
    {
     "data": {
      "text/plain": "    words  sentence # tag\n0     FOB           0   O\n1   MULTI           0   O\n2   CODES           0   O\n3   DENIM           0   O\n4  FABRIC           0   O",
      "text/html": "<div>\n<style scoped>\n    .dataframe tbody tr th:only-of-type {\n        vertical-align: middle;\n    }\n\n    .dataframe tbody tr th {\n        vertical-align: top;\n    }\n\n    .dataframe thead th {\n        text-align: right;\n    }\n</style>\n<table border=\"1\" class=\"dataframe\">\n  <thead>\n    <tr style=\"text-align: right;\">\n      <th></th>\n      <th>words</th>\n      <th>sentence #</th>\n      <th>tag</th>\n    </tr>\n  </thead>\n  <tbody>\n    <tr>\n      <th>0</th>\n      <td>FOB</td>\n      <td>0</td>\n      <td>O</td>\n    </tr>\n    <tr>\n      <th>1</th>\n      <td>MULTI</td>\n      <td>0</td>\n      <td>O</td>\n    </tr>\n    <tr>\n      <th>2</th>\n      <td>CODES</td>\n      <td>0</td>\n      <td>O</td>\n    </tr>\n    <tr>\n      <th>3</th>\n      <td>DENIM</td>\n      <td>0</td>\n      <td>O</td>\n    </tr>\n    <tr>\n      <th>4</th>\n      <td>FABRIC</td>\n      <td>0</td>\n      <td>O</td>\n    </tr>\n  </tbody>\n</table>\n</div>"
     },
     "execution_count": 4,
     "metadata": {},
     "output_type": "execute_result"
    }
   ],
   "source": [
    "df.words = df.words.apply(lambda x: x.strip()) # remove whitespaces\n",
    "\n",
    "df.head()"
   ],
   "metadata": {
    "collapsed": false,
    "pycharm": {
     "name": "#%%\n"
    }
   }
  },
  {
   "cell_type": "markdown",
   "source": [
    "The next step is tagging.\n",
    "\n",
    "### In NER tagging refers to the target variable, but it's a bit more complicated than just predicting an output value.\n",
    "\n",
    "That's why we introduce the concept of tags.\n",
    "\n",
    "\n",
    "We need to manually tag each word with its corresponding tag. In normal circumstances, we would also use POS (part of sentence), but since these aren't always sentence we will do without it.\n",
    "\n",
    "For now, I will create two tags:\n",
    "### Net Weight (B-NW, I-NW) and Goods Origin (B-GO, I-GO).\n",
    "\n",
    "This will be a PROOF OF CONCEPT to show that NER is the way to go."
   ],
   "metadata": {
    "collapsed": false,
    "pycharm": {
     "name": "#%% md\n"
    }
   }
  },
  {
   "cell_type": "code",
   "execution_count": 5,
   "outputs": [],
   "source": [
    "df.to_csv('../data/dataset.csv', index=False)"
   ],
   "metadata": {
    "collapsed": false,
    "pycharm": {
     "name": "#%%\n"
    }
   }
  },
  {
   "cell_type": "markdown",
   "source": [
    "![Tagging](../data/tagging_example.png)\n",
    "An example of tagging."
   ],
   "metadata": {
    "collapsed": false,
    "pycharm": {
     "name": "#%% md\n"
    }
   }
  }
 ],
 "metadata": {
  "kernelspec": {
   "name": "python3",
   "language": "python",
   "display_name": "Python 3 (ipykernel)"
  },
  "language_info": {
   "codemirror_mode": {
    "name": "ipython",
    "version": 2
   },
   "file_extension": ".py",
   "mimetype": "text/x-python",
   "name": "python",
   "nbconvert_exporter": "python",
   "pygments_lexer": "ipython2",
   "version": "2.7.6"
  }
 },
 "nbformat": 4,
 "nbformat_minor": 0
}