{
 "cells": [
  {
   "cell_type": "code",
   "execution_count": 1,
   "metadata": {
    "collapsed": false,
    "pycharm": {
     "name": "#%%\n"
    }
   },
   "outputs": [],
   "source": [
    "import numpy as np\n",
    "import pandas as pd"
   ]
  },
  {
   "cell_type": "code",
   "execution_count": 2,
   "metadata": {
    "collapsed": false,
    "pycharm": {
     "name": "#%%\n"
    }
   },
   "outputs": [
    {
     "data": {
      "text/html": [
       "<div>\n",
       "<style scoped>\n",
       "    .dataframe tbody tr th:only-of-type {\n",
       "        vertical-align: middle;\n",
       "    }\n",
       "\n",
       "    .dataframe tbody tr th {\n",
       "        vertical-align: top;\n",
       "    }\n",
       "\n",
       "    .dataframe thead th {\n",
       "        text-align: right;\n",
       "    }\n",
       "</style>\n",
       "<table border=\"1\" class=\"dataframe\">\n",
       "  <thead>\n",
       "    <tr style=\"text-align: right;\">\n",
       "      <th></th>\n",
       "      <th>words</th>\n",
       "      <th>sentence #</th>\n",
       "      <th>tag</th>\n",
       "    </tr>\n",
       "  </thead>\n",
       "  <tbody>\n",
       "    <tr>\n",
       "      <th>0</th>\n",
       "      <td>CPT</td>\n",
       "      <td>0</td>\n",
       "      <td>Incoterms</td>\n",
       "    </tr>\n",
       "    <tr>\n",
       "      <th>1</th>\n",
       "      <td>LAHORE</td>\n",
       "      <td>0</td>\n",
       "      <td>Incoterms</td>\n",
       "    </tr>\n",
       "    <tr>\n",
       "      <th>2</th>\n",
       "      <td>AIRPORT</td>\n",
       "      <td>0</td>\n",
       "      <td>Incoterms</td>\n",
       "    </tr>\n",
       "    <tr>\n",
       "      <th>3</th>\n",
       "      <td>PAKISTAN</td>\n",
       "      <td>0</td>\n",
       "      <td>Incoterms</td>\n",
       "    </tr>\n",
       "    <tr>\n",
       "      <th>4</th>\n",
       "      <td>QTY</td>\n",
       "      <td>0</td>\n",
       "      <td>O</td>\n",
       "    </tr>\n",
       "  </tbody>\n",
       "</table>\n",
       "</div>"
      ],
      "text/plain": [
       "      words  sentence #        tag\n",
       "0       CPT           0  Incoterms\n",
       "1    LAHORE           0  Incoterms\n",
       "2   AIRPORT           0  Incoterms\n",
       "3  PAKISTAN           0  Incoterms\n",
       "4       QTY           0          O"
      ]
     },
     "execution_count": 2,
     "metadata": {},
     "output_type": "execute_result"
    }
   ],
   "source": [
    "df = pd.read_csv('../data/dataset_from_json.csv')\n",
    "df.head()"
   ]
  },
  {
   "cell_type": "code",
   "execution_count": 3,
   "metadata": {
    "collapsed": false,
    "pycharm": {
     "name": "#%%\n"
    }
   },
   "outputs": [
    {
     "data": {
      "text/plain": [
       "(9359, 60340)"
      ]
     },
     "execution_count": 3,
     "metadata": {},
     "output_type": "execute_result"
    }
   ],
   "source": [
    "len(set(df.words)), len(df)"
   ]
  },
  {
   "cell_type": "code",
   "execution_count": 4,
   "metadata": {
    "collapsed": false,
    "pycharm": {
     "name": "#%%\n"
    }
   },
   "outputs": [
    {
     "data": {
      "text/plain": [
       "('ENDPAD', 9360)"
      ]
     },
     "execution_count": 4,
     "metadata": {},
     "output_type": "execute_result"
    }
   ],
   "source": [
    "words = list(set(df[\"words\"].values))\n",
    "words.append(\"ENDPAD\")\n",
    "n_words = len(words)\n",
    "words[-1], n_words"
   ]
  },
  {
   "cell_type": "code",
   "execution_count": 5,
   "metadata": {
    "collapsed": false,
    "pycharm": {
     "name": "#%%\n"
    }
   },
   "outputs": [
    {
     "data": {
      "text/plain": [
       "(['Quantity',\n",
       "  'UnitPriceAmount',\n",
       "  'O',\n",
       "  'GoodsDescription',\n",
       "  'Incoterms',\n",
       "  'GoodsOrigin',\n",
       "  'Tolerance',\n",
       "  'HSCode'],\n",
       " 8)"
      ]
     },
     "execution_count": 5,
     "metadata": {},
     "output_type": "execute_result"
    }
   ],
   "source": [
    "tags = list(set(df['tag'].values))\n",
    "n_tags = len(tags)\n",
    "tags, n_tags"
   ]
  },
  {
   "cell_type": "markdown",
   "metadata": {
    "pycharm": {
     "name": "#%% md\n"
    }
   },
   "source": [
    "# Analyse the tags\n",
    "\n",
    "How many types of tags do you have?\n",
    "How many of each tags do you have?\n",
    "Which ones do you predict the best?"
   ]
  },
  {
   "cell_type": "code",
   "execution_count": 6,
   "metadata": {
    "pycharm": {
     "name": "#%%\n"
    }
   },
   "outputs": [
    {
     "name": "stdout",
     "output_type": "stream",
     "text": [
      "['Quantity', 'UnitPriceAmount', 'O', 'GoodsDescription', 'Incoterms', 'GoodsOrigin', 'Tolerance', 'HSCode'] 8\n"
     ]
    },
    {
     "data": {
      "text/plain": [
       "tag\n",
       "GoodsDescription     9463\n",
       "GoodsOrigin            46\n",
       "HSCode                 31\n",
       "Incoterms            7633\n",
       "O                   30686\n",
       "Quantity             4524\n",
       "Tolerance             177\n",
       "UnitPriceAmount      7780\n",
       "Name: tag, dtype: int64"
      ]
     },
     "execution_count": 6,
     "metadata": {},
     "output_type": "execute_result"
    }
   ],
   "source": [
    "print(tags, n_tags)\n",
    "\n",
    "df['tag'].groupby(df['tag']).size()"
   ]
  },
  {
   "cell_type": "markdown",
   "metadata": {},
   "source": [
    "# Over-sample the minority classes.\n",
    "In our case, I believe resampling the `GoodsOrigin`, `HSCode` and `Tolerance` until they reach 3.000 elements should be fine.\n",
    "\n",
    "If we were to not have used text, I would have used better re-sampling methods, such as bootstrapping or StratifiedShuffleSplit, but because of the complexity of data I need to simple double the data. As such, I've had to artificially reproduce all the smallest values."
   ]
  },
  {
   "cell_type": "code",
   "execution_count": 7,
   "metadata": {},
   "outputs": [],
   "source": [
    "need_resampling = ['GoodsOrigin', 'HSCode', 'Tolerance']\n",
    "\n",
    "grouping = df.groupby(df['sentence #'])\n",
    "new_df = grouping.filter(lambda x: (x['tag'].apply(lambda tag: tag in need_resampling)).any())"
   ]
  },
  {
   "cell_type": "code",
   "execution_count": 8,
   "metadata": {},
   "outputs": [
    {
     "data": {
      "text/plain": [
       "sentence #\n",
       "28       40\n",
       "54      114\n",
       "187     115\n",
       "208     181\n",
       "230      53\n",
       "       ... \n",
       "1542     34\n",
       "1565     37\n",
       "1566     58\n",
       "1584     33\n",
       "1603     35\n",
       "Name: sentence #, Length: 79, dtype: int64"
      ]
     },
     "execution_count": 8,
     "metadata": {},
     "output_type": "execute_result"
    }
   ],
   "source": [
    "new_df['sentence #'].groupby(new_df['sentence #']).count()"
   ]
  },
  {
   "cell_type": "code",
   "execution_count": 9,
   "metadata": {},
   "outputs": [
    {
     "data": {
      "text/html": [
       "<div>\n",
       "<style scoped>\n",
       "    .dataframe tbody tr th:only-of-type {\n",
       "        vertical-align: middle;\n",
       "    }\n",
       "\n",
       "    .dataframe tbody tr th {\n",
       "        vertical-align: top;\n",
       "    }\n",
       "\n",
       "    .dataframe thead th {\n",
       "        text-align: right;\n",
       "    }\n",
       "</style>\n",
       "<table border=\"1\" class=\"dataframe\">\n",
       "  <thead>\n",
       "    <tr style=\"text-align: right;\">\n",
       "      <th></th>\n",
       "      <th>words</th>\n",
       "      <th>sentence #</th>\n",
       "      <th>tag</th>\n",
       "    </tr>\n",
       "  </thead>\n",
       "  <tbody>\n",
       "    <tr>\n",
       "      <th>776</th>\n",
       "      <td>CFR</td>\n",
       "      <td>28</td>\n",
       "      <td>Incoterms</td>\n",
       "    </tr>\n",
       "    <tr>\n",
       "      <th>777</th>\n",
       "      <td>PAKISTAN</td>\n",
       "      <td>28</td>\n",
       "      <td>Incoterms</td>\n",
       "    </tr>\n",
       "    <tr>\n",
       "      <th>778</th>\n",
       "      <td>INTERNATIONAL</td>\n",
       "      <td>28</td>\n",
       "      <td>Incoterms</td>\n",
       "    </tr>\n",
       "    <tr>\n",
       "      <th>779</th>\n",
       "      <td>BULK</td>\n",
       "      <td>28</td>\n",
       "      <td>Incoterms</td>\n",
       "    </tr>\n",
       "    <tr>\n",
       "      <th>780</th>\n",
       "      <td>TERMINAL</td>\n",
       "      <td>28</td>\n",
       "      <td>Incoterms</td>\n",
       "    </tr>\n",
       "  </tbody>\n",
       "</table>\n",
       "</div>"
      ],
      "text/plain": [
       "             words  sentence #        tag\n",
       "776            CFR          28  Incoterms\n",
       "777       PAKISTAN          28  Incoterms\n",
       "778  INTERNATIONAL          28  Incoterms\n",
       "779           BULK          28  Incoterms\n",
       "780       TERMINAL          28  Incoterms"
      ]
     },
     "execution_count": 9,
     "metadata": {},
     "output_type": "execute_result"
    }
   ],
   "source": [
    "new_df.head()"
   ]
  },
  {
   "cell_type": "code",
   "execution_count": 10,
   "metadata": {},
   "outputs": [
    {
     "name": "stderr",
     "output_type": "stream",
     "text": [
      "/tmp/ipykernel_601499/388070888.py:9: FutureWarning: The frame.append method is deprecated and will be removed from pandas in a future version. Use pandas.concat instead.\n",
      "  df = df.append(new_df).reset_index()\n",
      "/tmp/ipykernel_601499/388070888.py:9: FutureWarning: The frame.append method is deprecated and will be removed from pandas in a future version. Use pandas.concat instead.\n",
      "  df = df.append(new_df).reset_index()\n",
      "/tmp/ipykernel_601499/388070888.py:9: FutureWarning: The frame.append method is deprecated and will be removed from pandas in a future version. Use pandas.concat instead.\n",
      "  df = df.append(new_df).reset_index()\n",
      "/tmp/ipykernel_601499/388070888.py:9: FutureWarning: The frame.append method is deprecated and will be removed from pandas in a future version. Use pandas.concat instead.\n",
      "  df = df.append(new_df).reset_index()\n",
      "/tmp/ipykernel_601499/388070888.py:9: FutureWarning: The frame.append method is deprecated and will be removed from pandas in a future version. Use pandas.concat instead.\n",
      "  df = df.append(new_df).reset_index()\n",
      "/tmp/ipykernel_601499/388070888.py:9: FutureWarning: The frame.append method is deprecated and will be removed from pandas in a future version. Use pandas.concat instead.\n",
      "  df = df.append(new_df).reset_index()\n",
      "/tmp/ipykernel_601499/388070888.py:9: FutureWarning: The frame.append method is deprecated and will be removed from pandas in a future version. Use pandas.concat instead.\n",
      "  df = df.append(new_df).reset_index()\n",
      "/tmp/ipykernel_601499/388070888.py:9: FutureWarning: The frame.append method is deprecated and will be removed from pandas in a future version. Use pandas.concat instead.\n",
      "  df = df.append(new_df).reset_index()\n",
      "/tmp/ipykernel_601499/388070888.py:9: FutureWarning: The frame.append method is deprecated and will be removed from pandas in a future version. Use pandas.concat instead.\n",
      "  df = df.append(new_df).reset_index()\n",
      "/tmp/ipykernel_601499/388070888.py:9: FutureWarning: The frame.append method is deprecated and will be removed from pandas in a future version. Use pandas.concat instead.\n",
      "  df = df.append(new_df).reset_index()\n",
      "/tmp/ipykernel_601499/388070888.py:9: FutureWarning: The frame.append method is deprecated and will be removed from pandas in a future version. Use pandas.concat instead.\n",
      "  df = df.append(new_df).reset_index()\n",
      "/tmp/ipykernel_601499/388070888.py:9: FutureWarning: The frame.append method is deprecated and will be removed from pandas in a future version. Use pandas.concat instead.\n",
      "  df = df.append(new_df).reset_index()\n",
      "/tmp/ipykernel_601499/388070888.py:9: FutureWarning: The frame.append method is deprecated and will be removed from pandas in a future version. Use pandas.concat instead.\n",
      "  df = df.append(new_df).reset_index()\n",
      "/tmp/ipykernel_601499/388070888.py:9: FutureWarning: The frame.append method is deprecated and will be removed from pandas in a future version. Use pandas.concat instead.\n",
      "  df = df.append(new_df).reset_index()\n",
      "/tmp/ipykernel_601499/388070888.py:9: FutureWarning: The frame.append method is deprecated and will be removed from pandas in a future version. Use pandas.concat instead.\n",
      "  df = df.append(new_df).reset_index()\n",
      "/tmp/ipykernel_601499/388070888.py:9: FutureWarning: The frame.append method is deprecated and will be removed from pandas in a future version. Use pandas.concat instead.\n",
      "  df = df.append(new_df).reset_index()\n",
      "/tmp/ipykernel_601499/388070888.py:9: FutureWarning: The frame.append method is deprecated and will be removed from pandas in a future version. Use pandas.concat instead.\n",
      "  df = df.append(new_df).reset_index()\n",
      "/tmp/ipykernel_601499/388070888.py:9: FutureWarning: The frame.append method is deprecated and will be removed from pandas in a future version. Use pandas.concat instead.\n",
      "  df = df.append(new_df).reset_index()\n",
      "/tmp/ipykernel_601499/388070888.py:9: FutureWarning: The frame.append method is deprecated and will be removed from pandas in a future version. Use pandas.concat instead.\n",
      "  df = df.append(new_df).reset_index()\n",
      "/tmp/ipykernel_601499/388070888.py:9: FutureWarning: The frame.append method is deprecated and will be removed from pandas in a future version. Use pandas.concat instead.\n",
      "  df = df.append(new_df).reset_index()\n",
      "/tmp/ipykernel_601499/388070888.py:9: FutureWarning: The frame.append method is deprecated and will be removed from pandas in a future version. Use pandas.concat instead.\n",
      "  df = df.append(new_df).reset_index()\n",
      "/tmp/ipykernel_601499/388070888.py:9: FutureWarning: The frame.append method is deprecated and will be removed from pandas in a future version. Use pandas.concat instead.\n",
      "  df = df.append(new_df).reset_index()\n",
      "/tmp/ipykernel_601499/388070888.py:9: FutureWarning: The frame.append method is deprecated and will be removed from pandas in a future version. Use pandas.concat instead.\n",
      "  df = df.append(new_df).reset_index()\n",
      "/tmp/ipykernel_601499/388070888.py:9: FutureWarning: The frame.append method is deprecated and will be removed from pandas in a future version. Use pandas.concat instead.\n",
      "  df = df.append(new_df).reset_index()\n",
      "/tmp/ipykernel_601499/388070888.py:9: FutureWarning: The frame.append method is deprecated and will be removed from pandas in a future version. Use pandas.concat instead.\n",
      "  df = df.append(new_df).reset_index()\n",
      "/tmp/ipykernel_601499/388070888.py:9: FutureWarning: The frame.append method is deprecated and will be removed from pandas in a future version. Use pandas.concat instead.\n",
      "  df = df.append(new_df).reset_index()\n",
      "/tmp/ipykernel_601499/388070888.py:9: FutureWarning: The frame.append method is deprecated and will be removed from pandas in a future version. Use pandas.concat instead.\n",
      "  df = df.append(new_df).reset_index()\n",
      "/tmp/ipykernel_601499/388070888.py:9: FutureWarning: The frame.append method is deprecated and will be removed from pandas in a future version. Use pandas.concat instead.\n",
      "  df = df.append(new_df).reset_index()\n",
      "/tmp/ipykernel_601499/388070888.py:9: FutureWarning: The frame.append method is deprecated and will be removed from pandas in a future version. Use pandas.concat instead.\n",
      "  df = df.append(new_df).reset_index()\n",
      "/tmp/ipykernel_601499/388070888.py:9: FutureWarning: The frame.append method is deprecated and will be removed from pandas in a future version. Use pandas.concat instead.\n",
      "  df = df.append(new_df).reset_index()\n",
      "/tmp/ipykernel_601499/388070888.py:9: FutureWarning: The frame.append method is deprecated and will be removed from pandas in a future version. Use pandas.concat instead.\n",
      "  df = df.append(new_df).reset_index()\n",
      "/tmp/ipykernel_601499/388070888.py:9: FutureWarning: The frame.append method is deprecated and will be removed from pandas in a future version. Use pandas.concat instead.\n",
      "  df = df.append(new_df).reset_index()\n",
      "/tmp/ipykernel_601499/388070888.py:9: FutureWarning: The frame.append method is deprecated and will be removed from pandas in a future version. Use pandas.concat instead.\n",
      "  df = df.append(new_df).reset_index()\n",
      "/tmp/ipykernel_601499/388070888.py:9: FutureWarning: The frame.append method is deprecated and will be removed from pandas in a future version. Use pandas.concat instead.\n",
      "  df = df.append(new_df).reset_index()\n",
      "/tmp/ipykernel_601499/388070888.py:9: FutureWarning: The frame.append method is deprecated and will be removed from pandas in a future version. Use pandas.concat instead.\n",
      "  df = df.append(new_df).reset_index()\n",
      "/tmp/ipykernel_601499/388070888.py:9: FutureWarning: The frame.append method is deprecated and will be removed from pandas in a future version. Use pandas.concat instead.\n",
      "  df = df.append(new_df).reset_index()\n",
      "/tmp/ipykernel_601499/388070888.py:9: FutureWarning: The frame.append method is deprecated and will be removed from pandas in a future version. Use pandas.concat instead.\n",
      "  df = df.append(new_df).reset_index()\n",
      "/tmp/ipykernel_601499/388070888.py:9: FutureWarning: The frame.append method is deprecated and will be removed from pandas in a future version. Use pandas.concat instead.\n",
      "  df = df.append(new_df).reset_index()\n",
      "/tmp/ipykernel_601499/388070888.py:9: FutureWarning: The frame.append method is deprecated and will be removed from pandas in a future version. Use pandas.concat instead.\n",
      "  df = df.append(new_df).reset_index()\n",
      "/tmp/ipykernel_601499/388070888.py:9: FutureWarning: The frame.append method is deprecated and will be removed from pandas in a future version. Use pandas.concat instead.\n",
      "  df = df.append(new_df).reset_index()\n",
      "/tmp/ipykernel_601499/388070888.py:9: FutureWarning: The frame.append method is deprecated and will be removed from pandas in a future version. Use pandas.concat instead.\n",
      "  df = df.append(new_df).reset_index()\n",
      "/tmp/ipykernel_601499/388070888.py:9: FutureWarning: The frame.append method is deprecated and will be removed from pandas in a future version. Use pandas.concat instead.\n",
      "  df = df.append(new_df).reset_index()\n",
      "/tmp/ipykernel_601499/388070888.py:9: FutureWarning: The frame.append method is deprecated and will be removed from pandas in a future version. Use pandas.concat instead.\n",
      "  df = df.append(new_df).reset_index()\n",
      "/tmp/ipykernel_601499/388070888.py:9: FutureWarning: The frame.append method is deprecated and will be removed from pandas in a future version. Use pandas.concat instead.\n",
      "  df = df.append(new_df).reset_index()\n",
      "/tmp/ipykernel_601499/388070888.py:9: FutureWarning: The frame.append method is deprecated and will be removed from pandas in a future version. Use pandas.concat instead.\n",
      "  df = df.append(new_df).reset_index()\n",
      "/tmp/ipykernel_601499/388070888.py:9: FutureWarning: The frame.append method is deprecated and will be removed from pandas in a future version. Use pandas.concat instead.\n",
      "  df = df.append(new_df).reset_index()\n",
      "/tmp/ipykernel_601499/388070888.py:9: FutureWarning: The frame.append method is deprecated and will be removed from pandas in a future version. Use pandas.concat instead.\n",
      "  df = df.append(new_df).reset_index()\n",
      "/tmp/ipykernel_601499/388070888.py:9: FutureWarning: The frame.append method is deprecated and will be removed from pandas in a future version. Use pandas.concat instead.\n",
      "  df = df.append(new_df).reset_index()\n",
      "/tmp/ipykernel_601499/388070888.py:9: FutureWarning: The frame.append method is deprecated and will be removed from pandas in a future version. Use pandas.concat instead.\n",
      "  df = df.append(new_df).reset_index()\n",
      "/tmp/ipykernel_601499/388070888.py:9: FutureWarning: The frame.append method is deprecated and will be removed from pandas in a future version. Use pandas.concat instead.\n",
      "  df = df.append(new_df).reset_index()\n",
      "/tmp/ipykernel_601499/388070888.py:9: FutureWarning: The frame.append method is deprecated and will be removed from pandas in a future version. Use pandas.concat instead.\n",
      "  df = df.append(new_df).reset_index()\n",
      "/tmp/ipykernel_601499/388070888.py:9: FutureWarning: The frame.append method is deprecated and will be removed from pandas in a future version. Use pandas.concat instead.\n",
      "  df = df.append(new_df).reset_index()\n",
      "/tmp/ipykernel_601499/388070888.py:9: FutureWarning: The frame.append method is deprecated and will be removed from pandas in a future version. Use pandas.concat instead.\n",
      "  df = df.append(new_df).reset_index()\n",
      "/tmp/ipykernel_601499/388070888.py:9: FutureWarning: The frame.append method is deprecated and will be removed from pandas in a future version. Use pandas.concat instead.\n",
      "  df = df.append(new_df).reset_index()\n",
      "/tmp/ipykernel_601499/388070888.py:9: FutureWarning: The frame.append method is deprecated and will be removed from pandas in a future version. Use pandas.concat instead.\n",
      "  df = df.append(new_df).reset_index()\n",
      "/tmp/ipykernel_601499/388070888.py:9: FutureWarning: The frame.append method is deprecated and will be removed from pandas in a future version. Use pandas.concat instead.\n",
      "  df = df.append(new_df).reset_index()\n",
      "/tmp/ipykernel_601499/388070888.py:9: FutureWarning: The frame.append method is deprecated and will be removed from pandas in a future version. Use pandas.concat instead.\n",
      "  df = df.append(new_df).reset_index()\n",
      "/tmp/ipykernel_601499/388070888.py:9: FutureWarning: The frame.append method is deprecated and will be removed from pandas in a future version. Use pandas.concat instead.\n",
      "  df = df.append(new_df).reset_index()\n",
      "/tmp/ipykernel_601499/388070888.py:9: FutureWarning: The frame.append method is deprecated and will be removed from pandas in a future version. Use pandas.concat instead.\n",
      "  df = df.append(new_df).reset_index()\n",
      "/tmp/ipykernel_601499/388070888.py:9: FutureWarning: The frame.append method is deprecated and will be removed from pandas in a future version. Use pandas.concat instead.\n",
      "  df = df.append(new_df).reset_index()\n",
      "/tmp/ipykernel_601499/388070888.py:9: FutureWarning: The frame.append method is deprecated and will be removed from pandas in a future version. Use pandas.concat instead.\n",
      "  df = df.append(new_df).reset_index()\n",
      "/tmp/ipykernel_601499/388070888.py:9: FutureWarning: The frame.append method is deprecated and will be removed from pandas in a future version. Use pandas.concat instead.\n",
      "  df = df.append(new_df).reset_index()\n",
      "/tmp/ipykernel_601499/388070888.py:9: FutureWarning: The frame.append method is deprecated and will be removed from pandas in a future version. Use pandas.concat instead.\n",
      "  df = df.append(new_df).reset_index()\n",
      "/tmp/ipykernel_601499/388070888.py:9: FutureWarning: The frame.append method is deprecated and will be removed from pandas in a future version. Use pandas.concat instead.\n",
      "  df = df.append(new_df).reset_index()\n",
      "/tmp/ipykernel_601499/388070888.py:9: FutureWarning: The frame.append method is deprecated and will be removed from pandas in a future version. Use pandas.concat instead.\n",
      "  df = df.append(new_df).reset_index()\n",
      "/tmp/ipykernel_601499/388070888.py:9: FutureWarning: The frame.append method is deprecated and will be removed from pandas in a future version. Use pandas.concat instead.\n",
      "  df = df.append(new_df).reset_index()\n",
      "/tmp/ipykernel_601499/388070888.py:9: FutureWarning: The frame.append method is deprecated and will be removed from pandas in a future version. Use pandas.concat instead.\n",
      "  df = df.append(new_df).reset_index()\n",
      "/tmp/ipykernel_601499/388070888.py:9: FutureWarning: The frame.append method is deprecated and will be removed from pandas in a future version. Use pandas.concat instead.\n",
      "  df = df.append(new_df).reset_index()\n",
      "/tmp/ipykernel_601499/388070888.py:9: FutureWarning: The frame.append method is deprecated and will be removed from pandas in a future version. Use pandas.concat instead.\n",
      "  df = df.append(new_df).reset_index()\n",
      "/tmp/ipykernel_601499/388070888.py:9: FutureWarning: The frame.append method is deprecated and will be removed from pandas in a future version. Use pandas.concat instead.\n",
      "  df = df.append(new_df).reset_index()\n",
      "/tmp/ipykernel_601499/388070888.py:9: FutureWarning: The frame.append method is deprecated and will be removed from pandas in a future version. Use pandas.concat instead.\n",
      "  df = df.append(new_df).reset_index()\n",
      "/tmp/ipykernel_601499/388070888.py:9: FutureWarning: The frame.append method is deprecated and will be removed from pandas in a future version. Use pandas.concat instead.\n",
      "  df = df.append(new_df).reset_index()\n",
      "/tmp/ipykernel_601499/388070888.py:9: FutureWarning: The frame.append method is deprecated and will be removed from pandas in a future version. Use pandas.concat instead.\n",
      "  df = df.append(new_df).reset_index()\n",
      "/tmp/ipykernel_601499/388070888.py:9: FutureWarning: The frame.append method is deprecated and will be removed from pandas in a future version. Use pandas.concat instead.\n",
      "  df = df.append(new_df).reset_index()\n",
      "/tmp/ipykernel_601499/388070888.py:9: FutureWarning: The frame.append method is deprecated and will be removed from pandas in a future version. Use pandas.concat instead.\n",
      "  df = df.append(new_df).reset_index()\n",
      "/tmp/ipykernel_601499/388070888.py:9: FutureWarning: The frame.append method is deprecated and will be removed from pandas in a future version. Use pandas.concat instead.\n",
      "  df = df.append(new_df).reset_index()\n",
      "/tmp/ipykernel_601499/388070888.py:9: FutureWarning: The frame.append method is deprecated and will be removed from pandas in a future version. Use pandas.concat instead.\n",
      "  df = df.append(new_df).reset_index()\n",
      "/tmp/ipykernel_601499/388070888.py:9: FutureWarning: The frame.append method is deprecated and will be removed from pandas in a future version. Use pandas.concat instead.\n",
      "  df = df.append(new_df).reset_index()\n",
      "/tmp/ipykernel_601499/388070888.py:9: FutureWarning: The frame.append method is deprecated and will be removed from pandas in a future version. Use pandas.concat instead.\n",
      "  df = df.append(new_df).reset_index()\n",
      "/tmp/ipykernel_601499/388070888.py:9: FutureWarning: The frame.append method is deprecated and will be removed from pandas in a future version. Use pandas.concat instead.\n",
      "  df = df.append(new_df).reset_index()\n",
      "/tmp/ipykernel_601499/388070888.py:9: FutureWarning: The frame.append method is deprecated and will be removed from pandas in a future version. Use pandas.concat instead.\n",
      "  df = df.append(new_df).reset_index()\n",
      "/tmp/ipykernel_601499/388070888.py:9: FutureWarning: The frame.append method is deprecated and will be removed from pandas in a future version. Use pandas.concat instead.\n",
      "  df = df.append(new_df).reset_index()\n",
      "/tmp/ipykernel_601499/388070888.py:9: FutureWarning: The frame.append method is deprecated and will be removed from pandas in a future version. Use pandas.concat instead.\n",
      "  df = df.append(new_df).reset_index()\n",
      "/tmp/ipykernel_601499/388070888.py:9: FutureWarning: The frame.append method is deprecated and will be removed from pandas in a future version. Use pandas.concat instead.\n",
      "  df = df.append(new_df).reset_index()\n",
      "/tmp/ipykernel_601499/388070888.py:9: FutureWarning: The frame.append method is deprecated and will be removed from pandas in a future version. Use pandas.concat instead.\n",
      "  df = df.append(new_df).reset_index()\n",
      "/tmp/ipykernel_601499/388070888.py:9: FutureWarning: The frame.append method is deprecated and will be removed from pandas in a future version. Use pandas.concat instead.\n",
      "  df = df.append(new_df).reset_index()\n",
      "/tmp/ipykernel_601499/388070888.py:9: FutureWarning: The frame.append method is deprecated and will be removed from pandas in a future version. Use pandas.concat instead.\n",
      "  df = df.append(new_df).reset_index()\n",
      "/tmp/ipykernel_601499/388070888.py:9: FutureWarning: The frame.append method is deprecated and will be removed from pandas in a future version. Use pandas.concat instead.\n",
      "  df = df.append(new_df).reset_index()\n",
      "/tmp/ipykernel_601499/388070888.py:9: FutureWarning: The frame.append method is deprecated and will be removed from pandas in a future version. Use pandas.concat instead.\n",
      "  df = df.append(new_df).reset_index()\n",
      "/tmp/ipykernel_601499/388070888.py:9: FutureWarning: The frame.append method is deprecated and will be removed from pandas in a future version. Use pandas.concat instead.\n",
      "  df = df.append(new_df).reset_index()\n",
      "/tmp/ipykernel_601499/388070888.py:9: FutureWarning: The frame.append method is deprecated and will be removed from pandas in a future version. Use pandas.concat instead.\n",
      "  df = df.append(new_df).reset_index()\n",
      "/tmp/ipykernel_601499/388070888.py:9: FutureWarning: The frame.append method is deprecated and will be removed from pandas in a future version. Use pandas.concat instead.\n",
      "  df = df.append(new_df).reset_index()\n",
      "/tmp/ipykernel_601499/388070888.py:9: FutureWarning: The frame.append method is deprecated and will be removed from pandas in a future version. Use pandas.concat instead.\n",
      "  df = df.append(new_df).reset_index()\n",
      "/tmp/ipykernel_601499/388070888.py:9: FutureWarning: The frame.append method is deprecated and will be removed from pandas in a future version. Use pandas.concat instead.\n",
      "  df = df.append(new_df).reset_index()\n",
      "/tmp/ipykernel_601499/388070888.py:9: FutureWarning: The frame.append method is deprecated and will be removed from pandas in a future version. Use pandas.concat instead.\n",
      "  df = df.append(new_df).reset_index()\n",
      "/tmp/ipykernel_601499/388070888.py:9: FutureWarning: The frame.append method is deprecated and will be removed from pandas in a future version. Use pandas.concat instead.\n",
      "  df = df.append(new_df).reset_index()\n",
      "/tmp/ipykernel_601499/388070888.py:9: FutureWarning: The frame.append method is deprecated and will be removed from pandas in a future version. Use pandas.concat instead.\n",
      "  df = df.append(new_df).reset_index()\n",
      "/tmp/ipykernel_601499/388070888.py:9: FutureWarning: The frame.append method is deprecated and will be removed from pandas in a future version. Use pandas.concat instead.\n",
      "  df = df.append(new_df).reset_index()\n",
      "/tmp/ipykernel_601499/388070888.py:9: FutureWarning: The frame.append method is deprecated and will be removed from pandas in a future version. Use pandas.concat instead.\n",
      "  df = df.append(new_df).reset_index()\n",
      "/tmp/ipykernel_601499/388070888.py:9: FutureWarning: The frame.append method is deprecated and will be removed from pandas in a future version. Use pandas.concat instead.\n",
      "  df = df.append(new_df).reset_index()\n",
      "/tmp/ipykernel_601499/388070888.py:9: FutureWarning: The frame.append method is deprecated and will be removed from pandas in a future version. Use pandas.concat instead.\n",
      "  df = df.append(new_df).reset_index()\n",
      "/tmp/ipykernel_601499/388070888.py:9: FutureWarning: The frame.append method is deprecated and will be removed from pandas in a future version. Use pandas.concat instead.\n",
      "  df = df.append(new_df).reset_index()\n",
      "/tmp/ipykernel_601499/388070888.py:9: FutureWarning: The frame.append method is deprecated and will be removed from pandas in a future version. Use pandas.concat instead.\n",
      "  df = df.append(new_df).reset_index()\n",
      "/tmp/ipykernel_601499/388070888.py:9: FutureWarning: The frame.append method is deprecated and will be removed from pandas in a future version. Use pandas.concat instead.\n",
      "  df = df.append(new_df).reset_index()\n",
      "/tmp/ipykernel_601499/388070888.py:9: FutureWarning: The frame.append method is deprecated and will be removed from pandas in a future version. Use pandas.concat instead.\n",
      "  df = df.append(new_df).reset_index()\n",
      "/tmp/ipykernel_601499/388070888.py:9: FutureWarning: The frame.append method is deprecated and will be removed from pandas in a future version. Use pandas.concat instead.\n",
      "  df = df.append(new_df).reset_index()\n",
      "/tmp/ipykernel_601499/388070888.py:9: FutureWarning: The frame.append method is deprecated and will be removed from pandas in a future version. Use pandas.concat instead.\n",
      "  df = df.append(new_df).reset_index()\n",
      "/tmp/ipykernel_601499/388070888.py:9: FutureWarning: The frame.append method is deprecated and will be removed from pandas in a future version. Use pandas.concat instead.\n",
      "  df = df.append(new_df).reset_index()\n",
      "/tmp/ipykernel_601499/388070888.py:9: FutureWarning: The frame.append method is deprecated and will be removed from pandas in a future version. Use pandas.concat instead.\n",
      "  df = df.append(new_df).reset_index()\n",
      "/tmp/ipykernel_601499/388070888.py:9: FutureWarning: The frame.append method is deprecated and will be removed from pandas in a future version. Use pandas.concat instead.\n",
      "  df = df.append(new_df).reset_index()\n",
      "/tmp/ipykernel_601499/388070888.py:9: FutureWarning: The frame.append method is deprecated and will be removed from pandas in a future version. Use pandas.concat instead.\n",
      "  df = df.append(new_df).reset_index()\n",
      "/tmp/ipykernel_601499/388070888.py:9: FutureWarning: The frame.append method is deprecated and will be removed from pandas in a future version. Use pandas.concat instead.\n",
      "  df = df.append(new_df).reset_index()\n",
      "/tmp/ipykernel_601499/388070888.py:9: FutureWarning: The frame.append method is deprecated and will be removed from pandas in a future version. Use pandas.concat instead.\n",
      "  df = df.append(new_df).reset_index()\n",
      "/tmp/ipykernel_601499/388070888.py:9: FutureWarning: The frame.append method is deprecated and will be removed from pandas in a future version. Use pandas.concat instead.\n",
      "  df = df.append(new_df).reset_index()\n",
      "/tmp/ipykernel_601499/388070888.py:9: FutureWarning: The frame.append method is deprecated and will be removed from pandas in a future version. Use pandas.concat instead.\n",
      "  df = df.append(new_df).reset_index()\n",
      "/tmp/ipykernel_601499/388070888.py:9: FutureWarning: The frame.append method is deprecated and will be removed from pandas in a future version. Use pandas.concat instead.\n",
      "  df = df.append(new_df).reset_index()\n",
      "/tmp/ipykernel_601499/388070888.py:9: FutureWarning: The frame.append method is deprecated and will be removed from pandas in a future version. Use pandas.concat instead.\n",
      "  df = df.append(new_df).reset_index()\n",
      "/tmp/ipykernel_601499/388070888.py:9: FutureWarning: The frame.append method is deprecated and will be removed from pandas in a future version. Use pandas.concat instead.\n",
      "  df = df.append(new_df).reset_index()\n",
      "/tmp/ipykernel_601499/388070888.py:9: FutureWarning: The frame.append method is deprecated and will be removed from pandas in a future version. Use pandas.concat instead.\n",
      "  df = df.append(new_df).reset_index()\n",
      "/tmp/ipykernel_601499/388070888.py:9: FutureWarning: The frame.append method is deprecated and will be removed from pandas in a future version. Use pandas.concat instead.\n",
      "  df = df.append(new_df).reset_index()\n",
      "/tmp/ipykernel_601499/388070888.py:9: FutureWarning: The frame.append method is deprecated and will be removed from pandas in a future version. Use pandas.concat instead.\n",
      "  df = df.append(new_df).reset_index()\n",
      "/tmp/ipykernel_601499/388070888.py:9: FutureWarning: The frame.append method is deprecated and will be removed from pandas in a future version. Use pandas.concat instead.\n",
      "  df = df.append(new_df).reset_index()\n",
      "/tmp/ipykernel_601499/388070888.py:9: FutureWarning: The frame.append method is deprecated and will be removed from pandas in a future version. Use pandas.concat instead.\n",
      "  df = df.append(new_df).reset_index()\n",
      "/tmp/ipykernel_601499/388070888.py:9: FutureWarning: The frame.append method is deprecated and will be removed from pandas in a future version. Use pandas.concat instead.\n",
      "  df = df.append(new_df).reset_index()\n",
      "/tmp/ipykernel_601499/388070888.py:9: FutureWarning: The frame.append method is deprecated and will be removed from pandas in a future version. Use pandas.concat instead.\n",
      "  df = df.append(new_df).reset_index()\n",
      "/tmp/ipykernel_601499/388070888.py:9: FutureWarning: The frame.append method is deprecated and will be removed from pandas in a future version. Use pandas.concat instead.\n",
      "  df = df.append(new_df).reset_index()\n"
     ]
    }
   ],
   "source": [
    "for i in range(126):\n",
    "    last_sentence_nr = df['sentence #'].max()\n",
    "    new_sentences = set(new_df['sentence #'])\n",
    "    nr_sentences_by_group = len(set(new_df['sentence #']))\n",
    "    di = {}\n",
    "    for val, i in enumerate(new_sentences):\n",
    "        di[i] = val + last_sentence_nr + 2\n",
    "    new_df['sentence #'] = new_df['sentence #'].map(di)\n",
    "    df = df.append(new_df).reset_index()\n",
    "    del df['index']"
   ]
  },
  {
   "cell_type": "code",
   "execution_count": 11,
   "metadata": {},
   "outputs": [],
   "source": [
    "# doar pentru verificare\n",
    "sorted = list(df['sentence #'].groupby(df['sentence #']).count())\n",
    "sorted.sort(reverse=True)"
   ]
  },
  {
   "cell_type": "code",
   "execution_count": 12,
   "metadata": {},
   "outputs": [],
   "source": [
    "import random\n",
    "groups = [df for _, df in df.groupby('sentence #')]\n",
    "random.shuffle(groups)\n",
    "df = pd.concat(groups).reset_index(drop=True)"
   ]
  },
  {
   "cell_type": "code",
   "execution_count": 13,
   "metadata": {},
   "outputs": [],
   "source": [
    "# last_sentence_nr = df.iloc[-1,1]\n",
    "# new_sentences = set(new_df['sentence #'])\n",
    "# nr_sentences_by_group = len(set(new_df['sentence #']))\n",
    "# di = {}\n",
    "# for val, i in enumerate(new_sentences):\n",
    "#     di[i] = val + last_sentence_nr\n",
    "# di"
   ]
  },
  {
   "cell_type": "code",
   "execution_count": 14,
   "metadata": {},
   "outputs": [],
   "source": [
    "# last_sentence_nr = df.iloc[-1,1]\n",
    "# last_sentence_nr += 1\n",
    "# print('last sentence nr', last_sentence_nr)\n",
    "# new_df['sentence #'] = new_df['sentence #'].apply(lambda x: x + last_sentence_nr)\n",
    "# # df = df.append(new_df).reset_index()\n",
    "# # del df['index']"
   ]
  },
  {
   "cell_type": "code",
   "execution_count": 15,
   "metadata": {},
   "outputs": [],
   "source": [
    "# for i in range(126):\n",
    "#     last_sentence_nr = df.iloc[-1,1]\n",
    "#     print('last sentence nr', last_sentence_nr)\n",
    "#     new_df['sentence #'] = new_df['sentence #'].apply(lambda x: x + last_sentence_nr)\n",
    "#     df = df.append(new_df).reset_index()\n",
    "#     del df['index']"
   ]
  },
  {
   "cell_type": "code",
   "execution_count": 13,
   "metadata": {},
   "outputs": [
    {
     "data": {
      "text/plain": [
       "tag\n",
       "GoodsDescription     69439\n",
       "GoodsOrigin           5842\n",
       "HSCode                3937\n",
       "Incoterms            82729\n",
       "O                   374414\n",
       "Quantity             32370\n",
       "Tolerance            22479\n",
       "UnitPriceAmount      59818\n",
       "Name: tag, dtype: int64"
      ]
     },
     "execution_count": 13,
     "metadata": {},
     "output_type": "execute_result"
    }
   ],
   "source": [
    "df['tag'].groupby(df['tag']).size()"
   ]
  },
  {
   "cell_type": "code",
   "execution_count": 14,
   "metadata": {
    "collapsed": false,
    "pycharm": {
     "name": "#%%\n"
    }
   },
   "outputs": [],
   "source": [
    "class SentenceGetter(object):\n",
    "\n",
    "    def __init__(self, data):\n",
    "        self.n_sent = 0\n",
    "        self.data = df\n",
    "        self.empty = False\n",
    "        agg_func = lambda s: [(w, t) for w, t in zip(s[\"words\"].values.tolist(),\n",
    "                                                     s[\"tag\"].values.tolist())]\n",
    "        self.grouped = self.data.groupby(\"sentence #\").apply(agg_func)\n",
    "        self.sentences = [s for s in self.grouped]\n",
    "\n",
    "    def get_next(self):\n",
    "        try:\n",
    "            s = self.grouped[self.n_sent]\n",
    "            self.n_sent += 1\n",
    "            return s\n",
    "        except:\n",
    "            return None"
   ]
  },
  {
   "cell_type": "code",
   "execution_count": 15,
   "metadata": {
    "collapsed": false,
    "pycharm": {
     "name": "#%%\n"
    }
   },
   "outputs": [
    {
     "name": "stdout",
     "output_type": "stream",
     "text": [
      "[('SERVICES', 'GoodsDescription'), ('AND', 'GoodsDescription'), ('MAINTENANCE', 'GoodsDescription'), ('AS', 'O'), ('PER', 'O'), (\"BENEFICIARY'S\", 'O'), ('PROFORMA', 'O'), ('INVOICE', 'O'), ('NO.', 'O'), ('201912Q016H', 'O'), ('DATED', 'O'), ('05.12.2019', 'O')]\n"
     ]
    }
   ],
   "source": [
    "getter = SentenceGetter(df)\n",
    "getter.get_next()\n",
    "print(getter.get_next())"
   ]
  },
  {
   "cell_type": "code",
   "execution_count": 16,
   "metadata": {
    "collapsed": false,
    "pycharm": {
     "name": "#%%\n"
    }
   },
   "outputs": [],
   "source": [
    "sentences = getter.sentences"
   ]
  },
  {
   "cell_type": "code",
   "execution_count": 17,
   "metadata": {
    "collapsed": false,
    "pycharm": {
     "name": "#%%\n"
    }
   },
   "outputs": [
    {
     "name": "stdout",
     "output_type": "stream",
     "text": [
      "[('CPT', 'Incoterms'), ('LAHORE', 'Incoterms'), ('AIRPORT', 'Incoterms'), ('PAKISTAN', 'Incoterms'), ('QTY', 'O'), ('1', 'Quantity'), ('PC', 'Quantity'), ('OF', 'O'), ('MULTI', 'GoodsDescription'), ('MODE', 'GoodsDescription'), ('READER/TRINOCULAR', 'GoodsDescription'), ('MICROSCOPE', 'GoodsDescription'), ('SYSTEM', 'GoodsDescription'), ('MODEL', 'O')]\n"
     ]
    },
    {
     "data": {
      "text/plain": [
       "11574"
      ]
     },
     "execution_count": 17,
     "metadata": {},
     "output_type": "execute_result"
    }
   ],
   "source": [
    "print(sentences[0])\n",
    "len(sentences)"
   ]
  },
  {
   "cell_type": "code",
   "execution_count": 18,
   "metadata": {
    "collapsed": false,
    "pycharm": {
     "name": "#%%\n"
    }
   },
   "outputs": [
    {
     "data": {
      "image/png": "[encoded data removed]",
      "text/plain": [
       "<Figure size 432x288 with 1 Axes>"
      ]
     },
     "metadata": {
      "needs_background": "light"
     },
     "output_type": "display_data"
    }
   ],
   "source": [
    "import matplotlib.pyplot as plt\n",
    "\n",
    "plt.hist([len(s) for s in sentences], bins=50)\n",
    "plt.show()"
   ]
  },
  {
   "cell_type": "code",
   "execution_count": 19,
   "metadata": {
    "collapsed": false,
    "pycharm": {
     "name": "#%%\n"
    }
   },
   "outputs": [],
   "source": [
    "max_len = 300\n",
    "word2idx = {w: i for i, w in enumerate(words)}\n",
    "tag2idx = {t: i for i, t in enumerate(tags)}\n",
    "\n",
    "import pickle\n",
    "# Save the embeddings\n",
    "with open(\"words_embeddings\", \"wb\") as fp: \n",
    "    pickle.dump(word2idx, fp)\n",
    "\n",
    "with open(\"tags_embeddings\", \"wb\") as fp: \n",
    "    pickle.dump(tag2idx, fp)"
   ]
  },
  {
   "cell_type": "code",
   "execution_count": 20,
   "metadata": {
    "collapsed": false,
    "pycharm": {
     "name": "#%%\n"
    }
   },
   "outputs": [
    {
     "name": "stderr",
     "output_type": "stream",
     "text": [
      "2022-08-29 12:15:13.013046: W tensorflow/stream_executor/platform/default/dso_loader.cc:64] Could not load dynamic library 'libcudart.so.11.0'; dlerror: libcudart.so.11.0: cannot open shared object file: No such file or directory\n",
      "2022-08-29 12:15:13.013093: I tensorflow/stream_executor/cuda/cudart_stub.cc:29] Ignore above cudart dlerror if you do not have a GPU set up on your machine.\n"
     ]
    }
   ],
   "source": [
    "from keras.preprocessing.sequence import pad_sequences\n",
    "\n",
    "X = [[word2idx[w[0]] for w in s] for s in sentences]"
   ]
  },
  {
   "cell_type": "code",
   "execution_count": 21,
   "metadata": {
    "collapsed": false,
    "pycharm": {
     "name": "#%%\n"
    }
   },
   "outputs": [],
   "source": [
    "# so we have the same length\n",
    "X = pad_sequences(maxlen=max_len, sequences=X, padding=\"post\", value=n_words-1)"
   ]
  },
  {
   "cell_type": "code",
   "execution_count": 22,
   "metadata": {
    "collapsed": false,
    "pycharm": {
     "name": "#%%\n"
    }
   },
   "outputs": [
    {
     "name": "stdout",
     "output_type": "stream",
     "text": [
      "[4399  904 7153 5052 7772 7083 3447 1152 6278 3308  333 6682 9359 9359\n",
      " 9359 9359 9359 9359 9359 9359 9359 9359 9359 9359 9359 9359 9359 9359\n",
      " 9359 9359 9359 9359 9359 9359 9359 9359 9359 9359 9359 9359 9359 9359\n",
      " 9359 9359 9359 9359 9359 9359 9359 9359 9359 9359 9359 9359 9359 9359\n",
      " 9359 9359 9359 9359 9359 9359 9359 9359 9359 9359 9359 9359 9359 9359\n",
      " 9359 9359 9359 9359 9359 9359 9359 9359 9359 9359 9359 9359 9359 9359\n",
      " 9359 9359 9359 9359 9359 9359 9359 9359 9359 9359 9359 9359 9359 9359\n",
      " 9359 9359 9359 9359 9359 9359 9359 9359 9359 9359 9359 9359 9359 9359\n",
      " 9359 9359 9359 9359 9359 9359 9359 9359 9359 9359 9359 9359 9359 9359\n",
      " 9359 9359 9359 9359 9359 9359 9359 9359 9359 9359 9359 9359 9359 9359\n",
      " 9359 9359 9359 9359 9359 9359 9359 9359 9359 9359 9359 9359 9359 9359\n",
      " 9359 9359 9359 9359 9359 9359 9359 9359 9359 9359 9359 9359 9359 9359\n",
      " 9359 9359 9359 9359 9359 9359 9359 9359 9359 9359 9359 9359 9359 9359\n",
      " 9359 9359 9359 9359 9359 9359 9359 9359 9359 9359 9359 9359 9359 9359\n",
      " 9359 9359 9359 9359 9359 9359 9359 9359 9359 9359 9359 9359 9359 9359\n",
      " 9359 9359 9359 9359 9359 9359 9359 9359 9359 9359 9359 9359 9359 9359\n",
      " 9359 9359 9359 9359 9359 9359 9359 9359 9359 9359 9359 9359 9359 9359\n",
      " 9359 9359 9359 9359 9359 9359 9359 9359 9359 9359 9359 9359 9359 9359\n",
      " 9359 9359 9359 9359 9359 9359 9359 9359 9359 9359 9359 9359 9359 9359\n",
      " 9359 9359 9359 9359 9359 9359 9359 9359 9359 9359 9359 9359 9359 9359\n",
      " 9359 9359 9359 9359 9359 9359 9359 9359 9359 9359 9359 9359 9359 9359\n",
      " 9359 9359 9359 9359 9359 9359]\n"
     ]
    }
   ],
   "source": [
    "print(X[1])"
   ]
  },
  {
   "cell_type": "code",
   "execution_count": 23,
   "metadata": {
    "collapsed": false,
    "pycharm": {
     "name": "#%%\n"
    }
   },
   "outputs": [
    {
     "data": {
      "text/plain": [
       "(11574, 300)"
      ]
     },
     "execution_count": 23,
     "metadata": {},
     "output_type": "execute_result"
    }
   ],
   "source": [
    "X.shape"
   ]
  },
  {
   "cell_type": "code",
   "execution_count": 24,
   "metadata": {
    "collapsed": false,
    "pycharm": {
     "name": "#%%\n"
    }
   },
   "outputs": [],
   "source": [
    "import tensorflow as tf\n",
    "from tensorflow.keras.utils import to_categorical"
   ]
  },
  {
   "cell_type": "code",
   "execution_count": 25,
   "metadata": {
    "collapsed": false,
    "pycharm": {
     "name": "#%%\n"
    }
   },
   "outputs": [],
   "source": [
    "y = [[tag2idx[w[1]] for w in s] for s in sentences]"
   ]
  },
  {
   "cell_type": "code",
   "execution_count": 26,
   "metadata": {
    "collapsed": false,
    "pycharm": {
     "name": "#%%\n"
    }
   },
   "outputs": [],
   "source": [
    "y = pad_sequences(maxlen=max_len, sequences=y, padding=\"post\", value=tag2idx[\"O\"])"
   ]
  },
  {
   "cell_type": "code",
   "execution_count": 28,
   "metadata": {
    "collapsed": false,
    "pycharm": {
     "name": "#%%\n"
    }
   },
   "outputs": [
    {
     "name": "stdout",
     "output_type": "stream",
     "text": [
      "[3 3 3 2 2 2 2 2 2 2 2 2 2 2 2 2 2 2 2 2 2 2 2 2 2 2 2 2 2 2 2 2 2 2 2 2 2\n",
      " 2 2 2 2 2 2 2 2 2 2 2 2 2 2 2 2 2 2 2 2 2 2 2 2 2 2 2 2 2 2 2 2 2 2 2 2 2\n",
      " 2 2 2 2 2 2 2 2 2 2 2 2 2 2 2 2 2 2 2 2 2 2 2 2 2 2 2 2 2 2 2 2 2 2 2 2 2\n",
      " 2 2 2 2 2 2 2 2 2 2 2 2 2 2 2 2 2 2 2 2 2 2 2 2 2 2 2 2 2 2 2 2 2 2 2 2 2\n",
      " 2 2 2 2 2 2 2 2 2 2 2 2 2 2 2 2 2 2 2 2 2 2 2 2 2 2 2 2 2 2 2 2 2 2 2 2 2\n",
      " 2 2 2 2 2 2 2 2 2 2 2 2 2 2 2 2 2 2 2 2 2 2 2 2 2 2 2 2 2 2 2 2 2 2 2 2 2\n",
      " 2 2 2 2 2 2 2 2 2 2 2 2 2 2 2 2 2 2 2 2 2 2 2 2 2 2 2 2 2 2 2 2 2 2 2 2 2\n",
      " 2 2 2 2 2 2 2 2 2 2 2 2 2 2 2 2 2 2 2 2 2 2 2 2 2 2 2 2 2 2 2 2 2 2 2 2 2\n",
      " 2 2 2 2] {'Quantity': 0, 'UnitPriceAmount': 1, 'O': 2, 'GoodsDescription': 3, 'Incoterms': 4, 'GoodsOrigin': 5, 'Tolerance': 6, 'HSCode': 7}\n"
     ]
    }
   ],
   "source": [
    "print(y[1], tag2idx)"
   ]
  },
  {
   "cell_type": "code",
   "execution_count": 29,
   "metadata": {
    "collapsed": false,
    "pycharm": {
     "name": "#%%\n"
    }
   },
   "outputs": [],
   "source": [
    "y = [to_categorical(i, num_classes=n_tags) for i in y]"
   ]
  },
  {
   "cell_type": "code",
   "execution_count": 30,
   "metadata": {
    "collapsed": false,
    "pycharm": {
     "name": "#%%\n"
    }
   },
   "outputs": [],
   "source": [
    "from sklearn.model_selection import train_test_split\n",
    "\n",
    "X_train, X_test, y_train, y_test = train_test_split(X, y, test_size=0.2, random_state=42, shuffle=False)"
   ]
  },
  {
   "cell_type": "code",
   "execution_count": 31,
   "metadata": {
    "collapsed": false,
    "pycharm": {
     "name": "#%%\n"
    }
   },
   "outputs": [],
   "source": [
    "from keras.models import Model, Input\n",
    "from keras.layers import LSTM, Embedding, Dense, TimeDistributed, Dropout, Bidirectional\n",
    "from tensorflow.keras import regularizers"
   ]
  },
  {
   "cell_type": "code",
   "execution_count": 32,
   "metadata": {
    "collapsed": false,
    "pycharm": {
     "name": "#%%\n"
    }
   },
   "outputs": [
    {
     "name": "stderr",
     "output_type": "stream",
     "text": [
      "2022-08-29 12:16:05.123236: W tensorflow/stream_executor/platform/default/dso_loader.cc:64] Could not load dynamic library 'libcuda.so.1'; dlerror: libcuda.so.1: cannot open shared object file: No such file or directory\n",
      "2022-08-29 12:16:05.123279: W tensorflow/stream_executor/cuda/cuda_driver.cc:269] failed call to cuInit: UNKNOWN ERROR (303)\n",
      "2022-08-29 12:16:05.123304: I tensorflow/stream_executor/cuda/cuda_diagnostics.cc:156] kernel driver does not appear to be running on this host (TudorMLTest1): /proc/driver/nvidia/version does not exist\n",
      "2022-08-29 12:16:05.123876: I tensorflow/core/platform/cpu_feature_guard.cc:151] This TensorFlow binary is optimized with oneAPI Deep Neural Network Library (oneDNN) to use the following CPU instructions in performance-critical operations:  AVX2 FMA\n",
      "To enable them in other operations, rebuild TensorFlow with the appropriate compiler flags.\n"
     ]
    }
   ],
   "source": [
    "regulaziers = regularizers.L1L2(l1=1e-5, l2=1e-5)\n",
    "\n",
    "input = Input(shape=(max_len,))\n",
    "model = Embedding(input_dim=n_words, output_dim=50, input_length=max_len)(input)  # 50-dim embedding\n",
    "model = Dropout(0.3)(model)\n",
    "model = Bidirectional(LSTM(units=200, return_sequences=True, recurrent_dropout=0.1, kernel_regularizer=regulaziers))(model)  # variational biLSTM\n",
    "out = TimeDistributed(Dense(n_tags, activation=\"softmax\"))(model)  # softmax output layer"
   ]
  },
  {
   "cell_type": "code",
   "execution_count": 33,
   "metadata": {
    "collapsed": false,
    "pycharm": {
     "name": "#%%\n"
    }
   },
   "outputs": [],
   "source": [
    "model = Model(input, out)"
   ]
  },
  {
   "cell_type": "code",
   "execution_count": 34,
   "metadata": {
    "collapsed": false,
    "pycharm": {
     "name": "#%%\n"
    }
   },
   "outputs": [],
   "source": [
    "from tensorflow.keras.metrics import AUC, Precision, Recall\n",
    "\n",
    "model.compile(optimizer=\"rmsprop\", loss=\"categorical_crossentropy\", metrics=[\"accuracy\", AUC(), Precision(), Recall()])"
   ]
  },
  {
   "cell_type": "code",
   "execution_count": 35,
   "metadata": {
    "collapsed": false,
    "pycharm": {
     "name": "#%%\n"
    }
   },
   "outputs": [
    {
     "name": "stdout",
     "output_type": "stream",
     "text": [
      "Epoch 1/10\n",
      "116/116 [==============================] - 174s 1s/step - loss: 0.2915 - accuracy: 0.9186 - auc: 0.9935 - precision: 0.9674 - recall: 0.8798 - val_loss: 0.1976 - val_accuracy: 0.9396 - val_auc: 0.9970 - val_precision: 0.9780 - val_recall: 0.9135\n",
      "Epoch 2/10\n",
      "116/116 [==============================] - 167s 1s/step - loss: 0.1209 - accuracy: 0.9646 - auc: 0.9989 - precision: 0.9844 - recall: 0.9502 - val_loss: 0.0641 - val_accuracy: 0.9862 - val_auc: 0.9997 - val_precision: 0.9939 - val_recall: 0.9795\n",
      "Epoch 3/10\n",
      "116/116 [==============================] - 174s 2s/step - loss: 0.0491 - accuracy: 0.9890 - auc: 0.9997 - precision: 0.9926 - recall: 0.9855 - val_loss: 0.0272 - val_accuracy: 0.9962 - val_auc: 1.0000 - val_precision: 0.9974 - val_recall: 0.9951\n",
      "Epoch 4/10\n",
      "116/116 [==============================] - 170s 1s/step - loss: 0.0295 - accuracy: 0.9945 - auc: 0.9998 - precision: 0.9955 - recall: 0.9936 - val_loss: 0.0149 - val_accuracy: 0.9990 - val_auc: 1.0000 - val_precision: 0.9991 - val_recall: 0.9988\n",
      "Epoch 5/10\n",
      "116/116 [==============================] - 166s 1s/step - loss: 0.0215 - accuracy: 0.9963 - auc: 0.9999 - precision: 0.9968 - recall: 0.9959 - val_loss: 0.0107 - val_accuracy: 0.9997 - val_auc: 1.0000 - val_precision: 0.9997 - val_recall: 0.9997\n",
      "Epoch 6/10\n",
      "116/116 [==============================] - 168s 1s/step - loss: 0.0172 - accuracy: 0.9971 - auc: 0.9999 - precision: 0.9974 - recall: 0.9968 - val_loss: 0.0092 - val_accuracy: 0.9995 - val_auc: 1.0000 - val_precision: 0.9996 - val_recall: 0.9995\n",
      "Epoch 7/10\n",
      "116/116 [==============================] - 165s 1s/step - loss: 0.0144 - accuracy: 0.9974 - auc: 0.9999 - precision: 0.9977 - recall: 0.9972 - val_loss: 0.0061 - val_accuracy: 1.0000 - val_auc: 1.0000 - val_precision: 1.0000 - val_recall: 1.0000\n",
      "Epoch 8/10\n",
      "116/116 [==============================] - 163s 1s/step - loss: 0.0128 - accuracy: 0.9977 - auc: 0.9999 - precision: 0.9979 - recall: 0.9975 - val_loss: 0.0052 - val_accuracy: 1.0000 - val_auc: 1.0000 - val_precision: 1.0000 - val_recall: 1.0000\n",
      "Epoch 9/10\n",
      "116/116 [==============================] - 161s 1s/step - loss: 0.0111 - accuracy: 0.9980 - auc: 0.9999 - precision: 0.9982 - recall: 0.9978 - val_loss: 0.0048 - val_accuracy: 1.0000 - val_auc: 1.0000 - val_precision: 1.0000 - val_recall: 1.0000\n",
      "Epoch 10/10\n",
      "116/116 [==============================] - 159s 1s/step - loss: 0.0100 - accuracy: 0.9981 - auc: 0.9999 - precision: 0.9982 - recall: 0.9979 - val_loss: 0.0044 - val_accuracy: 0.9999 - val_auc: 1.0000 - val_precision: 0.9999 - val_recall: 0.9999\n"
     ]
    }
   ],
   "source": [
    "history = model.fit(X_train, np.array(y_train), batch_size=64, epochs=10, validation_split=0.2, verbose=1)"
   ]
  },
  {
   "cell_type": "code",
   "execution_count": 36,
   "metadata": {
    "collapsed": false,
    "pycharm": {
     "name": "#%%\n"
    }
   },
   "outputs": [
    {
     "data": {
      "text/html": [
       "<div>\n",
       "<style scoped>\n",
       "    .dataframe tbody tr th:only-of-type {\n",
       "        vertical-align: middle;\n",
       "    }\n",
       "\n",
       "    .dataframe tbody tr th {\n",
       "        vertical-align: top;\n",
       "    }\n",
       "\n",
       "    .dataframe thead th {\n",
       "        text-align: right;\n",
       "    }\n",
       "</style>\n",
       "<table border=\"1\" class=\"dataframe\">\n",
       "  <thead>\n",
       "    <tr style=\"text-align: right;\">\n",
       "      <th></th>\n",
       "      <th>loss</th>\n",
       "      <th>accuracy</th>\n",
       "      <th>auc</th>\n",
       "      <th>precision</th>\n",
       "      <th>recall</th>\n",
       "      <th>val_loss</th>\n",
       "      <th>val_accuracy</th>\n",
       "      <th>val_auc</th>\n",
       "      <th>val_precision</th>\n",
       "      <th>val_recall</th>\n",
       "    </tr>\n",
       "  </thead>\n",
       "  <tbody>\n",
       "    <tr>\n",
       "      <th>0</th>\n",
       "      <td>0.291493</td>\n",
       "      <td>0.918648</td>\n",
       "      <td>0.993543</td>\n",
       "      <td>0.967409</td>\n",
       "      <td>0.879829</td>\n",
       "      <td>0.197618</td>\n",
       "      <td>0.939584</td>\n",
       "      <td>0.997042</td>\n",
       "      <td>0.978031</td>\n",
       "      <td>0.913458</td>\n",
       "    </tr>\n",
       "    <tr>\n",
       "      <th>1</th>\n",
       "      <td>0.120882</td>\n",
       "      <td>0.964650</td>\n",
       "      <td>0.998900</td>\n",
       "      <td>0.984375</td>\n",
       "      <td>0.950228</td>\n",
       "      <td>0.064125</td>\n",
       "      <td>0.986247</td>\n",
       "      <td>0.999712</td>\n",
       "      <td>0.993897</td>\n",
       "      <td>0.979514</td>\n",
       "    </tr>\n",
       "    <tr>\n",
       "      <th>2</th>\n",
       "      <td>0.049077</td>\n",
       "      <td>0.988966</td>\n",
       "      <td>0.999728</td>\n",
       "      <td>0.992623</td>\n",
       "      <td>0.985548</td>\n",
       "      <td>0.027210</td>\n",
       "      <td>0.996177</td>\n",
       "      <td>0.999967</td>\n",
       "      <td>0.997355</td>\n",
       "      <td>0.995081</td>\n",
       "    </tr>\n",
       "    <tr>\n",
       "      <th>3</th>\n",
       "      <td>0.029470</td>\n",
       "      <td>0.994546</td>\n",
       "      <td>0.999843</td>\n",
       "      <td>0.995505</td>\n",
       "      <td>0.993577</td>\n",
       "      <td>0.014912</td>\n",
       "      <td>0.998985</td>\n",
       "      <td>0.999999</td>\n",
       "      <td>0.999111</td>\n",
       "      <td>0.998818</td>\n",
       "    </tr>\n",
       "    <tr>\n",
       "      <th>4</th>\n",
       "      <td>0.021467</td>\n",
       "      <td>0.996334</td>\n",
       "      <td>0.999886</td>\n",
       "      <td>0.996805</td>\n",
       "      <td>0.995871</td>\n",
       "      <td>0.010749</td>\n",
       "      <td>0.999703</td>\n",
       "      <td>1.000000</td>\n",
       "      <td>0.999746</td>\n",
       "      <td>0.999660</td>\n",
       "    </tr>\n",
       "    <tr>\n",
       "      <th>5</th>\n",
       "      <td>0.017185</td>\n",
       "      <td>0.997082</td>\n",
       "      <td>0.999901</td>\n",
       "      <td>0.997385</td>\n",
       "      <td>0.996806</td>\n",
       "      <td>0.009215</td>\n",
       "      <td>0.999541</td>\n",
       "      <td>1.000000</td>\n",
       "      <td>0.999582</td>\n",
       "      <td>0.999498</td>\n",
       "    </tr>\n",
       "    <tr>\n",
       "      <th>6</th>\n",
       "      <td>0.014443</td>\n",
       "      <td>0.997442</td>\n",
       "      <td>0.999921</td>\n",
       "      <td>0.997709</td>\n",
       "      <td>0.997232</td>\n",
       "      <td>0.006108</td>\n",
       "      <td>1.000000</td>\n",
       "      <td>1.000000</td>\n",
       "      <td>1.000000</td>\n",
       "      <td>1.000000</td>\n",
       "    </tr>\n",
       "    <tr>\n",
       "      <th>7</th>\n",
       "      <td>0.012806</td>\n",
       "      <td>0.997673</td>\n",
       "      <td>0.999921</td>\n",
       "      <td>0.997886</td>\n",
       "      <td>0.997474</td>\n",
       "      <td>0.005217</td>\n",
       "      <td>1.000000</td>\n",
       "      <td>1.000000</td>\n",
       "      <td>1.000000</td>\n",
       "      <td>1.000000</td>\n",
       "    </tr>\n",
       "    <tr>\n",
       "      <th>8</th>\n",
       "      <td>0.011063</td>\n",
       "      <td>0.997977</td>\n",
       "      <td>0.999936</td>\n",
       "      <td>0.998179</td>\n",
       "      <td>0.997808</td>\n",
       "      <td>0.004756</td>\n",
       "      <td>0.999960</td>\n",
       "      <td>1.000000</td>\n",
       "      <td>0.999960</td>\n",
       "      <td>0.999960</td>\n",
       "    </tr>\n",
       "    <tr>\n",
       "      <th>9</th>\n",
       "      <td>0.010047</td>\n",
       "      <td>0.998078</td>\n",
       "      <td>0.999942</td>\n",
       "      <td>0.998249</td>\n",
       "      <td>0.997907</td>\n",
       "      <td>0.004406</td>\n",
       "      <td>0.999917</td>\n",
       "      <td>1.000000</td>\n",
       "      <td>0.999917</td>\n",
       "      <td>0.999917</td>\n",
       "    </tr>\n",
       "  </tbody>\n",
       "</table>\n",
       "</div>"
      ],
      "text/plain": [
       "       loss  accuracy       auc  precision    recall  val_loss  val_accuracy  \\\n",
       "0  0.291493  0.918648  0.993543   0.967409  0.879829  0.197618      0.939584   \n",
       "1  0.120882  0.964650  0.998900   0.984375  0.950228  0.064125      0.986247   \n",
       "2  0.049077  0.988966  0.999728   0.992623  0.985548  0.027210      0.996177   \n",
       "3  0.029470  0.994546  0.999843   0.995505  0.993577  0.014912      0.998985   \n",
       "4  0.021467  0.996334  0.999886   0.996805  0.995871  0.010749      0.999703   \n",
       "5  0.017185  0.997082  0.999901   0.997385  0.996806  0.009215      0.999541   \n",
       "6  0.014443  0.997442  0.999921   0.997709  0.997232  0.006108      1.000000   \n",
       "7  0.012806  0.997673  0.999921   0.997886  0.997474  0.005217      1.000000   \n",
       "8  0.011063  0.997977  0.999936   0.998179  0.997808  0.004756      0.999960   \n",
       "9  0.010047  0.998078  0.999942   0.998249  0.997907  0.004406      0.999917   \n",
       "\n",
       "    val_auc  val_precision  val_recall  \n",
       "0  0.997042       0.978031    0.913458  \n",
       "1  0.999712       0.993897    0.979514  \n",
       "2  0.999967       0.997355    0.995081  \n",
       "3  0.999999       0.999111    0.998818  \n",
       "4  1.000000       0.999746    0.999660  \n",
       "5  1.000000       0.999582    0.999498  \n",
       "6  1.000000       1.000000    1.000000  \n",
       "7  1.000000       1.000000    1.000000  \n",
       "8  1.000000       0.999960    0.999960  \n",
       "9  1.000000       0.999917    0.999917  "
      ]
     },
     "execution_count": 36,
     "metadata": {},
     "output_type": "execute_result"
    }
   ],
   "source": [
    "hist = pd.DataFrame(history.history)\n",
    "hist"
   ]
  },
  {
   "cell_type": "code",
   "execution_count": 37,
   "metadata": {
    "pycharm": {
     "name": "#%%\n"
    }
   },
   "outputs": [
    {
     "data": {
      "image/png": "[encoded data removed]",
      "text/plain": [
       "<Figure size 864x864 with 1 Axes>"
      ]
     },
     "metadata": {
      "needs_background": "light"
     },
     "output_type": "display_data"
    }
   ],
   "source": [
    "plt.figure(figsize=(12,12))\n",
    "plt.plot(hist[\"accuracy\"], label='accuracy')\n",
    "plt.plot(hist[\"val_accuracy\"], label='validation acc.')\n",
    "plt.legend()\n",
    "plt.show()"
   ]
  },
  {
   "cell_type": "code",
   "execution_count": 38,
   "metadata": {
    "pycharm": {
     "name": "#%%\n"
    }
   },
   "outputs": [
    {
     "data": {
      "image/png": "[encoded data removed]",
      "text/plain": [
       "<Figure size 864x864 with 1 Axes>"
      ]
     },
     "metadata": {
      "needs_background": "light"
     },
     "output_type": "display_data"
    }
   ],
   "source": [
    "plt.figure(figsize=(12,12))\n",
    "plt.plot(hist[\"auc\"], label=\"AUC score\")\n",
    "plt.plot(hist[\"val_auc\"], label=\"validation AUC score\")\n",
    "plt.legend()\n",
    "plt.show()"
   ]
  },
  {
   "cell_type": "code",
   "execution_count": 39,
   "metadata": {
    "pycharm": {
     "name": "#%%\n"
    }
   },
   "outputs": [
    {
     "data": {
      "image/png": "[encoded data removed]",
      "text/plain": [
       "<Figure size 864x864 with 1 Axes>"
      ]
     },
     "metadata": {
      "needs_background": "light"
     },
     "output_type": "display_data"
    }
   ],
   "source": [
    "plt.figure(figsize=(12,12))\n",
    "plt.plot(hist[\"precision\"], label=\"Precision score\")\n",
    "plt.plot(hist[\"val_precision\"], label=\"validation Precision score\")\n",
    "plt.legend()\n",
    "plt.show()"
   ]
  },
  {
   "cell_type": "code",
   "execution_count": 40,
   "metadata": {
    "pycharm": {
     "name": "#%%\n"
    }
   },
   "outputs": [
    {
     "data": {
      "image/png": "[encoded data removed]",
      "text/plain": [
       "<Figure size 864x864 with 1 Axes>"
      ]
     },
     "metadata": {
      "needs_background": "light"
     },
     "output_type": "display_data"
    }
   ],
   "source": [
    "plt.figure(figsize=(12,12))\n",
    "plt.plot(hist[\"recall\"], label=\"Recall score\")\n",
    "plt.plot(hist[\"val_recall\"], label=\"validation Recall score\")\n",
    "plt.legend()\n",
    "plt.show()"
   ]
  },
  {
   "cell_type": "code",
   "execution_count": 41,
   "metadata": {
    "pycharm": {
     "name": "#%%\n"
    }
   },
   "outputs": [],
   "source": [
    "model.save('../output/NER_model_updated.h5')"
   ]
  }
 ],
 "metadata": {
  "kernelspec": {
   "display_name": "Python 3.8.13 ('hr')",
   "language": "python",
   "name": "python3"
  },
  "language_info": {
   "codemirror_mode": {
    "name": "ipython",
    "version": 3
   },
   "file_extension": ".py",
   "mimetype": "text/x-python",
   "name": "python",
   "nbconvert_exporter": "python",
   "pygments_lexer": "ipython3",
   "version": "3.8.13"
  },
  "vscode": {
   "interpreter": {
    "hash": "6ac56e923553ae260eadc6a8fc47cb8610e6932d01c07ad0ad2ed4868b3c09b0"
   }
  }
 },
 "nbformat": 4,
 "nbformat_minor": 0
}
