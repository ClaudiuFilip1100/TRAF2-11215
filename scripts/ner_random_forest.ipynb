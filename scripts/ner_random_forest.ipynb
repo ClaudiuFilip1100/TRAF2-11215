{
 "cells": [
  {
   "cell_type": "code",
   "execution_count": 19,
   "metadata": {
    "collapsed": false,
    "pycharm": {
     "name": "#%%\n"
    }
   },
   "outputs": [],
   "source": [
    "import numpy as np\n",
    "import pandas as pd"
   ]
  },
  {
   "cell_type": "markdown",
   "metadata": {
    "collapsed": false,
    "pycharm": {
     "name": "#%% md\n"
    }
   },
   "source": [
    "Steps\n",
    "1. import data\n",
    "2. split the sentences into words\n",
    "3. Tag each word (with B0, learn from [here](https://www.depends-on-the-definition.com/guide-sequence-tagging-neural-networks-python/))\n",
    "4. Create a baseline from [here](https://www.depends-on-the-definition.com/introduction-named-entity-recognition-python/)\n",
    "5. Create a real model. Try a RandomForest Classifier first, and only move on to Neural Networks if it overfits"
   ]
  },
  {
   "cell_type": "code",
   "execution_count": 20,
   "outputs": [
    {
     "data": {
      "text/plain": "    words  sentence # tag\n0     FOB           0   O\n1   MULTI           0   O\n2   CODES           0   O\n3   DENIM           0   O\n4  FABRIC           0   O",
      "text/html": "<div>\n<style scoped>\n    .dataframe tbody tr th:only-of-type {\n        vertical-align: middle;\n    }\n\n    .dataframe tbody tr th {\n        vertical-align: top;\n    }\n\n    .dataframe thead th {\n        text-align: right;\n    }\n</style>\n<table border=\"1\" class=\"dataframe\">\n  <thead>\n    <tr style=\"text-align: right;\">\n      <th></th>\n      <th>words</th>\n      <th>sentence #</th>\n      <th>tag</th>\n    </tr>\n  </thead>\n  <tbody>\n    <tr>\n      <th>0</th>\n      <td>FOB</td>\n      <td>0</td>\n      <td>O</td>\n    </tr>\n    <tr>\n      <th>1</th>\n      <td>MULTI</td>\n      <td>0</td>\n      <td>O</td>\n    </tr>\n    <tr>\n      <th>2</th>\n      <td>CODES</td>\n      <td>0</td>\n      <td>O</td>\n    </tr>\n    <tr>\n      <th>3</th>\n      <td>DENIM</td>\n      <td>0</td>\n      <td>O</td>\n    </tr>\n    <tr>\n      <th>4</th>\n      <td>FABRIC</td>\n      <td>0</td>\n      <td>O</td>\n    </tr>\n  </tbody>\n</table>\n</div>"
     },
     "execution_count": 20,
     "metadata": {},
     "output_type": "execute_result"
    }
   ],
   "source": [
    "df = pd.read_csv('../data/final_dataset.csv')\n",
    "df.head()"
   ],
   "metadata": {
    "collapsed": false,
    "pycharm": {
     "name": "#%%\n"
    }
   }
  },
  {
   "cell_type": "code",
   "execution_count": 21,
   "outputs": [
    {
     "data": {
      "text/plain": "(8819, 62354)"
     },
     "execution_count": 21,
     "metadata": {},
     "output_type": "execute_result"
    }
   ],
   "source": [
    "len(set(df.words)), len(df)"
   ],
   "metadata": {
    "collapsed": false,
    "pycharm": {
     "name": "#%%\n"
    }
   }
  },
  {
   "cell_type": "code",
   "execution_count": 22,
   "outputs": [],
   "source": [
    "class SentenceGetter(object):\n",
    "\n",
    "    def __init__(self, data):\n",
    "        self.n_sent = 0\n",
    "        self.data = data\n",
    "        self.empty = False\n",
    "\n",
    "    def get_next(self):\n",
    "        try:\n",
    "            s = self.data[self.data[\"sentence #\"] == self.n_sent]\n",
    "            self.n_sent += 1\n",
    "            return s[\"words\"].values.tolist(), s[\"tag\"].values.tolist()\n",
    "        except:\n",
    "            self.empty = True\n",
    "            return None, None"
   ],
   "metadata": {
    "collapsed": false,
    "pycharm": {
     "name": "#%%\n"
    }
   }
  },
  {
   "cell_type": "code",
   "execution_count": 23,
   "outputs": [],
   "source": [
    "getter = SentenceGetter(df)"
   ],
   "metadata": {
    "collapsed": false,
    "pycharm": {
     "name": "#%%\n"
    }
   }
  },
  {
   "cell_type": "code",
   "execution_count": 24,
   "outputs": [
    {
     "name": "stdout",
     "output_type": "stream",
     "text": [
      "['FOB', 'MULTI', 'CODES', 'DENIM', 'FABRIC', 'AS', 'PER', 'PROFORMA', 'INVOICE', 'NO.', 'HTX0300/2018', 'DATED', '01.12.18']\n",
      "['O', 'O', 'O', 'O', 'O', 'O', 'O', 'O', 'O', 'O', 'O', 'O', 'O']\n"
     ]
    }
   ],
   "source": [
    "sent, tag = getter.get_next()\n",
    "print(sent)\n",
    "print(tag)"
   ],
   "metadata": {
    "collapsed": false,
    "pycharm": {
     "name": "#%%\n"
    }
   }
  },
  {
   "cell_type": "code",
   "execution_count": 25,
   "outputs": [],
   "source": [
    "from sklearn.ensemble import RandomForestClassifier"
   ],
   "metadata": {
    "collapsed": false,
    "pycharm": {
     "name": "#%%\n"
    }
   }
  },
  {
   "cell_type": "code",
   "execution_count": 81,
   "outputs": [],
   "source": [
    "words = list(set(df[\"words\"].values))\n",
    "words.append(\"ENDPAD\")\n",
    "word2idx = {w: i for i, w in enumerate(words)}\n",
    "w2idx = [word2idx[word] for word in df['words']]\n",
    "\n",
    "# create more features\n",
    "def feature_map(word):\n",
    "    return np.array([word2idx[word], word.isupper(), len(word), word.isdigit(), word.isalpha()])"
   ],
   "metadata": {
    "collapsed": false,
    "pycharm": {
     "name": "#%%\n"
    }
   }
  },
  {
   "cell_type": "code",
   "execution_count": 82,
   "outputs": [
    {
     "data": {
      "text/plain": "[array([4825,    1,    3,    0,    1]),\n array([6441,    1,    5,    0,    1]),\n array([313,   1,   5,   0,   1]),\n array([926,   1,   5,   0,   1]),\n array([4711,    1,    6,    0,    1])]"
     },
     "execution_count": 82,
     "metadata": {},
     "output_type": "execute_result"
    }
   ],
   "source": [
    "new_words = [feature_map(w) for w in df['words'].values.tolist()]\n",
    "new_words[:5]"
   ],
   "metadata": {
    "collapsed": false,
    "pycharm": {
     "name": "#%%\n"
    }
   }
  },
  {
   "cell_type": "code",
   "execution_count": 83,
   "outputs": [],
   "source": [
    "from sklearn.model_selection import cross_val_predict\n",
    "from sklearn.metrics import classification_report\n",
    "\n",
    "rf_classifier = cross_val_predict(RandomForestClassifier(n_estimators=20),\n",
    "                                  X=new_words,\n",
    "                                  y=df['tag'].values.tolist())"
   ],
   "metadata": {
    "collapsed": false,
    "pycharm": {
     "name": "#%%\n"
    }
   }
  },
  {
   "cell_type": "code",
   "execution_count": 84,
   "outputs": [
    {
     "name": "stdout",
     "output_type": "stream",
     "text": [
      "              precision    recall  f1-score   support\n",
      "\n",
      "        B-NW       0.62      0.56      0.59      2037\n",
      "        I-NW       0.81      0.70      0.75      2321\n",
      "           O       0.97      0.98      0.98     57996\n",
      "\n",
      "    accuracy                           0.96     62354\n",
      "   macro avg       0.80      0.75      0.77     62354\n",
      "weighted avg       0.96      0.96      0.96     62354\n",
      "\n"
     ]
    }
   ],
   "source": [
    "report = classification_report(y_pred=rf_classifier, y_true=df['tag'].values.tolist(), zero_division=1)\n",
    "print(report)"
   ],
   "metadata": {
    "collapsed": false,
    "pycharm": {
     "name": "#%%\n"
    }
   }
  }
 ],
 "metadata": {
  "interpreter": {
   "hash": "294127161cfd744f5483a1f73b8b9ea24e75d77cff27b3f82848b1d4bd3d4eb8"
  },
  "kernelspec": {
   "display_name": "Python 3.8.12 ('rl')",
   "language": "python",
   "name": "python3"
  },
  "language_info": {
   "codemirror_mode": {
    "name": "ipython",
    "version": 3
   },
   "file_extension": ".py",
   "mimetype": "text/x-python",
   "name": "python",
   "nbconvert_exporter": "python",
   "pygments_lexer": "ipython3",
   "version": "3.8.12"
  }
 },
 "nbformat": 4,
 "nbformat_minor": 0
}