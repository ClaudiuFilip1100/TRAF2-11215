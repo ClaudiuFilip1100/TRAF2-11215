{
 "cells": [
  {
   "cell_type": "code",
   "execution_count": 1,
   "metadata": {
    "collapsed": false,
    "pycharm": {
     "name": "#%%\n"
    }
   },
   "outputs": [],
   "source": [
    "import pandas as pd"
   ]
  },
  {
   "cell_type": "code",
   "execution_count": 2,
   "metadata": {
    "collapsed": false,
    "pycharm": {
     "name": "#%%\n"
    }
   },
   "outputs": [
    {
     "data": {
      "text/plain": [
       "0    COPPER CLAD LAMINATE AS PER PROFORMA INVOICE N...\n",
       "1    + BRIDGESTONE BRAND TIRE(S) AND O-RING(S) + AS...\n",
       "2    + BRIDGESTONE BRAND TIRE(S) AND O-RING(S) + AS...\n",
       "3    + BRIDGESTONE BRAND TIRE(S) AND O-RING(S). + A...\n",
       "4    LEATHER MEN'S AND/OR LEATHER LADIES' GARMENTS ...\n",
       "Name: 0, dtype: object"
      ]
     },
     "execution_count": 2,
     "metadata": {},
     "output_type": "execute_result"
    }
   ],
   "source": [
    "init_df = pd.read_csv('../../data/cleaned_dataset_append.csv', header=None)\n",
    "init_df = init_df[0]\n",
    "init_df.head()"
   ]
  },
  {
   "cell_type": "code",
   "execution_count": 3,
   "metadata": {
    "collapsed": false,
    "pycharm": {
     "name": "#%%\n"
    }
   },
   "outputs": [
    {
     "data": {
      "text/plain": [
       "1381"
      ]
     },
     "execution_count": 3,
     "metadata": {},
     "output_type": "execute_result"
    }
   ],
   "source": [
    "# create DataFrame\n",
    "df = pd.DataFrame()\n",
    "for idx, sentence in enumerate(init_df):\n",
    "    # create a dict with the sentence nr. and each individual word\n",
    "    words = pd.DataFrame({'words': init_df[idx].split(), 'sentence #': idx})\n",
    "    df = pd.concat([df, words])\n",
    "\n",
    "df['tag'] = ['O' for _ in range(len(df))]\n",
    "\n",
    "len(df)"
   ]
  },
  {
   "cell_type": "code",
   "execution_count": 4,
   "metadata": {
    "collapsed": false,
    "pycharm": {
     "name": "#%%\n"
    }
   },
   "outputs": [
    {
     "data": {
      "text/html": [
       "<div>\n",
       "<style scoped>\n",
       "    .dataframe tbody tr th:only-of-type {\n",
       "        vertical-align: middle;\n",
       "    }\n",
       "\n",
       "    .dataframe tbody tr th {\n",
       "        vertical-align: top;\n",
       "    }\n",
       "\n",
       "    .dataframe thead th {\n",
       "        text-align: right;\n",
       "    }\n",
       "</style>\n",
       "<table border=\"1\" class=\"dataframe\">\n",
       "  <thead>\n",
       "    <tr style=\"text-align: right;\">\n",
       "      <th></th>\n",
       "      <th>words</th>\n",
       "      <th>sentence #</th>\n",
       "      <th>tag</th>\n",
       "    </tr>\n",
       "  </thead>\n",
       "  <tbody>\n",
       "    <tr>\n",
       "      <th>0</th>\n",
       "      <td>COPPER</td>\n",
       "      <td>0</td>\n",
       "      <td>O</td>\n",
       "    </tr>\n",
       "    <tr>\n",
       "      <th>1</th>\n",
       "      <td>CLAD</td>\n",
       "      <td>0</td>\n",
       "      <td>O</td>\n",
       "    </tr>\n",
       "    <tr>\n",
       "      <th>2</th>\n",
       "      <td>LAMINATE</td>\n",
       "      <td>0</td>\n",
       "      <td>O</td>\n",
       "    </tr>\n",
       "    <tr>\n",
       "      <th>3</th>\n",
       "      <td>AS</td>\n",
       "      <td>0</td>\n",
       "      <td>O</td>\n",
       "    </tr>\n",
       "    <tr>\n",
       "      <th>4</th>\n",
       "      <td>PER</td>\n",
       "      <td>0</td>\n",
       "      <td>O</td>\n",
       "    </tr>\n",
       "  </tbody>\n",
       "</table>\n",
       "</div>"
      ],
      "text/plain": [
       "      words  sentence # tag\n",
       "0    COPPER           0   O\n",
       "1      CLAD           0   O\n",
       "2  LAMINATE           0   O\n",
       "3        AS           0   O\n",
       "4       PER           0   O"
      ]
     },
     "execution_count": 4,
     "metadata": {},
     "output_type": "execute_result"
    }
   ],
   "source": [
    "df.words = df.words.apply(lambda x: x.strip()) # remove whitespaces\n",
    "\n",
    "df.head()"
   ]
  },
  {
   "cell_type": "markdown",
   "metadata": {
    "collapsed": false,
    "pycharm": {
     "name": "#%% md\n"
    }
   },
   "source": [
    "The next step is tagging.\n",
    "\n",
    "### In NER tagging refers to the target variable, but it's a bit more complicated than just predicting an output value.\n",
    "\n",
    "That's why we introduce the concept of tags.\n",
    "\n",
    "\n",
    "We need to manually tag each word with its corresponding tag. In normal circumstances, we would also use POS (part of sentence), but since these aren't always sentence we will do without it.\n",
    "\n",
    "For now, I will create two tags:\n",
    "### Net Weight (B-NW, I-NW) and Goods Origin (B-GO, I-GO).\n",
    "\n",
    "This will be a PROOF OF CONCEPT to show that NER is the way to go."
   ]
  },
  {
   "cell_type": "code",
   "execution_count": 5,
   "metadata": {
    "collapsed": false,
    "pycharm": {
     "name": "#%%\n"
    }
   },
   "outputs": [],
   "source": [
    "df.to_csv('../../data/dataset_append.csv', index=False)"
   ]
  }
 ],
 "metadata": {
  "kernelspec": {
   "display_name": "Python 3.8.13 ('conpend')",
   "language": "python",
   "name": "python3"
  },
  "language_info": {
   "codemirror_mode": {
    "name": "ipython",
    "version": 3
   },
   "file_extension": ".py",
   "mimetype": "text/x-python",
   "name": "python",
   "nbconvert_exporter": "python",
   "pygments_lexer": "ipython3",
   "version": "3.8.13"
  },
  "vscode": {
   "interpreter": {
    "hash": "b02c2d9a69eb5992dd78842f785fa56e23ad9a15fb314195388d25b994c9f13f"
   }
  }
 },
 "nbformat": 4,
 "nbformat_minor": 0
}
