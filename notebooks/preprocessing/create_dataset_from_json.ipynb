{
 "cells": [
  {
   "cell_type": "code",
   "execution_count": 13,
   "metadata": {
    "pycharm": {
     "name": "#%%\n"
    }
   },
   "outputs": [],
   "source": [
    "import pandas as pd\n",
    "import json"
   ]
  },
  {
   "cell_type": "code",
   "execution_count": 14,
   "metadata": {
    "pycharm": {
     "name": "#%%\n"
    }
   },
   "outputs": [],
   "source": [
    "f = open('../data/labeling-45a_annotations complete.json')\n",
    "js = json.load(f)"
   ]
  },
  {
   "cell_type": "code",
   "execution_count": 15,
   "metadata": {
    "pycharm": {
     "name": "#%%\n"
    }
   },
   "outputs": [
    {
     "data": {
      "text/plain": [
       "dict_keys(['id', 'examples', 'schema', 'dataset', 'relations', 'name', 'annotators_per_example'])"
      ]
     },
     "execution_count": 15,
     "metadata": {},
     "output_type": "execute_result"
    }
   ],
   "source": [
    "js.keys()"
   ]
  },
  {
   "cell_type": "code",
   "execution_count": 16,
   "metadata": {
    "pycharm": {
     "name": "#%%\n"
    }
   },
   "outputs": [],
   "source": [
    "del js['id']\n",
    "del js['relations']\n",
    "del js['annotators_per_example']\n",
    "del js['dataset']\n",
    "del js['name']"
   ]
  },
  {
   "cell_type": "code",
   "execution_count": 17,
   "metadata": {
    "collapsed": false,
    "pycharm": {
     "name": "#%%\n"
    }
   },
   "outputs": [
    {
     "name": "stdout",
     "output_type": "stream",
     "text": [
      "['GoodsDescription', 'GoodsOrigin', 'HSCode', 'Incoterms', 'Quantity', 'Tolerance', 'UnitPriceAmount']\n"
     ]
    }
   ],
   "source": [
    "tag_types = []\n",
    "for tag in js['schema']['tags']:\n",
    "    tag_types.append(tag['name'])\n",
    "del js['schema']\n",
    "print(tag_types)"
   ]
  },
  {
   "cell_type": "code",
   "execution_count": 18,
   "metadata": {
    "collapsed": false,
    "pycharm": {
     "name": "#%%\n"
    }
   },
   "outputs": [],
   "source": [
    "def replace_dots(x):\n",
    "    return x.replace(':',' ')\n",
    "\n",
    "def replace_comma(x):\n",
    "    return x.replace(',','')"
   ]
  },
  {
   "cell_type": "code",
   "execution_count": 19,
   "metadata": {
    "collapsed": false,
    "pycharm": {
     "name": "#%%\n"
    }
   },
   "outputs": [
    {
     "name": "stdout",
     "output_type": "stream",
     "text": [
      "['O', 'O', 'O', 'O', 'TAG', 'TAG', 'O', 'O', 'O', 'O', 'O', 'O', 'O', 'O', 'O']\n"
     ]
    }
   ],
   "source": [
    "# example\n",
    "content = 'EXW QTY: 192 UNITS CONCENTRATE 7-UP, AS PER BENEFICIARY\\'S SALES QUOTATION NO. 790005454 DATED 02.01.2020'\n",
    "value = 'CONCENTRATE 7-UP,'\n",
    "tags = ['O' for i in range(len(content.split()))]\n",
    "for idx, word in enumerate(content.split()):\n",
    "    if word in value:\n",
    "        tags[idx] = 'TAG'\n",
    "\n",
    "print(tags)"
   ]
  },
  {
   "cell_type": "code",
   "execution_count": 20,
   "metadata": {
    "collapsed": false,
    "pycharm": {
     "name": "#%%\n"
    }
   },
   "outputs": [],
   "source": [
    "# create DataFrame\n",
    "df = pd.DataFrame(columns=['words', 'sentence #', 'tag'])"
   ]
  },
  {
   "cell_type": "code",
   "execution_count": 21,
   "metadata": {
    "collapsed": false,
    "pycharm": {
     "name": "#%%\n"
    }
   },
   "outputs": [],
   "source": [
    "for i in range(len(js['examples'])):\n",
    "    # create df to append\n",
    "    df_app = pd.DataFrame(columns=['words', 'sentence #', 'tag'])\n",
    "\n",
    "    # remove commas and :\n",
    "    content = replace_dots(replace_comma(js['examples'][i]['content']))\n",
    "\n",
    "    # create a list with all the annotations\n",
    "    annotations = js['examples'][i]['annotations']\n",
    "\n",
    "    #create a list with all tags\n",
    "    tags = ['O' for i in range(len(content.split()))]\n",
    "\n",
    "    # for each annotation get the value and add its tag\n",
    "    for annotation in annotations:\n",
    "        value = annotation['value']\n",
    "        for idx, word in enumerate(content.split()):\n",
    "            if word in value:\n",
    "                tags[idx] = annotation['tag']\n",
    "\n",
    "    # create the DataFrame to append\n",
    "    df_app['words'] = content.split()\n",
    "    df_app['sentence #'] = i\n",
    "    df_app['tag'] = tags\n",
    "    df = pd.concat([df, df_app], ignore_index=True)"
   ]
  },
  {
   "cell_type": "code",
   "execution_count": 22,
   "metadata": {
    "collapsed": false,
    "pycharm": {
     "name": "#%%\n"
    }
   },
   "outputs": [
    {
     "data": {
      "text/html": [
       "<div>\n",
       "<style scoped>\n",
       "    .dataframe tbody tr th:only-of-type {\n",
       "        vertical-align: middle;\n",
       "    }\n",
       "\n",
       "    .dataframe tbody tr th {\n",
       "        vertical-align: top;\n",
       "    }\n",
       "\n",
       "    .dataframe thead th {\n",
       "        text-align: right;\n",
       "    }\n",
       "</style>\n",
       "<table border=\"1\" class=\"dataframe\">\n",
       "  <thead>\n",
       "    <tr style=\"text-align: right;\">\n",
       "      <th></th>\n",
       "      <th>words</th>\n",
       "      <th>sentence #</th>\n",
       "      <th>tag</th>\n",
       "    </tr>\n",
       "  </thead>\n",
       "  <tbody>\n",
       "    <tr>\n",
       "      <th>0</th>\n",
       "      <td>CPT</td>\n",
       "      <td>0</td>\n",
       "      <td>Incoterms</td>\n",
       "    </tr>\n",
       "    <tr>\n",
       "      <th>1</th>\n",
       "      <td>LAHORE</td>\n",
       "      <td>0</td>\n",
       "      <td>Incoterms</td>\n",
       "    </tr>\n",
       "    <tr>\n",
       "      <th>2</th>\n",
       "      <td>AIRPORT</td>\n",
       "      <td>0</td>\n",
       "      <td>Incoterms</td>\n",
       "    </tr>\n",
       "    <tr>\n",
       "      <th>3</th>\n",
       "      <td>PAKISTAN</td>\n",
       "      <td>0</td>\n",
       "      <td>Incoterms</td>\n",
       "    </tr>\n",
       "    <tr>\n",
       "      <th>4</th>\n",
       "      <td>QTY</td>\n",
       "      <td>0</td>\n",
       "      <td>O</td>\n",
       "    </tr>\n",
       "    <tr>\n",
       "      <th>...</th>\n",
       "      <td>...</td>\n",
       "      <td>...</td>\n",
       "      <td>...</td>\n",
       "    </tr>\n",
       "    <tr>\n",
       "      <th>60335</th>\n",
       "      <td>INVOICE</td>\n",
       "      <td>1619</td>\n",
       "      <td>O</td>\n",
       "    </tr>\n",
       "    <tr>\n",
       "      <th>60336</th>\n",
       "      <td>NO.</td>\n",
       "      <td>1619</td>\n",
       "      <td>O</td>\n",
       "    </tr>\n",
       "    <tr>\n",
       "      <th>60337</th>\n",
       "      <td>900659</td>\n",
       "      <td>1619</td>\n",
       "      <td>O</td>\n",
       "    </tr>\n",
       "    <tr>\n",
       "      <th>60338</th>\n",
       "      <td>DATED</td>\n",
       "      <td>1619</td>\n",
       "      <td>O</td>\n",
       "    </tr>\n",
       "    <tr>\n",
       "      <th>60339</th>\n",
       "      <td>03.06.19</td>\n",
       "      <td>1619</td>\n",
       "      <td>O</td>\n",
       "    </tr>\n",
       "  </tbody>\n",
       "</table>\n",
       "<p>60340 rows × 3 columns</p>\n",
       "</div>"
      ],
      "text/plain": [
       "          words sentence #        tag\n",
       "0           CPT          0  Incoterms\n",
       "1        LAHORE          0  Incoterms\n",
       "2       AIRPORT          0  Incoterms\n",
       "3      PAKISTAN          0  Incoterms\n",
       "4           QTY          0          O\n",
       "...         ...        ...        ...\n",
       "60335   INVOICE       1619          O\n",
       "60336       NO.       1619          O\n",
       "60337    900659       1619          O\n",
       "60338     DATED       1619          O\n",
       "60339  03.06.19       1619          O\n",
       "\n",
       "[60340 rows x 3 columns]"
      ]
     },
     "execution_count": 22,
     "metadata": {},
     "output_type": "execute_result"
    }
   ],
   "source": [
    "df"
   ]
  },
  {
   "cell_type": "code",
   "execution_count": 23,
   "metadata": {
    "collapsed": false,
    "pycharm": {
     "name": "#%%\n"
    }
   },
   "outputs": [],
   "source": [
    "df.to_csv('../data/dataset_from_json.csv', index=False)"
   ]
  },
  {
   "cell_type": "markdown",
   "metadata": {
    "collapsed": false,
    "pycharm": {
     "name": "#%% md\n"
    }
   },
   "source": [
    "# ISSUES\n",
    "One malfunction that might appear is random words.\n",
    "\n",
    "In this example\n",
    "`CPT LAHORE AIRPORT, PAKISTAN PHARMACEUTICAL ALLOPATHIC RAW MATERIAL OF PHARMACEUTICAL GRADE: QTY:100 KGS TRAMADOL HCL BP/EP AT USD: 45 PER KG. AS PER BENEFICIARY'S PROFORMA INVOICE NO. SLS235/2019 DATED: 22-11-2019`\n",
    "\n",
    "<b> PHARMACEUTICAL ALLOPATHIC RAW MATERIAL</b> is considered <i> GoodsDescription</i>, but the word `PHARMACEUTICAL` appears later as a separate word. We then need to deal with such separate words.\n",
    "\n",
    "One way to do that is check how many such apparititions there are."
   ]
  },
  {
   "cell_type": "code",
   "execution_count": 24,
   "metadata": {
    "pycharm": {
     "name": "#%%\n"
    }
   },
   "outputs": [],
   "source": [
    "# example from before\n",
    "\n",
    "# data = js['content'] #original data\n",
    "# data = data.split()\n",
    "#\n",
    "# df = pd.DataFrame(data, columns=['word'])\n",
    "# df['tag'] = 'O'\n",
    "# df.head()\n",
    "#\n",
    "#\n",
    "# str = 'FOB'\n",
    "#\n",
    "# def change_tag(str, annotations):\n",
    "#     for ann in annotations:\n",
    "#         if str in ann:\n",
    "#             return annotations[ann]\n",
    "#     return 'O'\n",
    "#\n",
    "# change_tag(str, annots)\n",
    "#\n",
    "# df['tag'] = df['word'].apply(change_tag, args=[annots])\n",
    "# df"
   ]
  }
 ],
 "metadata": {
  "kernelspec": {
   "display_name": "Python 3.8.9 64-bit",
   "language": "python",
   "name": "python3"
  },
  "language_info": {
   "codemirror_mode": {
    "name": "ipython",
    "version": 3
   },
   "file_extension": ".py",
   "mimetype": "text/x-python",
   "name": "python",
   "nbconvert_exporter": "python",
   "pygments_lexer": "ipython3",
   "version": "3.8.9"
  },
  "orig_nbformat": 4,
  "vscode": {
   "interpreter": {
    "hash": "31f2aee4e71d21fbe5cf8b01ff0e069b9275f58929596ceb00d14d90e3e16cd6"
   }
  }
 },
 "nbformat": 4,
 "nbformat_minor": 2
}
