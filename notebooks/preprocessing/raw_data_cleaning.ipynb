{
 "cells": [
  {
   "cell_type": "code",
   "execution_count": 1,
   "metadata": {
    "collapsed": false,
    "pycharm": {
     "name": "#%%\n"
    }
   },
   "outputs": [],
   "source": [
    "import pandas as pd\n",
    "import re"
   ]
  },
  {
   "cell_type": "code",
   "execution_count": 2,
   "metadata": {
    "collapsed": false,
    "pycharm": {
     "name": "#%%\n"
    }
   },
   "outputs": [
    {
     "data": {
      "text/plain": [
       "0     COPPER CLAD LAMINATE AS PER PROFORMA INVOICE N...\n",
       "1     + BRIDGESTONE BRAND TIRE(S) AND O-RING(S) + AS...\n",
       "2     + BRIDGESTONE BRAND TIRE(S) AND O-RING(S) + AS...\n",
       "3     + BRIDGESTONE BRAND TIRE(S) AND O-RING(S). + A...\n",
       "4     LEATHER MEN'S AND/OR LEATHER LADIES' GARMENTS ...\n",
       "5     LEATHER MEN'S AND/OR LEATHER LADIES' GARMENTS ...\n",
       "6     QUANTITY 90.000 M(+/-10 O/O) DESCRIPTION POLIE...\n",
       "7     QUANTITY 90.000 M(+/-10 O/O) DESCRIPTION POLIE...\n",
       "8     TOYS AS PER PROFORMA INVOICE NO. TSO1801008 AC...\n",
       "9     TOYS AS PER PROFORMA INVOICE NO. TSO1801008 AC...\n",
       "10    COPPER CLAD LAMINATE AS PER PROFORMA INVOICE N...\n",
       "11    MULTIPURPOSE CLOTH 38X38CM 392860 PINK 141,000...\n",
       "12    PRODUCT: HYDROUS ETHANOL QUANTITY: 2'500.000 M...\n",
       "13    DESCRIPTION OF GOODS: COMMODITY: VCM QUANTITY:...\n",
       "14    25,000 METRIC TONS PLUS OR MINUS TEN PCT OF RU...\n",
       "15    20,000 MTS MIN / MAX RAW CANE SUGAR OF FAIR AV...\n",
       "16    NO. 1 GUATEMALAN CANE RAW SUGAR IN BULK, AVERA...\n",
       "17    COMMODITY: CUMENE QUANTITY: 1500MT PRICE TERM:...\n",
       "18    ELECTROLYTIC COPPER CATHODES . DELIVERY TERM: ...\n",
       "19    +QUANTITY:60,000.METRIC TONS UP TO 10 PCT PLUS...\n",
       "20    220MT TOLUENE AT THE RATE OF USD 1151.68 PER M...\n",
       "21    RUSSIAN MILLING WHEAT IN BULK  QUANTITY : 3.00...\n",
       "22    EX-BONDED WAREHOUSE KAOHSIUNG + PRIMARY UNALLO...\n",
       "23    2000.00 WMT (PLUS OR MINUS 10 PCT) OF LEAD CON...\n",
       "24    PRODUCT: HYDROUS ETHANOL QUANTITY: 2'500.000 M...\n",
       "25    DESCRIPTION OF GOODS: COMMODITY: VCM QUANTITY:...\n",
       "26    FOB DJIBOUTI / ETHIOPIA PORT QTY: 363 MT (15 X...\n",
       "27    GARMENTS AND/OR ACCESSORIES (VESTUARIO E/OU AC...\n",
       "28    TELECOMMUNICATION EQUIPMENT AS PER PROFORMA IN...\n",
       "29    (PLUS OR MINUS 5 PCT) 500 MT OF DEFORMED STEEL...\n",
       "30    DDS MOBILE CHARGNING MACHINE SPARE PARTS QUANT...\n",
       "31    + COMMODITY: MAKROLON 2807 010131 (POLYCARBONA...\n",
       "32       1123 Boxes of Tennis Sneakers marked Djoko 23 \n",
       "33                       /ADD/ Packed in wooden crates \n",
       "34    3450 Wooden Crates filled with Blue Cheese Bot...\n",
       "35    PLAQUES GRANITS. AS PER PROFORMA INVOICE NUMBE...\n",
       "36    GARMENTS AND/OR ACCESSORIES (VESTUARIO E/OU AC...\n",
       "37    SUPERMARKET EQUIPMENTS. ALL OTHER DETAILS ARE ...\n",
       "38    100,000 Bottles ( +/- 05/05 %) of First Class ...\n",
       "39    ARI-FABA BELLOW SEALED VALVES FOR OLEOHYDRAULI...\n",
       "40    3358 PCS OF WEARING APPARELS AS PER ORDER REF....\n",
       "Name: 0, dtype: object"
      ]
     },
     "execution_count": 2,
     "metadata": {},
     "output_type": "execute_result"
    }
   ],
   "source": [
    "raw_df = pd.read_csv('../../data/raw_dataset_append.csv', header=None)\n",
    "raw_df.head(10)\n",
    "raw_df = raw_df[0]\n",
    "raw_df"
   ]
  },
  {
   "cell_type": "markdown",
   "metadata": {
    "collapsed": false,
    "pycharm": {
     "name": "#%% md\n"
    }
   },
   "source": [
    "1. remove null values\n",
    "2. remove _x005F_x000D_"
   ]
  },
  {
   "cell_type": "code",
   "execution_count": 3,
   "metadata": {
    "collapsed": false,
    "pycharm": {
     "name": "#%%\n"
    }
   },
   "outputs": [
    {
     "name": "stdout",
     "output_type": "stream",
     "text": [
      "0\n",
      "0\n"
     ]
    }
   ],
   "source": [
    "print(sum(raw_df.isna()))\n",
    "raw_df.dropna(inplace=True)\n",
    "print(sum(raw_df.isna()))"
   ]
  },
  {
   "cell_type": "code",
   "execution_count": 4,
   "metadata": {
    "collapsed": false,
    "pycharm": {
     "name": "#%%\n"
    }
   },
   "outputs": [
    {
     "data": {
      "text/plain": [
       "0    COPPER CLAD LAMINATE AS PER PROFORMA INVOICE N...\n",
       "1    + BRIDGESTONE BRAND TIRE(S) AND O-RING(S) + AS...\n",
       "2    + BRIDGESTONE BRAND TIRE(S) AND O-RING(S) + AS...\n",
       "3    + BRIDGESTONE BRAND TIRE(S) AND O-RING(S). + A...\n",
       "4    LEATHER MEN'S AND/OR LEATHER LADIES' GARMENTS ...\n",
       "Name: 0, dtype: object"
      ]
     },
     "execution_count": 4,
     "metadata": {},
     "output_type": "execute_result"
    }
   ],
   "source": [
    "raw_df.head()"
   ]
  },
  {
   "cell_type": "code",
   "execution_count": 5,
   "metadata": {
    "collapsed": false,
    "pycharm": {
     "name": "#%%\n"
    }
   },
   "outputs": [],
   "source": [
    "df = raw_df.apply(lambda x: x.replace('_x005F_x000D_',''))"
   ]
  },
  {
   "cell_type": "code",
   "execution_count": 6,
   "metadata": {
    "collapsed": false,
    "pycharm": {
     "name": "#%%\n"
    }
   },
   "outputs": [],
   "source": [
    "df_2 = df.apply(lambda x: x.replace('\\n',' '))"
   ]
  },
  {
   "cell_type": "code",
   "execution_count": 7,
   "metadata": {
    "collapsed": false,
    "pycharm": {
     "name": "#%%\n"
    }
   },
   "outputs": [],
   "source": [
    "df_2 = df_2.apply(lambda x: x.replace(':',' '))"
   ]
  },
  {
   "cell_type": "code",
   "execution_count": 8,
   "metadata": {
    "collapsed": false,
    "pycharm": {
     "name": "#%%\n"
    }
   },
   "outputs": [],
   "source": [
    "df_2 = df_2.apply(lambda x: x.replace('+)',''))"
   ]
  },
  {
   "cell_type": "code",
   "execution_count": 9,
   "metadata": {
    "collapsed": false,
    "pycharm": {
     "name": "#%%\n"
    }
   },
   "outputs": [],
   "source": [
    "# to remove 1- or 2- characters from numbering QTY\n",
    "df_2 = df_2.apply(lambda x: re.sub('\\d-', '', x))"
   ]
  },
  {
   "cell_type": "code",
   "execution_count": 10,
   "metadata": {
    "collapsed": false,
    "pycharm": {
     "name": "#%%\n"
    }
   },
   "outputs": [],
   "source": [
    "# to remove (1) or (2) characters from numbering QTY\n",
    "df_2 = df_2.apply(lambda x: re.sub('\\(\\d\\)', '', x))"
   ]
  },
  {
   "cell_type": "code",
   "execution_count": 11,
   "metadata": {
    "collapsed": false,
    "pycharm": {
     "name": "#%%\n"
    }
   },
   "outputs": [],
   "source": [
    "# to remove 1) or 2) characters from numbering QTY\n",
    "df_2 = df_2.apply(lambda x: re.sub('\\\\d\\)', '', x))"
   ]
  },
  {
   "cell_type": "code",
   "execution_count": 12,
   "metadata": {
    "collapsed": false,
    "pycharm": {
     "name": "#%%\n"
    }
   },
   "outputs": [],
   "source": [
    "# to remove , followed by space from sentences, but not from numbers\n",
    "df_2 = df_2.apply(lambda x: re.sub(',\\s', '', x))"
   ]
  },
  {
   "cell_type": "code",
   "execution_count": 13,
   "metadata": {
    "collapsed": false,
    "pycharm": {
     "name": "#%%\n"
    }
   },
   "outputs": [],
   "source": [
    "# to remove , followed by word from sentences, but not from numbers\n",
    "df_2 = df_2.apply(lambda x: re.sub(',\\w', '', x))"
   ]
  },
  {
   "cell_type": "code",
   "execution_count": 14,
   "metadata": {
    "collapsed": false,
    "pycharm": {
     "name": "#%%\n"
    }
   },
   "outputs": [],
   "source": [
    "def remove_dot(x):\n",
    "    pattern = '\\w\\.' # removes dots at the end of sentences... ex: \"we went there.\" -> \"we went there\"\n",
    "    finds = re.findall(pattern, x)\n",
    "    for find in finds:\n",
    "        x = re.sub(pattern, find[:-1], x)\n",
    "\n",
    "    pattern_2 = '\\.\\w' # removes dots at the end of sentences. ex: \"we went .there\" -> \"we went there\"\n",
    "    x = re.sub(pattern_2, '', x)\n",
    "\n",
    "    pattern_3 = '\\s\\.\\s' # removes dots at the end of sentences. ex: \"abc . abc\" -> \"abc abc\"\n",
    "    x = re.sub(pattern_3, '', x)\n",
    "\n",
    "    return x\n",
    "\n",
    "df_2 = df_2.apply(remove_dot)"
   ]
  },
  {
   "cell_type": "code",
   "execution_count": 15,
   "metadata": {
    "collapsed": false,
    "pycharm": {
     "name": "#%%\n"
    }
   },
   "outputs": [],
   "source": [
    "df_2 = df_2.apply(lambda x: x.replace(' - ',''))"
   ]
  },
  {
   "cell_type": "code",
   "execution_count": 16,
   "metadata": {
    "collapsed": false,
    "pycharm": {
     "name": "#%%\n"
    }
   },
   "outputs": [],
   "source": [
    "df_2 = df_2.apply(lambda x: x.replace('++++++++++++++++++++++++++++++++++++',''))"
   ]
  },
  {
   "cell_type": "code",
   "execution_count": 17,
   "metadata": {
    "collapsed": false,
    "pycharm": {
     "name": "#%%\n"
    }
   },
   "outputs": [],
   "source": [
    "df_2 = df_2.apply(lambda x: x.strip())"
   ]
  },
  {
   "cell_type": "code",
   "execution_count": 18,
   "metadata": {
    "collapsed": false,
    "pycharm": {
     "name": "#%%\n"
    }
   },
   "outputs": [
    {
     "data": {
      "text/plain": [
       "0    COPPER CLAD LAMINATE AS PER PROFORMA INVOICE N...\n",
       "1    + BRIDGESTONE BRAND TIRE(S) AND O-RING(S) + AS...\n",
       "2    + BRIDGESTONE BRAND TIRE(S) AND O-RING(S) + AS...\n",
       "3    + BRIDGESTONE BRAND TIRE(S) AND O-RING(S). + A...\n",
       "4    LEATHER MEN'S AND/OR LEATHER LADIES' GARMENTS ...\n",
       "5    LEATHER MEN'S AND/OR LEATHER LADIES' GARMENTS ...\n",
       "6    QUANTITY 90000 M(+/-10 O/O) DESCRIPTION POLIES...\n",
       "7    QUANTITY 90000 M(+/-10 O/O) DESCRIPTION POLIES...\n",
       "8    TOYS AS PER PROFORMA INVOICE NO TSO1801008 ACC...\n",
       "9    TOYS AS PER PROFORMA INVOICE NO TSO1801008 ACC...\n",
       "Name: 0, dtype: object"
      ]
     },
     "execution_count": 18,
     "metadata": {},
     "output_type": "execute_result"
    }
   ],
   "source": [
    "df_2.head(10)"
   ]
  },
  {
   "cell_type": "code",
   "execution_count": 19,
   "metadata": {
    "collapsed": false,
    "pycharm": {
     "name": "#%%\n"
    }
   },
   "outputs": [],
   "source": [
    "df_2.to_csv('../../data/cleaned_dataset_append.csv', index=False, header=False)"
   ]
  },
  {
   "cell_type": "markdown",
   "metadata": {
    "collapsed": false,
    "pycharm": {
     "name": "#%% md\n"
    }
   },
   "source": [
    "EXW QTY: 496,800.00 KGS POLYESTER CHIPS BOTTLE GRADE (PET RESIN) GATRONOVA 'A 84' AT PKR: 159.00 PER KG PKR: 78,991,200 (WITHOUT SALES TAX) PLUS 17 PERCENT SALES TAX PKR: 13,428,504 MAKING TOTAL V..."
   ]
  },
  {
   "cell_type": "markdown",
   "metadata": {
    "collapsed": false,
    "pycharm": {
     "name": "#%% md\n"
    }
   },
   "source": [
    "https://github.com/floydhub/named-entity-recognition-template"
   ]
  }
 ],
 "metadata": {
  "kernelspec": {
   "display_name": "Python 3.8.13 ('conpend')",
   "language": "python",
   "name": "python3"
  },
  "language_info": {
   "codemirror_mode": {
    "name": "ipython",
    "version": 3
   },
   "file_extension": ".py",
   "mimetype": "text/x-python",
   "name": "python",
   "nbconvert_exporter": "python",
   "pygments_lexer": "ipython3",
   "version": "3.8.13"
  },
  "vscode": {
   "interpreter": {
    "hash": "b02c2d9a69eb5992dd78842f785fa56e23ad9a15fb314195388d25b994c9f13f"
   }
  }
 },
 "nbformat": 4,
 "nbformat_minor": 0
}
