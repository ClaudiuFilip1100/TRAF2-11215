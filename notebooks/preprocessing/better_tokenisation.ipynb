{
 "cells": [
  {
   "cell_type": "code",
   "execution_count": 113,
   "metadata": {},
   "outputs": [],
   "source": [
    "import pandas as pd\n",
    "import re"
   ]
  },
  {
   "cell_type": "code",
   "execution_count": 114,
   "metadata": {},
   "outputs": [
    {
     "data": {
      "text/html": [
       "<div>\n",
       "<style scoped>\n",
       "    .dataframe tbody tr th:only-of-type {\n",
       "        vertical-align: middle;\n",
       "    }\n",
       "\n",
       "    .dataframe tbody tr th {\n",
       "        vertical-align: top;\n",
       "    }\n",
       "\n",
       "    .dataframe thead th {\n",
       "        text-align: right;\n",
       "    }\n",
       "</style>\n",
       "<table border=\"1\" class=\"dataframe\">\n",
       "  <thead>\n",
       "    <tr style=\"text-align: right;\">\n",
       "      <th></th>\n",
       "      <th>words</th>\n",
       "      <th>sentence #</th>\n",
       "      <th>tag</th>\n",
       "    </tr>\n",
       "  </thead>\n",
       "  <tbody>\n",
       "    <tr>\n",
       "      <th>0</th>\n",
       "      <td>BRIDGESTONE</td>\n",
       "      <td>0</td>\n",
       "      <td>O</td>\n",
       "    </tr>\n",
       "    <tr>\n",
       "      <th>1</th>\n",
       "      <td>BRAND</td>\n",
       "      <td>0</td>\n",
       "      <td>O</td>\n",
       "    </tr>\n",
       "    <tr>\n",
       "      <th>2</th>\n",
       "      <td>TIRE(S)</td>\n",
       "      <td>0</td>\n",
       "      <td>GoodsDescription</td>\n",
       "    </tr>\n",
       "    <tr>\n",
       "      <th>3</th>\n",
       "      <td>AND</td>\n",
       "      <td>0</td>\n",
       "      <td>GoodsDescription</td>\n",
       "    </tr>\n",
       "    <tr>\n",
       "      <th>4</th>\n",
       "      <td>O-RING(S)</td>\n",
       "      <td>0</td>\n",
       "      <td>GoodsDescription</td>\n",
       "    </tr>\n",
       "  </tbody>\n",
       "</table>\n",
       "</div>"
      ],
      "text/plain": [
       "         words  sentence #               tag\n",
       "0  BRIDGESTONE           0                 O\n",
       "1        BRAND           0                 O\n",
       "2      TIRE(S)           0  GoodsDescription\n",
       "3          AND           0  GoodsDescription\n",
       "4    O-RING(S)           0  GoodsDescription"
      ]
     },
     "execution_count": 114,
     "metadata": {},
     "output_type": "execute_result"
    }
   ],
   "source": [
    "df = pd.read_csv('../../data/dataset_from_json_v2.csv')\n",
    "df.head()"
   ]
  },
  {
   "cell_type": "code",
   "execution_count": 115,
   "metadata": {},
   "outputs": [
    {
     "data": {
      "text/plain": [
       "words         GREY\n",
       "sentence #       5\n",
       "tag              O\n",
       "Name: 115, dtype: object"
      ]
     },
     "execution_count": 115,
     "metadata": {},
     "output_type": "execute_result"
    }
   ],
   "source": [
    "df.iloc[115,:]"
   ]
  },
  {
   "cell_type": "code",
   "execution_count": 116,
   "metadata": {},
   "outputs": [],
   "source": [
    "combine = lambda x: ' '.join(x['words'])"
   ]
  },
  {
   "cell_type": "code",
   "execution_count": 117,
   "metadata": {},
   "outputs": [
    {
     "data": {
      "text/plain": [
       "sentence #\n",
       "0     BRIDGESTONE BRAND TIRE(S) AND O-RING(S) AS PER...\n",
       "1     BRIDGESTONE BRAND TIRE(S) AND O-RING(S) AS PER...\n",
       "2     BRIDGESTONE BRAND TIRE(S) AND O-RING(S). AS PE...\n",
       "3     LEATHER MEN S AND/OR LEATHER LADIES GARMENTS U...\n",
       "4     LEATHER MEN S AND/OR LEATHER LADIES GARMENTS U...\n",
       "5     QUANTITY 90000 M(+/-10 O/O) DESCRIPTION POLIES...\n",
       "6     QUANTITY 90000 M(+/-10 O/O) DESCRIPTION POLIES...\n",
       "7     TOYS AS PER PROFORMA INVOICE NO TSO1801008 ACC...\n",
       "8     TOYS AS PER PROFORMA INVOICE NO TSO1801008 ACC...\n",
       "9         1123 Boxes of Tennis Sneakers marked Djoko 23\n",
       "10    COPPER CLAD LAMINATE AS PER PROFORMA INVOICE N...\n",
       "11    MULTIPURPOSE CLOTH 38X38CM 392860 PINK 141 00P...\n",
       "12    PRODUCT HYDROUS ETHANOL QUANTITY 2 500000 METR...\n",
       "13    COMMODITY CUMENE QUANTITY 1500MT PRICE TERM US...\n",
       "14    FOB DJIBOUTI / ETHIOPIA PORT QTY 363 MT (15 X ...\n",
       "15    GARMENTS AND/OR ACCESSORIES (VESTUARIO E/OU AC...\n",
       "16    TELECOMMUNICATION EQUIPMENT AS PER PROFORMA IN...\n",
       "17    (PLUS OR MINUS 5 PCT) 500 MT OF DEFORMED STEEL...\n",
       "18                        /ADD/ Packed in wooden crates\n",
       "19    DESCRIPTION OF GOODS COMMODITY VCM QUANTITY 4 ...\n",
       "20    25 00 METRIC TONS PLUS OR MINUS TEN PCT OF RUS...\n",
       "21    20 00 MTS MIN / MAX RAW CANE SUGAR OF FAIR AVE...\n",
       "22    NO 1 GUATEMALAN CANE RAW SUGAR IN BULK AVERAGE...\n",
       "23    ELECTROLYTIC COPPER CATHODESDELIVERY TERM CIF ...\n",
       "24    QUANTITY 60 00METRIC TONS UP TO 10 PCT PLUS OR...\n",
       "25    220MT TOLUENE AT THE RATE OF USD 115168 PER MT...\n",
       "26    RUSSIAN MILLING WHEAT IN BULK QUANTITY 3000 MT...\n",
       "27    EX-BONDED WAREHOUSE KAOHSIUNG PRIMARY UNALLOYE...\n",
       "28    200000 WMT (PLUS OR MINUS 10 PCT) OF LEAD CONC...\n",
       "29    PRODUCT HYDROUS ETHANOL QUANTITY 2 500000 METR...\n",
       "30    DESCRIPTION OF GOODS COMMODITY VCM QUANTITY 4 ...\n",
       "31    DDS MOBILE CHARGNING MACHINE SPARE PARTS QUANT...\n",
       "32    + COMMODITY MAKROLON 2807 010131 (POLYCARBONAT...\n",
       "33    3450 Wooden Crates filled with Blue Cheese Bot...\n",
       "34    PLAQUES GRANITS AS PER PROFORMA INVOICE NUMBER...\n",
       "35    GARMENTS AND/OR ACCESSORIES (VESTUARIO E/OU AC...\n",
       "36    SUPERMARKET EQUIPMENTS ALL OTHER DETAILS ARE A...\n",
       "37    100 00 Bottles ( +/- 05/05 %) of First Class T...\n",
       "38    ARI-FABA BELLOW SEALED VALVES FOR OLEOHYDRAULI...\n",
       "39    3358 PCS OF WEARING APPARELS AS PER ORDER REF ...\n",
       "dtype: object"
      ]
     },
     "execution_count": 117,
     "metadata": {},
     "output_type": "execute_result"
    }
   ],
   "source": [
    "words = df.groupby(df['sentence #']).apply(combine)\n",
    "words"
   ]
  },
  {
   "cell_type": "code",
   "execution_count": 118,
   "metadata": {},
   "outputs": [
    {
     "data": {
      "text/plain": [
       "'QUANTITY 90000 M(+/-10 O/O) DESCRIPTION POLIESTER SATIN FABRIC CODE 42250 GREY A7 GRADE PO N07929/10 CIF INCOTERMS 2010'"
      ]
     },
     "execution_count": 118,
     "metadata": {},
     "output_type": "execute_result"
    }
   ],
   "source": [
    "# example\n",
    "words[5]"
   ]
  },
  {
   "cell_type": "code",
   "execution_count": 119,
   "metadata": {},
   "outputs": [
    {
     "data": {
      "text/plain": [
       "Series([], dtype: object)"
      ]
     },
     "execution_count": 119,
     "metadata": {},
     "output_type": "execute_result"
    }
   ],
   "source": [
    "find_special = lambda x: '58/60' in x #'CFR KARACHI PORT/ PORT QASIM TOTAL QUANTITY 21 MT PARAFFIN WAX 58/60 FULLY REFINED AT USD 950.00 PER M/TON AS PER INDENT NO. SBR/DEPT.C/581/2019 DATED 19.11.19 OD M/S S.B.R. AND CO. KARACHI PAKISTAN'\n",
    "find_special = lambda x: '950.00' in x \n",
    "\n",
    "specials = words[words.apply(find_special)]\n",
    "specials"
   ]
  },
  {
   "cell_type": "code",
   "execution_count": 120,
   "metadata": {},
   "outputs": [],
   "source": [
    "# we need \\S instead of \\w because we have dates: 31.10.2019 which need to be extracted as a single entity\n",
    "\n",
    "# EXAMPLE\n",
    "# extract_containing_numbers = lambda x: re.findall(r'\\d+\\S+', x)\n",
    "# extract_containing_numbers\n",
    "# words.apply(extract_containing_numbers).tolist()"
   ]
  },
  {
   "cell_type": "code",
   "execution_count": 121,
   "metadata": {},
   "outputs": [],
   "source": [
    "#extract the NUMBERS, INCOTERMS and DATES for better tokenisation\n",
    "extract_numbers = lambda x: re.findall(r'\\d+\\S+', x)\n",
    "list_words = words.apply(extract_numbers).tolist()\n",
    "flat_list = [el for l in list_words for el in l]"
   ]
  },
  {
   "cell_type": "code",
   "execution_count": 122,
   "metadata": {},
   "outputs": [
    {
     "data": {
      "text/plain": [
       "235"
      ]
     },
     "execution_count": 122,
     "metadata": {},
     "output_type": "execute_result"
    }
   ],
   "source": [
    "words\n",
    "words.apply(extract_numbers).tolist()\n",
    "len(flat_list)"
   ]
  },
  {
   "cell_type": "code",
   "execution_count": 123,
   "metadata": {},
   "outputs": [],
   "source": [
    "numbers = set(flat_list)\n",
    "numbers\n",
    "\n",
    "# we now need to remove ONLY the . at the end\n",
    "numbers = [n[:-1] if n[-1] == '.' else n for n in list(numbers)]"
   ]
  },
  {
   "cell_type": "markdown",
   "metadata": {},
   "source": [
    "Now we need to classify them in 3 categories: \n",
    "1. \\<number\\> for Quantity and UnitPriceAmount example 2000\n",
    "2. \\<ID\\> for INCOTERMS example 2019H29Q2\n",
    "3. \\<DATE\\> for improved tokenisation\n",
    "\n",
    "Why? We have a new date everyday, and if we include every day as another date in the vocabulary we might think eroneously that we have a large vocabulary, when in fact all we have is a lot of numbers, ids and dates."
   ]
  },
  {
   "cell_type": "code",
   "execution_count": 124,
   "metadata": {},
   "outputs": [
    {
     "data": {
      "text/plain": [
       "(0       56\n",
       " 1    00M/T\n",
       " 2     3000\n",
       " 3     1461\n",
       " 4    1N046\n",
       " dtype: object,\n",
       " (156,))"
      ]
     },
     "execution_count": 124,
     "metadata": {},
     "output_type": "execute_result"
    }
   ],
   "source": [
    "nrs = pd.Series(numbers) #convert to Series for ease of use\n",
    "nrs.head(), nrs.shape"
   ]
  },
  {
   "cell_type": "markdown",
   "metadata": {},
   "source": [
    "I am speculating that\n",
    "\n",
    "1. Quantity contains only Integer values: 1000, 200, 7000\n",
    "2. UnitPriceAmount contains Float values: 250.00, 293.11\n",
    "3. Dates have a specific type: xx/xx/xxxx or xx-xx-xxxx\n",
    "4. Everything else is Incoterms"
   ]
  },
  {
   "cell_type": "code",
   "execution_count": 125,
   "metadata": {},
   "outputs": [],
   "source": [
    "# Quantity\n",
    "def convert_to_int(x):    \n",
    "    try:\n",
    "        int(x)\n",
    "        return True\n",
    "    except ValueError:\n",
    "        return False\n",
    "\n",
    "quantities = nrs.apply(convert_to_int)"
   ]
  },
  {
   "cell_type": "code",
   "execution_count": 126,
   "metadata": {},
   "outputs": [],
   "source": [
    "# UnitPriceAmount\n",
    "def convert_to_float(x):    \n",
    "    try:\n",
    "        if not convert_to_int(x):\n",
    "            float(x)\n",
    "        else:\n",
    "            return False\n",
    "\n",
    "        return True\n",
    "    except ValueError:\n",
    "        return False\n",
    "\n",
    "units = nrs.apply(convert_to_float)"
   ]
  },
  {
   "cell_type": "code",
   "execution_count": 127,
   "metadata": {},
   "outputs": [],
   "source": [
    "# Dates\n",
    "def convert_to_ids(x):    \n",
    "    try:\n",
    "        is_date = re.findall('^\\d{2}(\\.|\\/)\\d{2}(\\.|\\/)\\d{4}$', x)\n",
    "        if len(is_date) == 0:\n",
    "            return False\n",
    "        else:\n",
    "            return True\n",
    "    except ValueError:\n",
    "        return False\n",
    "\n",
    "dates = nrs.apply(convert_to_ids)"
   ]
  },
  {
   "cell_type": "code",
   "execution_count": 128,
   "metadata": {},
   "outputs": [
    {
     "data": {
      "text/plain": [
       "76    04/12/2020\n",
       "dtype: object"
      ]
     },
     "execution_count": 128,
     "metadata": {},
     "output_type": "execute_result"
    }
   ],
   "source": [
    "nrs[dates]"
   ]
  },
  {
   "cell_type": "code",
   "execution_count": 129,
   "metadata": {},
   "outputs": [
    {
     "data": {
      "text/plain": [
       "0      False\n",
       "1       True\n",
       "2      False\n",
       "3      False\n",
       "4       True\n",
       "       ...  \n",
       "151    False\n",
       "152     True\n",
       "153    False\n",
       "154    False\n",
       "155    False\n",
       "Length: 156, dtype: bool"
      ]
     },
     "execution_count": 129,
     "metadata": {},
     "output_type": "execute_result"
    }
   ],
   "source": [
    "# the rest are incoterms\n",
    "incoterms = ~quantities & ~units & ~dates\n",
    "incoterms"
   ]
  },
  {
   "cell_type": "code",
   "execution_count": 130,
   "metadata": {},
   "outputs": [
    {
     "data": {
      "text/plain": [
       "(156, 156)"
      ]
     },
     "execution_count": 130,
     "metadata": {},
     "output_type": "execute_result"
    }
   ],
   "source": [
    "quantities.sum() + units.sum() + dates.sum() + incoterms.sum(), nrs.shape[0]"
   ]
  },
  {
   "cell_type": "code",
   "execution_count": 131,
   "metadata": {},
   "outputs": [
    {
     "data": {
      "text/plain": [
       "['56',\n",
       " '3000',\n",
       " '1461',\n",
       " '281819',\n",
       " '80',\n",
       " '3450',\n",
       " '26',\n",
       " '141613456',\n",
       " '517',\n",
       " '392860',\n",
       " '15',\n",
       " '20',\n",
       " '4850',\n",
       " '18',\n",
       " '446',\n",
       " '115168',\n",
       " '60',\n",
       " '514',\n",
       " '67',\n",
       " '505',\n",
       " '500',\n",
       " '00',\n",
       " '2014',\n",
       " '110164',\n",
       " '85',\n",
       " '787',\n",
       " '141',\n",
       " '4571',\n",
       " '363',\n",
       " '200000',\n",
       " '04',\n",
       " '13032014',\n",
       " '3358',\n",
       " '65537',\n",
       " '90000',\n",
       " '201',\n",
       " '790',\n",
       " '96',\n",
       " '796',\n",
       " '6300',\n",
       " '42250',\n",
       " '508',\n",
       " '2807',\n",
       " '11012014',\n",
       " '201801012',\n",
       " '000',\n",
       " '997',\n",
       " '510',\n",
       " '9850',\n",
       " '5800',\n",
       " '16',\n",
       " '2050',\n",
       " '985',\n",
       " '173',\n",
       " '788',\n",
       " '500000',\n",
       " '100',\n",
       " '45',\n",
       " '1345',\n",
       " '392880',\n",
       " '515',\n",
       " '1123',\n",
       " '374340000',\n",
       " '2000',\n",
       " '202',\n",
       " '99589',\n",
       " '792',\n",
       " '396',\n",
       " '2021',\n",
       " '794',\n",
       " '10000103',\n",
       " '392890',\n",
       " '112',\n",
       " '06',\n",
       " '506',\n",
       " '22',\n",
       " '25',\n",
       " '10',\n",
       " '200',\n",
       " '010131',\n",
       " '141613462',\n",
       " '50',\n",
       " '288',\n",
       " '1801008',\n",
       " '23',\n",
       " '555',\n",
       " '00122',\n",
       " '518',\n",
       " '2017',\n",
       " '2010']"
      ]
     },
     "execution_count": 131,
     "metadata": {},
     "output_type": "execute_result"
    }
   ],
   "source": [
    "nrs[quantities].tolist()"
   ]
  },
  {
   "cell_type": "code",
   "execution_count": 132,
   "metadata": {},
   "outputs": [
    {
     "data": {
      "text/plain": [
       "1      None\n",
       "4      None\n",
       "7      None\n",
       "8      None\n",
       "10     None\n",
       "       ... \n",
       "139    None\n",
       "144    None\n",
       "146    None\n",
       "149    None\n",
       "152    None\n",
       "Length: 65, dtype: object"
      ]
     },
     "execution_count": 132,
     "metadata": {},
     "output_type": "execute_result"
    }
   ],
   "source": [
    "dictionary = {}\n",
    "\n",
    "def append_to_dict(key, value):\n",
    "    dictionary[key] = value\n",
    "\n",
    "\n",
    "nrs[quantities].apply(append_to_dict, args=('<QUANTITY>',))\n",
    "nrs[units].apply(append_to_dict, args=('<UNITPRICEAMOUNT>',))\n",
    "nrs[dates].apply(append_to_dict, args=('<DATE>',))\n",
    "nrs[incoterms].apply(append_to_dict, args=('<INCOTERMS>',))"
   ]
  },
  {
   "cell_type": "code",
   "execution_count": 133,
   "metadata": {},
   "outputs": [],
   "source": [
    "# now we need to map through the dataset and change the values.\n",
    "\n",
    "def mapping(word):\n",
    "    if word in dictionary.keys():\n",
    "        return dictionary[word]\n",
    "    return word\n",
    "\n",
    "df['new_mappings'] = df['words'].apply(mapping)"
   ]
  },
  {
   "cell_type": "code",
   "execution_count": 134,
   "metadata": {},
   "outputs": [
    {
     "data": {
      "text/html": [
       "<div>\n",
       "<style scoped>\n",
       "    .dataframe tbody tr th:only-of-type {\n",
       "        vertical-align: middle;\n",
       "    }\n",
       "\n",
       "    .dataframe tbody tr th {\n",
       "        vertical-align: top;\n",
       "    }\n",
       "\n",
       "    .dataframe thead th {\n",
       "        text-align: right;\n",
       "    }\n",
       "</style>\n",
       "<table border=\"1\" class=\"dataframe\">\n",
       "  <thead>\n",
       "    <tr style=\"text-align: right;\">\n",
       "      <th></th>\n",
       "      <th>words</th>\n",
       "      <th>sentence #</th>\n",
       "      <th>tag</th>\n",
       "      <th>new_mappings</th>\n",
       "    </tr>\n",
       "  </thead>\n",
       "  <tbody>\n",
       "    <tr>\n",
       "      <th>15</th>\n",
       "      <td>22</td>\n",
       "      <td>0</td>\n",
       "      <td>O</td>\n",
       "      <td>&lt;QUANTITY&gt;</td>\n",
       "    </tr>\n",
       "    <tr>\n",
       "      <th>17</th>\n",
       "      <td>2017</td>\n",
       "      <td>0</td>\n",
       "      <td>O</td>\n",
       "      <td>&lt;QUANTITY&gt;</td>\n",
       "    </tr>\n",
       "    <tr>\n",
       "      <th>34</th>\n",
       "      <td>22</td>\n",
       "      <td>1</td>\n",
       "      <td>O</td>\n",
       "      <td>&lt;QUANTITY&gt;</td>\n",
       "    </tr>\n",
       "    <tr>\n",
       "      <th>36</th>\n",
       "      <td>2017</td>\n",
       "      <td>1</td>\n",
       "      <td>O</td>\n",
       "      <td>&lt;QUANTITY&gt;</td>\n",
       "    </tr>\n",
       "    <tr>\n",
       "      <th>52</th>\n",
       "      <td>22</td>\n",
       "      <td>2</td>\n",
       "      <td>O</td>\n",
       "      <td>&lt;QUANTITY&gt;</td>\n",
       "    </tr>\n",
       "    <tr>\n",
       "      <th>...</th>\n",
       "      <td>...</td>\n",
       "      <td>...</td>\n",
       "      <td>...</td>\n",
       "      <td>...</td>\n",
       "    </tr>\n",
       "    <tr>\n",
       "      <th>1478</th>\n",
       "      <td>788</td>\n",
       "      <td>39</td>\n",
       "      <td>O</td>\n",
       "      <td>&lt;QUANTITY&gt;</td>\n",
       "    </tr>\n",
       "    <tr>\n",
       "      <th>1479</th>\n",
       "      <td>790</td>\n",
       "      <td>39</td>\n",
       "      <td>O</td>\n",
       "      <td>&lt;QUANTITY&gt;</td>\n",
       "    </tr>\n",
       "    <tr>\n",
       "      <th>1480</th>\n",
       "      <td>792</td>\n",
       "      <td>39</td>\n",
       "      <td>O</td>\n",
       "      <td>&lt;QUANTITY&gt;</td>\n",
       "    </tr>\n",
       "    <tr>\n",
       "      <th>1482</th>\n",
       "      <td>17/07/17</td>\n",
       "      <td>39</td>\n",
       "      <td>O</td>\n",
       "      <td>&lt;INCOTERMS&gt;</td>\n",
       "    </tr>\n",
       "    <tr>\n",
       "      <th>1487</th>\n",
       "      <td>796</td>\n",
       "      <td>39</td>\n",
       "      <td>O</td>\n",
       "      <td>&lt;QUANTITY&gt;</td>\n",
       "    </tr>\n",
       "  </tbody>\n",
       "</table>\n",
       "<p>192 rows × 4 columns</p>\n",
       "</div>"
      ],
      "text/plain": [
       "         words  sentence # tag new_mappings\n",
       "15          22           0   O   <QUANTITY>\n",
       "17        2017           0   O   <QUANTITY>\n",
       "34          22           1   O   <QUANTITY>\n",
       "36        2017           1   O   <QUANTITY>\n",
       "52          22           2   O   <QUANTITY>\n",
       "...        ...         ...  ..          ...\n",
       "1478       788          39   O   <QUANTITY>\n",
       "1479       790          39   O   <QUANTITY>\n",
       "1480       792          39   O   <QUANTITY>\n",
       "1482  17/07/17          39   O  <INCOTERMS>\n",
       "1487       796          39   O   <QUANTITY>\n",
       "\n",
       "[192 rows x 4 columns]"
      ]
     },
     "execution_count": 134,
     "metadata": {},
     "output_type": "execute_result"
    }
   ],
   "source": [
    "df[(df['words'] != df['new_mappings'])]"
   ]
  },
  {
   "cell_type": "code",
   "execution_count": 135,
   "metadata": {},
   "outputs": [],
   "source": [
    "del df['words']"
   ]
  },
  {
   "cell_type": "code",
   "execution_count": 136,
   "metadata": {},
   "outputs": [
    {
     "data": {
      "text/html": [
       "<div>\n",
       "<style scoped>\n",
       "    .dataframe tbody tr th:only-of-type {\n",
       "        vertical-align: middle;\n",
       "    }\n",
       "\n",
       "    .dataframe tbody tr th {\n",
       "        vertical-align: top;\n",
       "    }\n",
       "\n",
       "    .dataframe thead th {\n",
       "        text-align: right;\n",
       "    }\n",
       "</style>\n",
       "<table border=\"1\" class=\"dataframe\">\n",
       "  <thead>\n",
       "    <tr style=\"text-align: right;\">\n",
       "      <th></th>\n",
       "      <th>sentence #</th>\n",
       "      <th>tag</th>\n",
       "      <th>words</th>\n",
       "    </tr>\n",
       "  </thead>\n",
       "  <tbody>\n",
       "    <tr>\n",
       "      <th>0</th>\n",
       "      <td>0</td>\n",
       "      <td>O</td>\n",
       "      <td>BRIDGESTONE</td>\n",
       "    </tr>\n",
       "    <tr>\n",
       "      <th>1</th>\n",
       "      <td>0</td>\n",
       "      <td>O</td>\n",
       "      <td>BRAND</td>\n",
       "    </tr>\n",
       "    <tr>\n",
       "      <th>2</th>\n",
       "      <td>0</td>\n",
       "      <td>GoodsDescription</td>\n",
       "      <td>TIRE(S)</td>\n",
       "    </tr>\n",
       "    <tr>\n",
       "      <th>3</th>\n",
       "      <td>0</td>\n",
       "      <td>GoodsDescription</td>\n",
       "      <td>AND</td>\n",
       "    </tr>\n",
       "    <tr>\n",
       "      <th>4</th>\n",
       "      <td>0</td>\n",
       "      <td>GoodsDescription</td>\n",
       "      <td>O-RING(S)</td>\n",
       "    </tr>\n",
       "    <tr>\n",
       "      <th>...</th>\n",
       "      <td>...</td>\n",
       "      <td>...</td>\n",
       "      <td>...</td>\n",
       "    </tr>\n",
       "    <tr>\n",
       "      <th>1483</th>\n",
       "      <td>39</td>\n",
       "      <td>Incoterms</td>\n",
       "      <td>HONG</td>\n",
       "    </tr>\n",
       "    <tr>\n",
       "      <th>1484</th>\n",
       "      <td>39</td>\n",
       "      <td>Incoterms</td>\n",
       "      <td>KONG</td>\n",
       "    </tr>\n",
       "    <tr>\n",
       "      <th>1485</th>\n",
       "      <td>39</td>\n",
       "      <td>O</td>\n",
       "      <td>ORDER</td>\n",
       "    </tr>\n",
       "    <tr>\n",
       "      <th>1486</th>\n",
       "      <td>39</td>\n",
       "      <td>O</td>\n",
       "      <td>NF</td>\n",
       "    </tr>\n",
       "    <tr>\n",
       "      <th>1487</th>\n",
       "      <td>39</td>\n",
       "      <td>O</td>\n",
       "      <td>&lt;QUANTITY&gt;</td>\n",
       "    </tr>\n",
       "  </tbody>\n",
       "</table>\n",
       "<p>1488 rows × 3 columns</p>\n",
       "</div>"
      ],
      "text/plain": [
       "      sentence #               tag        words\n",
       "0              0                 O  BRIDGESTONE\n",
       "1              0                 O        BRAND\n",
       "2              0  GoodsDescription      TIRE(S)\n",
       "3              0  GoodsDescription          AND\n",
       "4              0  GoodsDescription    O-RING(S)\n",
       "...          ...               ...          ...\n",
       "1483          39         Incoterms         HONG\n",
       "1484          39         Incoterms         KONG\n",
       "1485          39                 O        ORDER\n",
       "1486          39                 O           NF\n",
       "1487          39                 O   <QUANTITY>\n",
       "\n",
       "[1488 rows x 3 columns]"
      ]
     },
     "execution_count": 136,
     "metadata": {},
     "output_type": "execute_result"
    }
   ],
   "source": [
    "df = df.rename(columns={'new_mappings':'words'})\n",
    "df"
   ]
  },
  {
   "cell_type": "code",
   "execution_count": 137,
   "metadata": {},
   "outputs": [],
   "source": [
    "cols = ['words', 'sentence #', 'tag']\n",
    "df[cols].to_csv('../../data/dataset_from_json_smaller_vocab_v2.csv')"
   ]
  }
 ],
 "metadata": {
  "kernelspec": {
   "display_name": "Python 3.8.13 ('conpend')",
   "language": "python",
   "name": "python3"
  },
  "language_info": {
   "codemirror_mode": {
    "name": "ipython",
    "version": 3
   },
   "file_extension": ".py",
   "mimetype": "text/x-python",
   "name": "python",
   "nbconvert_exporter": "python",
   "pygments_lexer": "ipython3",
   "version": "3.8.13"
  },
  "orig_nbformat": 4,
  "vscode": {
   "interpreter": {
    "hash": "b02c2d9a69eb5992dd78842f785fa56e23ad9a15fb314195388d25b994c9f13f"
   }
  }
 },
 "nbformat": 4,
 "nbformat_minor": 2
}
