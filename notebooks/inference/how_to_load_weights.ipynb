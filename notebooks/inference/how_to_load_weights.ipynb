{
 "cells": [
  {
   "cell_type": "code",
   "execution_count": 37,
   "metadata": {},
   "outputs": [],
   "source": [
    "import numpy as np\n",
    "import pandas as pd\n",
    "import tensorflow as tf\n",
    "from tensorflow import keras\n",
    "from keras.models import Model, Input\n",
    "from keras.layers import LSTM, Embedding, Dense, TimeDistributed, Dropout, Bidirectional\n",
    "from tensorflow.keras import regularizers"
   ]
  },
  {
   "cell_type": "code",
   "execution_count": 38,
   "metadata": {},
   "outputs": [],
   "source": [
    "# VARIABLES\n",
    "max_len = 300\n",
    "df = pd.read_csv('../data/dataset_from_json.csv')\n",
    "words = list(set(df[\"words\"].values))\n",
    "tags = list(set(df['tag'].values))\n",
    "words.append(\"ENDPAD\")\n",
    "n_words = len(words)\n",
    "n_tags = len(tags)"
   ]
  },
  {
   "cell_type": "code",
   "execution_count": 40,
   "metadata": {},
   "outputs": [],
   "source": [
    "def create_model():\n",
    "    regulaziers = regularizers.L1L2(l1=1e-5, l2=1e-5)\n",
    "    input = Input(shape=(max_len,))\n",
    "    model = Embedding(input_dim=n_words, output_dim=50, input_length=max_len)(input)  # 50-dim embedding\n",
    "    model = Dropout(0.3)(model)\n",
    "    model = Bidirectional(LSTM(units=200, return_sequences=True, recurrent_dropout=0.1, kernel_regularizer=regulaziers))(model)  # variational biLSTM\n",
    "    out = TimeDistributed(Dense(n_tags, activation=\"softmax\"))(model)  # softmax output layer\n",
    "    model = Model(input, out)\n",
    "    return model\n",
    "\n",
    "def load_model_weights(filepath='../output/NER_model_updated.h5'):\n",
    "    model = create_model()\n",
    "    model.load_weights('../output/NER_model_updated.h5')\n",
    "    print(model.summary())"
   ]
  },
  {
   "cell_type": "code",
   "execution_count": 41,
   "metadata": {},
   "outputs": [
    {
     "name": "stdout",
     "output_type": "stream",
     "text": [
      "WARNING:tensorflow:Layer lstm_10 will not use cuDNN kernels since it doesn't meet the criteria. It will use a generic GPU kernel as fallback when running on GPU.\n",
      "WARNING:tensorflow:Layer lstm_10 will not use cuDNN kernels since it doesn't meet the criteria. It will use a generic GPU kernel as fallback when running on GPU.\n",
      "WARNING:tensorflow:Layer lstm_10 will not use cuDNN kernels since it doesn't meet the criteria. It will use a generic GPU kernel as fallback when running on GPU.\n",
      "Model: \"model_5\"\n",
      "_________________________________________________________________\n",
      " Layer (type)                Output Shape              Param #   \n",
      "=================================================================\n",
      " input_11 (InputLayer)       [(None, 300)]             0         \n",
      "                                                                 \n",
      " embedding_10 (Embedding)    (None, 300, 50)           468000    \n",
      "                                                                 \n",
      " dropout_10 (Dropout)        (None, 300, 50)           0         \n",
      "                                                                 \n",
      " bidirectional_10 (Bidirecti  (None, 300, 400)         401600    \n",
      " onal)                                                           \n",
      "                                                                 \n",
      " time_distributed_10 (TimeDi  (None, 300, 8)           3208      \n",
      " stributed)                                                      \n",
      "                                                                 \n",
      "=================================================================\n",
      "Total params: 872,808\n",
      "Trainable params: 872,808\n",
      "Non-trainable params: 0\n",
      "_________________________________________________________________\n",
      "None\n"
     ]
    }
   ],
   "source": [
    "load_model_weights('../output/NER_model_updated.h5')"
   ]
  },
  {
   "cell_type": "code",
   "execution_count": 35,
   "metadata": {},
   "outputs": [
    {
     "name": "stdout",
     "output_type": "stream",
     "text": [
      "Model: \"model_4\"\n",
      "_________________________________________________________________\n",
      " Layer (type)                Output Shape              Param #   \n",
      "=================================================================\n",
      " input_10 (InputLayer)       [(None, 300)]             0         \n",
      "                                                                 \n",
      " embedding_9 (Embedding)     (None, 300, 50)           468000    \n",
      "                                                                 \n",
      " dropout_9 (Dropout)         (None, 300, 50)           0         \n",
      "                                                                 \n",
      " bidirectional_9 (Bidirectio  (None, 300, 400)         401600    \n",
      " nal)                                                            \n",
      "                                                                 \n",
      " time_distributed_9 (TimeDis  (None, 300, 8)           3208      \n",
      " tributed)                                                       \n",
      "                                                                 \n",
      "=================================================================\n",
      "Total params: 872,808\n",
      "Trainable params: 872,808\n",
      "Non-trainable params: 0\n",
      "_________________________________________________________________\n"
     ]
    }
   ],
   "source": [
    "model.summary()"
   ]
  }
 ],
 "metadata": {
  "kernelspec": {
   "display_name": "Python 3.8.12 ('hr')",
   "language": "python",
   "name": "python3"
  },
  "language_info": {
   "codemirror_mode": {
    "name": "ipython",
    "version": 3
   },
   "file_extension": ".py",
   "mimetype": "text/x-python",
   "name": "python",
   "nbconvert_exporter": "python",
   "pygments_lexer": "ipython3",
   "version": "3.8.12"
  },
  "orig_nbformat": 4,
  "vscode": {
   "interpreter": {
    "hash": "3b750cac4311e9fd618add7f135fe3e519a4aa0ff674a9c2788ad127b0f6cf49"
   }
  }
 },
 "nbformat": 4,
 "nbformat_minor": 2
}
