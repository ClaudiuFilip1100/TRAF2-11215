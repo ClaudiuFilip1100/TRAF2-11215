{
 "cells": [
  {
   "cell_type": "code",
   "execution_count": 3,
   "metadata": {},
   "outputs": [],
   "source": [
    "import transformers"
   ]
  },
  {
   "cell_type": "code",
   "execution_count": 4,
   "metadata": {},
   "outputs": [],
   "source": [
    "sentence = 'FOB DJIBOUTI / ETHIOPIA PORT QTY : 363 MT ( 15 X 20 FT CONTAINERS EACH IS STUFFED WITH 24MTS ) BOLD DESI CHICK PEAS, NEW CROP 2018 / 19, PURITY : 98.5 PERCENT SHAWA TYPE, MACHINES CLEANED, TOTAL DEFECTS MAX 1.5 PCT AND MAX 2 PCT BLACK, PACKED IN 50KG PP WOOVEN BAGS, AT USD 555 PER M / TON. AS PER BENEFICIARY SALES CONTRACT NO. 1 FNTTP / 007 / 2019 DATED 26.11.19'"
   ]
  },
  {
   "cell_type": "code",
   "execution_count": 5,
   "metadata": {},
   "outputs": [],
   "source": [
    "# LOAD TOKENIZER\n",
    "from transformers import PreTrainedTokenizerFast\n",
    "\n",
    "tokenizer = PreTrainedTokenizerFast(\n",
    "    tokenizer_file=\"tokenizer/tokenizer_v2.json\",\n",
    "    bos_token=\"[S]\",\n",
    "    eos_token=\"[/S]\",\n",
    "    unk_token=\"[UNK]\",\n",
    "    pad_token=\"[PAD]\",\n",
    "    cls_token=\"[CLS]\",\n",
    "    sep_token=\"[SEP]\",\n",
    "    mask_token=\"[MASK]\",\n",
    "    padding_side=\"right\",\n",
    "    model_max_len=300\n",
    ")"
   ]
  },
  {
   "cell_type": "code",
   "execution_count": 6,
   "metadata": {},
   "outputs": [
    {
     "name": "stderr",
     "output_type": "stream",
     "text": [
      "2022-12-12 10:35:02.284832: W tensorflow/stream_executor/platform/default/dso_loader.cc:64] Could not load dynamic library 'libcuda.so.1'; dlerror: libcuda.so.1: cannot open shared object file: No such file or directory\n",
      "2022-12-12 10:35:02.284872: W tensorflow/stream_executor/cuda/cuda_driver.cc:263] failed call to cuInit: UNKNOWN ERROR (303)\n",
      "2022-12-12 10:35:02.284898: I tensorflow/stream_executor/cuda/cuda_diagnostics.cc:156] kernel driver does not appear to be running on this host (TudorMLTest1): /proc/driver/nvidia/version does not exist\n",
      "2022-12-12 10:35:02.285181: I tensorflow/core/platform/cpu_feature_guard.cc:193] This TensorFlow binary is optimized with oneAPI Deep Neural Network Library (oneDNN) to use the following CPU instructions in performance-critical operations:  AVX2 FMA\n",
      "To enable them in other operations, rebuild TensorFlow with the appropriate compiler flags.\n",
      "All model checkpoint layers were used when initializing TFBertForTokenClassification.\n",
      "\n",
      "All the layers of TFBertForTokenClassification were initialized from the model checkpoint at ./bert-ner-conpend-300/.\n",
      "If your task is similar to the task the model of the checkpoint was trained on, you can already use TFBertForTokenClassification for predictions without further training.\n"
     ]
    }
   ],
   "source": [
    "from transformers import TFBertForTokenClassification\n",
    "\n",
    "model = TFBertForTokenClassification.from_pretrained('./bert-ner-conpend-300/')"
   ]
  },
  {
   "cell_type": "code",
   "execution_count": 8,
   "metadata": {},
   "outputs": [
    {
     "data": {
      "text/plain": [
       "[{'entity': 'Incoterms',\n",
       "  'score': 0.94145143,\n",
       "  'index': 1,\n",
       "  'word': 'fob',\n",
       "  'start': 0,\n",
       "  'end': 3},\n",
       " {'entity': 'Incoterms',\n",
       "  'score': 0.66329026,\n",
       "  'index': 2,\n",
       "  'word': 'djibouti',\n",
       "  'start': 4,\n",
       "  'end': 12},\n",
       " {'entity': 'GoodsDescription',\n",
       "  'score': 0.38225728,\n",
       "  'index': 3,\n",
       "  'word': '/',\n",
       "  'start': 13,\n",
       "  'end': 14},\n",
       " {'entity': 'GoodsDescription',\n",
       "  'score': 0.5958985,\n",
       "  'index': 4,\n",
       "  'word': 'ethiopia',\n",
       "  'start': 15,\n",
       "  'end': 23},\n",
       " {'entity': 'GoodsDescription',\n",
       "  'score': 0.60152984,\n",
       "  'index': 5,\n",
       "  'word': 'port',\n",
       "  'start': 24,\n",
       "  'end': 28},\n",
       " {'entity': 'GoodsDescription',\n",
       "  'score': 0.47513148,\n",
       "  'index': 6,\n",
       "  'word': 'qty',\n",
       "  'start': 29,\n",
       "  'end': 32},\n",
       " {'entity': 'Quantity',\n",
       "  'score': 0.5122175,\n",
       "  'index': 14,\n",
       "  'word': 'ft',\n",
       "  'start': 52,\n",
       "  'end': 54}]"
      ]
     },
     "execution_count": 8,
     "metadata": {},
     "output_type": "execute_result"
    }
   ],
   "source": [
    "from transformers import pipeline\n",
    "\n",
    "nlp = pipeline('ner', model=model, tokenizer=tokenizer)\n",
    "result = nlp(sentence)\n",
    "result"
   ]
  },
  {
   "cell_type": "code",
   "execution_count": 9,
   "metadata": {},
   "outputs": [
    {
     "name": "stdout",
     "output_type": "stream",
     "text": [
      "[{'entity': 'Incoterms', 'score': 0.94145143, 'index': 1, 'word': 'fob', 'start': 0, 'end': 3}, {'entity': 'Incoterms', 'score': 0.66329026, 'index': 2, 'word': 'djibouti', 'start': 4, 'end': 12}, {'entity': 'GoodsDescription', 'score': 0.38225728, 'index': 3, 'word': '/', 'start': 13, 'end': 14}, {'entity': 'GoodsDescription', 'score': 0.5958985, 'index': 4, 'word': 'ethiopia', 'start': 15, 'end': 23}, {'entity': 'GoodsDescription', 'score': 0.60152984, 'index': 5, 'word': 'port', 'start': 24, 'end': 28}, {'entity': 'GoodsDescription', 'score': 0.47513148, 'index': 6, 'word': 'qty', 'start': 29, 'end': 32}, {'entity': 'Quantity', 'score': 0.5122175, 'index': 14, 'word': 'ft', 'start': 52, 'end': 54}]\n"
     ]
    }
   ],
   "source": [
    "print(result)"
   ]
  }
 ],
 "metadata": {
  "kernelspec": {
   "display_name": "transformers",
   "language": "python",
   "name": "python3"
  },
  "language_info": {
   "codemirror_mode": {
    "name": "ipython",
    "version": 3
   },
   "file_extension": ".py",
   "mimetype": "text/x-python",
   "name": "python",
   "nbconvert_exporter": "python",
   "pygments_lexer": "ipython3",
   "version": "3.9.13 | packaged by conda-forge | (main, May 27 2022, 16:58:50) \n[GCC 10.3.0]"
  },
  "orig_nbformat": 4,
  "vscode": {
   "interpreter": {
    "hash": "b5b2219130c7aadf1e3eb8ac8cfc220b54c0b2956234f85b49f2dba28a355534"
   }
  }
 },
 "nbformat": 4,
 "nbformat_minor": 2
}
