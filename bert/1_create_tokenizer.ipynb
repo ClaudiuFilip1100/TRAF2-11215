{
 "cells": [
  {
   "cell_type": "markdown",
   "metadata": {},
   "source": [
    "# Importing\n",
    "\n",
    "Pytorch data: Dataset and Dataloader.\n",
    "- create a CustomDataset class: contains encased preprocessing\n",
    "- Dataloader: feeds the data in batches\n",
    "- the role of Dataset and Dataloader classes is to encapsulate the preprocessing steps\n",
    "## CustomDataset\n",
    "- accepts tokenizer, dataframe and max_length as input -> generates tokenized output and tags used by BERT.\n",
    "\n",
    "## Dataloader\n",
    "- defines how to data is loaded into the NN (batching)\n",
    "\n",
    "\n",
    "Q: Should I use BertTokenizer? Or use my own tokenizer? `BertTokenizer.from_pretrained('bert-base-uncased')`\n",
    "A: No, I will build my own tokenizer.\n",
    "\n",
    "Q: If I DO use the BertTokenizer what will the id's for the new things be? In our vocabulary we have quite a few non-words, so will the BertTokenizer act?\n",
    "A: When building the tokenizer, I'll build to vocabulary as well."
   ]
  },
  {
   "cell_type": "code",
   "execution_count": 14,
   "metadata": {},
   "outputs": [
    {
     "name": "stdout",
     "output_type": "stream",
     "text": [
      "CPT LAHORE AIRPORT PAKISTAN QTY 1 PC OF MULTI MODE READER/TRINOCULAR MICROSCOPE SYSTEM MODEL\n"
     ]
    }
   ],
   "source": [
    "# source https://huggingface.co/course/chapter6/8?fw=pt\n",
    "\n",
    "import pandas as pd\n",
    "\n",
    "t_df = pd.read_csv('../data/dataset_v2.csv')\n",
    "\n",
    "# t_df = t_df.replace({'<QUANTITY>':'[QUANTITY]',\n",
    "#                     '<UNITPRICEAMOUNT>':'[UNITPRICEAMOUNT]',\n",
    "#                     '<DATE>':'[DATE]',\n",
    "#                     '<INCOTERMS>':'[INCOTERMS]'})\n",
    "\n",
    "combine = lambda x: ' '.join(x['words'])\n",
    "sentences = t_df.groupby(t_df['sentence #']).apply(combine)\n",
    "print(sentences[0])\n",
    "\n",
    "def get_training_corpus():\n",
    "    for i in range(0, len(sentences)):\n",
    "        yield sentences[i]"
   ]
  },
  {
   "cell_type": "code",
   "execution_count": 15,
   "metadata": {},
   "outputs": [
    {
     "data": {
      "text/plain": [
       "sentence #\n",
       "0    CPT LAHORE AIRPORT PAKISTAN QTY 1 PC OF MULTI ...\n",
       "1    SERVICES AND MAINTENANCE AS PER BENEFICIARY'S ...\n",
       "2    SERVICES MAINTENANCE AS PER BENEFICIARY'S PROF...\n",
       "3    CPT LAHORE AIRPORT PAKISTAN PHARMACEUTICAL ALL...\n",
       "4    CFR KEAMARI KARACHI SEAPORT/PORT QASIM PAKISTA...\n",
       "dtype: object"
      ]
     },
     "execution_count": 15,
     "metadata": {},
     "output_type": "execute_result"
    }
   ],
   "source": [
    "sentences.head()"
   ]
  },
  {
   "cell_type": "code",
   "execution_count": 21,
   "metadata": {},
   "outputs": [],
   "source": [
    "# we start by instantiating a Tokenizer object with a model, \n",
    "# then set its normalizer, \n",
    "# pre_tokenizer, \n",
    "# post_processor, \n",
    "# and decoder attributes to the values we want.\n",
    "from tokenizers import (\n",
    "    decoders,\n",
    "    models,\n",
    "    normalizers,\n",
    "    pre_tokenizers,\n",
    "    processors,\n",
    "    trainers,\n",
    "    Tokenizer,\n",
    ")\n",
    "\n",
    "example = 'CPT LAHORE AIRPORT PAKISTAN QTY [QUANTITY] PC OF MULTI MODE READER/TRINOCULAR MICROSCOPE SYSTEM MODEL'\n",
    "\n",
    "tokenizer = Tokenizer(models.WordPiece(unk_token='[UNK]'))\n",
    "tokenizer.normalizer = normalizers.BertNormalizer()\n",
    "tokenizer.pre_tokenizer = pre_tokenizers.WhitespaceSplit()\n",
    "special_tokens = ['[PAD]', '[CLS]', '[SEP]', '[UNK]']\n",
    "trainer = trainers.WordPieceTrainer(vocab_size=25000, special_tokens=special_tokens)"
   ]
  },
  {
   "cell_type": "code",
   "execution_count": 22,
   "metadata": {},
   "outputs": [
    {
     "name": "stdout",
     "output_type": "stream",
     "text": [
      "\n",
      "\n",
      "\n"
     ]
    },
    {
     "data": {
      "text/plain": [
       "(1, 2, 3)"
      ]
     },
     "execution_count": 22,
     "metadata": {},
     "output_type": "execute_result"
    }
   ],
   "source": [
    "# train the tokenizer\n",
    "\n",
    "tokenizer.train_from_iterator(get_training_corpus(), trainer=trainer)\n",
    "cls_token_id = tokenizer.token_to_id('[CLS]')\n",
    "sep_token_id = tokenizer.token_to_id('[SEP]')\n",
    "unk_token_id = tokenizer.token_to_id('[UNK]')\n",
    "cls_token_id, sep_token_id, unk_token_id"
   ]
  },
  {
   "cell_type": "code",
   "execution_count": 23,
   "metadata": {},
   "outputs": [],
   "source": [
    "# define the post-processing BERT template\n",
    "tokenizer.post_processor = processors.TemplateProcessing(\n",
    "    single=f\"[CLS]:0 $A:0 [SEP]:0\",\n",
    "    pair=f\"[CLS]:0 $A:0 [SEP]:0 $B:1 [SEP]:1\",\n",
    "    special_tokens=[(\"[CLS]\", cls_token_id),(\"[SEP]\", sep_token_id)]\n",
    ")\n",
    "tokenizer.decoder = decoders.WordPiece()"
   ]
  },
  {
   "cell_type": "code",
   "execution_count": 24,
   "metadata": {},
   "outputs": [
    {
     "data": {
      "text/plain": [
       "['[CLS]',\n",
       " 'cpt',\n",
       " 'lahore',\n",
       " 'airport',\n",
       " 'pakistan',\n",
       " 'qty',\n",
       " '[UNK]',\n",
       " 'pc',\n",
       " 'of',\n",
       " 'multi',\n",
       " 'mode',\n",
       " 'reader/trinocular',\n",
       " 'microscope',\n",
       " 'system',\n",
       " 'model',\n",
       " '[SEP]']"
      ]
     },
     "execution_count": 24,
     "metadata": {},
     "output_type": "execute_result"
    }
   ],
   "source": [
    "encodings = tokenizer.encode(example)\n",
    "encodings.tokens"
   ]
  },
  {
   "cell_type": "code",
   "execution_count": 25,
   "metadata": {},
   "outputs": [],
   "source": [
    "# we need to define the BERT template\n",
    "tokenizer.post_processor = processors.TemplateProcessing(\n",
    "    single=f\"[CLS]:0 $A:0 [SEP]:0\",\n",
    "    pair=f\"[CLS]:0 $A:0 [SEP]:0 $B:1 [SEP]:1\",\n",
    "    special_tokens=[(\"[CLS]\", cls_token_id),(\"[SEP]\", sep_token_id)]\n",
    ")"
   ]
  },
  {
   "cell_type": "code",
   "execution_count": 26,
   "metadata": {},
   "outputs": [
    {
     "data": {
      "text/plain": [
       "'cpt lahore airport pakistan qty pc of multi mode reader/trinocular microscope system model'"
      ]
     },
     "execution_count": 26,
     "metadata": {},
     "output_type": "execute_result"
    }
   ],
   "source": [
    "tokenizer.decoder = decoders.WordPiece()\n",
    "tokenizer.decode(encodings.ids)"
   ]
  },
  {
   "cell_type": "code",
   "execution_count": 27,
   "metadata": {},
   "outputs": [],
   "source": [
    "tokenizer.save('tokenizer/tokenizer_v2.json')"
   ]
  }
 ],
 "metadata": {
  "kernelspec": {
   "display_name": "Python 3.9.13 ('transformers')",
   "language": "python",
   "name": "python3"
  },
  "language_info": {
   "codemirror_mode": {
    "name": "ipython",
    "version": 3
   },
   "file_extension": ".py",
   "mimetype": "text/x-python",
   "name": "python",
   "nbconvert_exporter": "python",
   "pygments_lexer": "ipython3",
   "version": "3.9.13"
  },
  "orig_nbformat": 4,
  "vscode": {
   "interpreter": {
    "hash": "b5b2219130c7aadf1e3eb8ac8cfc220b54c0b2956234f85b49f2dba28a355534"
   }
  }
 },
 "nbformat": 4,
 "nbformat_minor": 2
}
