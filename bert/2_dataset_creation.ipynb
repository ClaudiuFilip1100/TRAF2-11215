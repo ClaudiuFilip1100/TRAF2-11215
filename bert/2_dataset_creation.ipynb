{
 "cells": [
  {
   "cell_type": "markdown",
   "metadata": {},
   "source": [
    "# Prepare the data\n",
    "\n",
    "In order to train everything correctly I need to bring everything to a format understandable by BERT."
   ]
  },
  {
   "cell_type": "code",
   "execution_count": 1,
   "metadata": {},
   "outputs": [],
   "source": [
    "# from datasets import load_dataset\n",
    "\n",
    "# # dataset = load_dataset(\"csv\", data_dir='', data_files='tokenizer_dataset.csv')\n",
    "# dataset = load_dataset('conpend_dataset.py')"
   ]
  },
  {
   "cell_type": "code",
   "execution_count": 2,
   "metadata": {},
   "outputs": [
    {
     "name": "stdout",
     "output_type": "stream",
     "text": [
      "CPT LAHORE AIRPORT PAKISTAN QTY 1 PC OF MULTI MODE READER/TRINOCULAR MICROSCOPE SYSTEM MODEL\n"
     ]
    }
   ],
   "source": [
    "# tokens (sequence), ner_tags (sequence)\n",
    "import pandas as pd\n",
    "\n",
    "t_df = pd.read_csv('../data/dataset_v2.csv')\n",
    "\n",
    "combine = lambda x: ' '.join(x['words'])\n",
    "sentences = t_df.groupby(t_df['sentence #']).apply(combine)\n",
    "print(sentences[0])\n",
    "\n",
    "def get_training_corpus():\n",
    "    for i in range(0, len(sentences)):\n",
    "        yield sentences[i]"
   ]
  },
  {
   "cell_type": "code",
   "execution_count": 3,
   "metadata": {},
   "outputs": [],
   "source": [
    "import numpy as np\n",
    "\n",
    "dictionar = {'id':[], 'tokens': [], 'tags': []}\n",
    "\n",
    "def join_sentences(x):\n",
    "    # print()\n",
    "    # id = int(np.min(x['id']))\n",
    "    words = list(x['words'])\n",
    "    tags = list(x['tag'])\n",
    "\n",
    "    dictionar['id'].append(int(np.mean(x['sentence #'])))\n",
    "    dictionar['tokens'].append(words)\n",
    "    dictionar['tags'].append(tags)"
   ]
  },
  {
   "cell_type": "code",
   "execution_count": 4,
   "metadata": {},
   "outputs": [
    {
     "data": {
      "text/html": [
       "<div>\n",
       "<style scoped>\n",
       "    .dataframe tbody tr th:only-of-type {\n",
       "        vertical-align: middle;\n",
       "    }\n",
       "\n",
       "    .dataframe tbody tr th {\n",
       "        vertical-align: top;\n",
       "    }\n",
       "\n",
       "    .dataframe thead th {\n",
       "        text-align: right;\n",
       "    }\n",
       "</style>\n",
       "<table border=\"1\" class=\"dataframe\">\n",
       "  <thead>\n",
       "    <tr style=\"text-align: right;\">\n",
       "      <th></th>\n",
       "      <th>id</th>\n",
       "      <th>tokens</th>\n",
       "      <th>tags</th>\n",
       "    </tr>\n",
       "  </thead>\n",
       "  <tbody>\n",
       "    <tr>\n",
       "      <th>0</th>\n",
       "      <td>0</td>\n",
       "      <td>[CPT, LAHORE, AIRPORT, PAKISTAN, QTY, 1, PC, O...</td>\n",
       "      <td>[Incoterms, Incoterms, Incoterms, Incoterms, O...</td>\n",
       "    </tr>\n",
       "    <tr>\n",
       "      <th>1</th>\n",
       "      <td>1</td>\n",
       "      <td>[SERVICES, AND, MAINTENANCE, AS, PER, BENEFICI...</td>\n",
       "      <td>[GoodsDescription, GoodsDescription, GoodsDesc...</td>\n",
       "    </tr>\n",
       "    <tr>\n",
       "      <th>2</th>\n",
       "      <td>2</td>\n",
       "      <td>[SERVICES, MAINTENANCE, AS, PER, BENEFICIARY'S...</td>\n",
       "      <td>[O, O, O, O, O, O, O, O, O, O, O]</td>\n",
       "    </tr>\n",
       "    <tr>\n",
       "      <th>3</th>\n",
       "      <td>3</td>\n",
       "      <td>[CPT, LAHORE, AIRPORT, PAKISTAN, PHARMACEUTICA...</td>\n",
       "      <td>[Incoterms, Incoterms, Incoterms, Incoterms, G...</td>\n",
       "    </tr>\n",
       "    <tr>\n",
       "      <th>4</th>\n",
       "      <td>4</td>\n",
       "      <td>[CFR, KEAMARI, KARACHI, SEAPORT/PORT, QASIM, P...</td>\n",
       "      <td>[Incoterms, Incoterms, Incoterms, Incoterms, I...</td>\n",
       "    </tr>\n",
       "  </tbody>\n",
       "</table>\n",
       "</div>"
      ],
      "text/plain": [
       "   id                                             tokens  \\\n",
       "0   0  [CPT, LAHORE, AIRPORT, PAKISTAN, QTY, 1, PC, O...   \n",
       "1   1  [SERVICES, AND, MAINTENANCE, AS, PER, BENEFICI...   \n",
       "2   2  [SERVICES, MAINTENANCE, AS, PER, BENEFICIARY'S...   \n",
       "3   3  [CPT, LAHORE, AIRPORT, PAKISTAN, PHARMACEUTICA...   \n",
       "4   4  [CFR, KEAMARI, KARACHI, SEAPORT/PORT, QASIM, P...   \n",
       "\n",
       "                                                tags  \n",
       "0  [Incoterms, Incoterms, Incoterms, Incoterms, O...  \n",
       "1  [GoodsDescription, GoodsDescription, GoodsDesc...  \n",
       "2                  [O, O, O, O, O, O, O, O, O, O, O]  \n",
       "3  [Incoterms, Incoterms, Incoterms, Incoterms, G...  \n",
       "4  [Incoterms, Incoterms, Incoterms, Incoterms, I...  "
      ]
     },
     "execution_count": 4,
     "metadata": {},
     "output_type": "execute_result"
    }
   ],
   "source": [
    "df = t_df.groupby(['sentence #']).apply(join_sentences)\n",
    "new_df = pd.DataFrame(dictionar)\n",
    "new_df.head()"
   ]
  },
  {
   "cell_type": "code",
   "execution_count": 5,
   "metadata": {},
   "outputs": [],
   "source": [
    "# shuffle dataset\n",
    "df_sample = new_df.sample(frac=1)\n",
    "\n",
    "# split into train / test / validation\n",
    "df_len = len(df_sample)\n",
    "train_split = int(0.7 * df_len)\n",
    "test_split = int(0.15 * df_len)\n",
    "valid_split = int(0.15 * df_len)\n",
    "\n",
    "train_df = df_sample.iloc[:train_split,:]\n",
    "test_df = df_sample.iloc[:test_split,:]\n",
    "validation_df = df_sample.iloc[:valid_split,:]"
   ]
  },
  {
   "cell_type": "code",
   "execution_count": 6,
   "metadata": {},
   "outputs": [],
   "source": [
    "train_df.to_json('data/dataset_bert_train_v2.json', orient='records')\n",
    "test_df.to_json('data/dataset_bert_test_v2.json', orient='records')\n",
    "validation_df.to_json('data/dataset_bert_validation_v2.json', orient='records')"
   ]
  }
 ],
 "metadata": {
  "kernelspec": {
   "display_name": "Python 3.9.13 ('transformers')",
   "language": "python",
   "name": "python3"
  },
  "language_info": {
   "codemirror_mode": {
    "name": "ipython",
    "version": 3
   },
   "file_extension": ".py",
   "mimetype": "text/x-python",
   "name": "python",
   "nbconvert_exporter": "python",
   "pygments_lexer": "ipython3",
   "version": "3.9.13"
  },
  "orig_nbformat": 4,
  "vscode": {
   "interpreter": {
    "hash": "b5b2219130c7aadf1e3eb8ac8cfc220b54c0b2956234f85b49f2dba28a355534"
   }
  }
 },
 "nbformat": 4,
 "nbformat_minor": 2
}
