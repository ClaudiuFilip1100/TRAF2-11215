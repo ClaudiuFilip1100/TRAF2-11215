{
 "cells": [
  {
   "cell_type": "code",
   "execution_count": 35,
   "metadata": {},
   "outputs": [],
   "source": [
    "import pandas as pd\n",
    "import re"
   ]
  },
  {
   "cell_type": "code",
   "execution_count": 36,
   "metadata": {},
   "outputs": [
    {
     "data": {
      "text/html": [
       "<div>\n",
       "<style scoped>\n",
       "    .dataframe tbody tr th:only-of-type {\n",
       "        vertical-align: middle;\n",
       "    }\n",
       "\n",
       "    .dataframe tbody tr th {\n",
       "        vertical-align: top;\n",
       "    }\n",
       "\n",
       "    .dataframe thead th {\n",
       "        text-align: right;\n",
       "    }\n",
       "</style>\n",
       "<table border=\"1\" class=\"dataframe\">\n",
       "  <thead>\n",
       "    <tr style=\"text-align: right;\">\n",
       "      <th></th>\n",
       "      <th>words</th>\n",
       "      <th>sentence #</th>\n",
       "      <th>tag</th>\n",
       "    </tr>\n",
       "  </thead>\n",
       "  <tbody>\n",
       "    <tr>\n",
       "      <th>0</th>\n",
       "      <td>BRIDGESTONE</td>\n",
       "      <td>0</td>\n",
       "      <td>O</td>\n",
       "    </tr>\n",
       "    <tr>\n",
       "      <th>1</th>\n",
       "      <td>BRAND</td>\n",
       "      <td>0</td>\n",
       "      <td>O</td>\n",
       "    </tr>\n",
       "    <tr>\n",
       "      <th>2</th>\n",
       "      <td>TIRE(S)</td>\n",
       "      <td>0</td>\n",
       "      <td>GoodsDescription</td>\n",
       "    </tr>\n",
       "    <tr>\n",
       "      <th>3</th>\n",
       "      <td>AND</td>\n",
       "      <td>0</td>\n",
       "      <td>GoodsDescription</td>\n",
       "    </tr>\n",
       "    <tr>\n",
       "      <th>4</th>\n",
       "      <td>O-RING(S)</td>\n",
       "      <td>0</td>\n",
       "      <td>GoodsDescription</td>\n",
       "    </tr>\n",
       "  </tbody>\n",
       "</table>\n",
       "</div>"
      ],
      "text/plain": [
       "         words  sentence #               tag\n",
       "0  BRIDGESTONE           0                 O\n",
       "1        BRAND           0                 O\n",
       "2      TIRE(S)           0  GoodsDescription\n",
       "3          AND           0  GoodsDescription\n",
       "4    O-RING(S)           0  GoodsDescription"
      ]
     },
     "execution_count": 36,
     "metadata": {},
     "output_type": "execute_result"
    }
   ],
   "source": [
    "df = pd.read_csv('../../data/dataset_from_json_v2.csv')\n",
    "df.head()"
   ]
  },
  {
   "cell_type": "code",
   "execution_count": 37,
   "metadata": {},
   "outputs": [
    {
     "data": {
      "text/plain": [
       "words         GREY\n",
       "sentence #       5\n",
       "tag              O\n",
       "Name: 115, dtype: object"
      ]
     },
     "execution_count": 37,
     "metadata": {},
     "output_type": "execute_result"
    }
   ],
   "source": [
    "df.iloc[115,:]"
   ]
  },
  {
   "cell_type": "code",
   "execution_count": 38,
   "metadata": {},
   "outputs": [],
   "source": [
    "combine = lambda x: ' '.join(x['words'])"
   ]
  },
  {
   "cell_type": "code",
   "execution_count": 61,
   "metadata": {},
   "outputs": [
    {
     "data": {
      "text/plain": [
       "sentence #\n",
       "0    BRIDGESTONE BRAND TIRE(S) AND O-RING(S) AS PER...\n",
       "1    BRIDGESTONE BRAND TIRE(S) AND O-RING(S) AS PER...\n",
       "2    BRIDGESTONE BRAND TIRE(S) AND O-RING(S). AS PE...\n",
       "3    LEATHER MEN S AND/OR LEATHER LADIES GARMENTS U...\n",
       "4    LEATHER MEN S AND/OR LEATHER LADIES GARMENTS U...\n",
       "5    QUANTITY <QUANTITY> M(+/-10 O/O) DESCRIPTION P...\n",
       "6    QUANTITY <QUANTITY> M(+/-10 O/O) DESCRIPTION P...\n",
       "7    TOYS AS PER PROFORMA INVOICE NO TSO1801008 ACC...\n",
       "8    TOYS AS PER PROFORMA INVOICE NO TSO1801008 ACC...\n",
       "9    <QUANTITY> Boxes of Tennis Sneakers marked Djo...\n",
       "dtype: object"
      ]
     },
     "execution_count": 61,
     "metadata": {},
     "output_type": "execute_result"
    }
   ],
   "source": [
    "words = df.groupby(df['sentence #']).apply(combine)\n",
    "words[0:10]"
   ]
  },
  {
   "cell_type": "code",
   "execution_count": 40,
   "metadata": {},
   "outputs": [
    {
     "data": {
      "text/plain": [
       "'QUANTITY 90000 M(+/-10 O/O) DESCRIPTION POLIESTER SATIN FABRIC CODE 42250 GREY A7 GRADE PO N07929/10 CIF INCOTERMS 2010'"
      ]
     },
     "execution_count": 40,
     "metadata": {},
     "output_type": "execute_result"
    }
   ],
   "source": [
    "# example\n",
    "words[5]"
   ]
  },
  {
   "cell_type": "code",
   "execution_count": 41,
   "metadata": {},
   "outputs": [
    {
     "data": {
      "text/plain": [
       "Series([], dtype: object)"
      ]
     },
     "execution_count": 41,
     "metadata": {},
     "output_type": "execute_result"
    }
   ],
   "source": [
    "find_special = lambda x: '58/60' in x #'CFR KARACHI PORT/ PORT QASIM TOTAL QUANTITY 21 MT PARAFFIN WAX 58/60 FULLY REFINED AT USD 950.00 PER M/TON AS PER INDENT NO. SBR/DEPT.C/581/2019 DATED 19.11.19 OD M/S S.B.R. AND CO. KARACHI PAKISTAN'\n",
    "find_special = lambda x: '950.00' in x \n",
    "\n",
    "specials = words[words.apply(find_special)]\n",
    "specials"
   ]
  },
  {
   "cell_type": "code",
   "execution_count": 42,
   "metadata": {},
   "outputs": [],
   "source": [
    "# we need \\S instead of \\w because we have dates: 31.10.2019 which need to be extracted as a single entity\n",
    "\n",
    "# EXAMPLE\n",
    "# extract_containing_numbers = lambda x: re.findall(r'\\d+\\S+', x)\n",
    "# extract_containing_numbers\n",
    "# words.apply(extract_containing_numbers).tolist()"
   ]
  },
  {
   "cell_type": "code",
   "execution_count": 62,
   "metadata": {},
   "outputs": [
    {
     "data": {
      "text/plain": [
       "['8ACA021X', '8ACA021X', '201', '8ACA021X', '201']"
      ]
     },
     "execution_count": 62,
     "metadata": {},
     "output_type": "execute_result"
    }
   ],
   "source": [
    "#extract the NUMBERS, INCOTERMS and DATES for better tokenisation\n",
    "extract_numbers = lambda x: re.findall(r'\\d+\\S+', x)\n",
    "list_words = words.apply(extract_numbers).tolist()\n",
    "flat_list = [el for l in list_words for el in l]\n",
    "flat_list[0:5]"
   ]
  },
  {
   "cell_type": "code",
   "execution_count": 44,
   "metadata": {},
   "outputs": [
    {
     "data": {
      "text/plain": [
       "235"
      ]
     },
     "execution_count": 44,
     "metadata": {},
     "output_type": "execute_result"
    }
   ],
   "source": [
    "words\n",
    "words.apply(extract_numbers).tolist()\n",
    "len(flat_list)"
   ]
  },
  {
   "cell_type": "code",
   "execution_count": 45,
   "metadata": {},
   "outputs": [
    {
     "data": {
      "text/plain": [
       "['997', '10/MT', '794', '56', '77000/MT']"
      ]
     },
     "execution_count": 45,
     "metadata": {},
     "output_type": "execute_result"
    }
   ],
   "source": [
    "numbers = set(flat_list)\n",
    "numbers\n",
    "\n",
    "# we now need to remove ONLY the . at the end\n",
    "numbers = [n[:-1] if n[-1] == '.' else n for n in list(numbers)]\n",
    "numbers[0:5]"
   ]
  },
  {
   "cell_type": "markdown",
   "metadata": {},
   "source": [
    "Now we need to classify them in 3 categories: \n",
    "1. \\<number\\> for Quantity and UnitPriceAmount example 2000\n",
    "2. \\<ID\\> for INCOTERMS example 2019H29Q2\n",
    "3. \\<DATE\\> for improved tokenisation\n",
    "\n",
    "Why? We have a new date everyday, and if we include every day as another date in the vocabulary we might think eroneously that we have a large vocabulary, when in fact all we have is a lot of numbers, ids and dates."
   ]
  },
  {
   "cell_type": "code",
   "execution_count": 46,
   "metadata": {},
   "outputs": [
    {
     "data": {
      "text/plain": [
       "(0         997\n",
       " 1       10/MT\n",
       " 2         794\n",
       " 3          56\n",
       " 4    77000/MT\n",
       " dtype: object,\n",
       " (156,))"
      ]
     },
     "execution_count": 46,
     "metadata": {},
     "output_type": "execute_result"
    }
   ],
   "source": [
    "nrs = pd.Series(numbers) #convert to Series for ease of use\n",
    "nrs.head(), nrs.shape"
   ]
  },
  {
   "cell_type": "markdown",
   "metadata": {},
   "source": [
    "I am speculating that\n",
    "\n",
    "1. Quantity contains only Integer values: 1000, 200, 7000\n",
    "2. UnitPriceAmount contains Float values: 250.00, 293.11\n",
    "3. Dates have a specific type: xx/xx/xxxx or xx-xx-xxxx\n",
    "4. Everything else is Incoterms"
   ]
  },
  {
   "cell_type": "code",
   "execution_count": 47,
   "metadata": {},
   "outputs": [],
   "source": [
    "# Quantity\n",
    "def convert_to_int(x):    \n",
    "    try:\n",
    "        int(x)\n",
    "        return True\n",
    "    except ValueError:\n",
    "        return False\n",
    "\n",
    "quantities = nrs.apply(convert_to_int)"
   ]
  },
  {
   "cell_type": "code",
   "execution_count": 48,
   "metadata": {},
   "outputs": [],
   "source": [
    "# UnitPriceAmount\n",
    "def convert_to_float(x):    \n",
    "    try:\n",
    "        if not convert_to_int(x):\n",
    "            float(x)\n",
    "        else:\n",
    "            return False\n",
    "\n",
    "        return True\n",
    "    except ValueError:\n",
    "        return False\n",
    "\n",
    "units = nrs.apply(convert_to_float)"
   ]
  },
  {
   "cell_type": "code",
   "execution_count": 49,
   "metadata": {},
   "outputs": [],
   "source": [
    "# Dates\n",
    "def convert_to_ids(x):    \n",
    "    try:\n",
    "        is_date = re.findall('^\\d{2}(\\.|\\/)\\d{2}(\\.|\\/)\\d{4}$', x)\n",
    "        if len(is_date) == 0:\n",
    "            return False\n",
    "        else:\n",
    "            return True\n",
    "    except ValueError:\n",
    "        return False\n",
    "\n",
    "dates = nrs.apply(convert_to_ids)"
   ]
  },
  {
   "cell_type": "code",
   "execution_count": 50,
   "metadata": {},
   "outputs": [
    {
     "data": {
      "text/plain": [
       "14    04/12/2020\n",
       "dtype: object"
      ]
     },
     "execution_count": 50,
     "metadata": {},
     "output_type": "execute_result"
    }
   ],
   "source": [
    "nrs[dates]"
   ]
  },
  {
   "cell_type": "code",
   "execution_count": 51,
   "metadata": {},
   "outputs": [
    {
     "data": {
      "text/plain": [
       "0    False\n",
       "1     True\n",
       "2    False\n",
       "3    False\n",
       "4     True\n",
       "dtype: bool"
      ]
     },
     "execution_count": 51,
     "metadata": {},
     "output_type": "execute_result"
    }
   ],
   "source": [
    "# the rest are incoterms\n",
    "incoterms = ~quantities & ~units & ~dates\n",
    "incoterms[0:5]"
   ]
  },
  {
   "cell_type": "code",
   "execution_count": 52,
   "metadata": {},
   "outputs": [
    {
     "data": {
      "text/plain": [
       "(156, 156)"
      ]
     },
     "execution_count": 52,
     "metadata": {},
     "output_type": "execute_result"
    }
   ],
   "source": [
    "quantities.sum() + units.sum() + dates.sum() + incoterms.sum(), nrs.shape[0]"
   ]
  },
  {
   "cell_type": "code",
   "execution_count": 53,
   "metadata": {},
   "outputs": [
    {
     "data": {
      "text/plain": [
       "['997', '794', '56', '796', '1461']"
      ]
     },
     "execution_count": 53,
     "metadata": {},
     "output_type": "execute_result"
    }
   ],
   "source": [
    "nrs[quantities].tolist()[0:5]"
   ]
  },
  {
   "cell_type": "code",
   "execution_count": 54,
   "metadata": {},
   "outputs": [],
   "source": [
    "dictionary = {}\n",
    "\n",
    "def append_to_dict(key, value):\n",
    "    dictionary[key] = value\n",
    "\n",
    "\n",
    "nrs[quantities].apply(append_to_dict, args=('<QUANTITY>',))\n",
    "nrs[units].apply(append_to_dict, args=('<UNITPRICEAMOUNT>',))\n",
    "nrs[dates].apply(append_to_dict, args=('<DATE>',))\n",
    "nrs[incoterms].apply(append_to_dict, args=('<INCOTERMS>',));"
   ]
  },
  {
   "cell_type": "code",
   "execution_count": 55,
   "metadata": {},
   "outputs": [
    {
     "data": {
      "text/plain": [
       "{'997': '<QUANTITY>',\n",
       " '794': '<QUANTITY>',\n",
       " '56': '<QUANTITY>',\n",
       " '796': '<QUANTITY>',\n",
       " '1461': '<QUANTITY>',\n",
       " '23': '<QUANTITY>',\n",
       " '518': '<QUANTITY>',\n",
       " '00': '<QUANTITY>',\n",
       " '2000': '<QUANTITY>',\n",
       " '06': '<QUANTITY>',\n",
       " '010131': '<QUANTITY>',\n",
       " '16': '<QUANTITY>',\n",
       " '374340000': '<QUANTITY>',\n",
       " '45': '<QUANTITY>',\n",
       " '3358': '<QUANTITY>',\n",
       " '392860': '<QUANTITY>',\n",
       " '26': '<QUANTITY>',\n",
       " '25': '<QUANTITY>',\n",
       " '2014': '<QUANTITY>',\n",
       " '60': '<QUANTITY>',\n",
       " '85': '<QUANTITY>',\n",
       " '2050': '<QUANTITY>',\n",
       " '506': '<QUANTITY>',\n",
       " '112': '<QUANTITY>',\n",
       " '115168': '<QUANTITY>',\n",
       " '00122': '<QUANTITY>',\n",
       " '788': '<QUANTITY>',\n",
       " '173': '<QUANTITY>',\n",
       " '555': '<QUANTITY>',\n",
       " '515': '<QUANTITY>',\n",
       " '6300': '<QUANTITY>',\n",
       " '787': '<QUANTITY>',\n",
       " '446': '<QUANTITY>',\n",
       " '2010': '<QUANTITY>',\n",
       " '1123': '<QUANTITY>',\n",
       " '396': '<QUANTITY>',\n",
       " '3000': '<QUANTITY>',\n",
       " '5800': '<QUANTITY>',\n",
       " '100': '<QUANTITY>',\n",
       " '1801008': '<QUANTITY>',\n",
       " '2017': '<QUANTITY>',\n",
       " '985': '<QUANTITY>',\n",
       " '000': '<QUANTITY>',\n",
       " '13032014': '<QUANTITY>',\n",
       " '508': '<QUANTITY>',\n",
       " '18': '<QUANTITY>',\n",
       " '792': '<QUANTITY>',\n",
       " '80': '<QUANTITY>',\n",
       " '202': '<QUANTITY>',\n",
       " '363': '<QUANTITY>',\n",
       " '04': '<QUANTITY>',\n",
       " '10000103': '<QUANTITY>',\n",
       " '517': '<QUANTITY>',\n",
       " '42250': '<QUANTITY>',\n",
       " '15': '<QUANTITY>',\n",
       " '500000': '<QUANTITY>',\n",
       " '514': '<QUANTITY>',\n",
       " '110164': '<QUANTITY>',\n",
       " '201801012': '<QUANTITY>',\n",
       " '790': '<QUANTITY>',\n",
       " '4850': '<QUANTITY>',\n",
       " '200000': '<QUANTITY>',\n",
       " '9850': '<QUANTITY>',\n",
       " '67': '<QUANTITY>',\n",
       " '510': '<QUANTITY>',\n",
       " '50': '<QUANTITY>',\n",
       " '141613456': '<QUANTITY>',\n",
       " '96': '<QUANTITY>',\n",
       " '141': '<QUANTITY>',\n",
       " '500': '<QUANTITY>',\n",
       " '2807': '<QUANTITY>',\n",
       " '288': '<QUANTITY>',\n",
       " '2021': '<QUANTITY>',\n",
       " '200': '<QUANTITY>',\n",
       " '1345': '<QUANTITY>',\n",
       " '505': '<QUANTITY>',\n",
       " '4571': '<QUANTITY>',\n",
       " '11012014': '<QUANTITY>',\n",
       " '20': '<QUANTITY>',\n",
       " '65537': '<QUANTITY>',\n",
       " '3450': '<QUANTITY>',\n",
       " '201': '<QUANTITY>',\n",
       " '99589': '<QUANTITY>',\n",
       " '10': '<QUANTITY>',\n",
       " '90000': '<QUANTITY>',\n",
       " '392880': '<QUANTITY>',\n",
       " '281819': '<QUANTITY>',\n",
       " '22': '<QUANTITY>',\n",
       " '141613462': '<QUANTITY>',\n",
       " '392890': '<QUANTITY>',\n",
       " '04/12/2020': '<DATE>',\n",
       " '10/MT': '<INCOTERMS>',\n",
       " '77000/MT': '<INCOTERMS>',\n",
       " '05/07/17': '<INCOTERMS>',\n",
       " '956934/OS': '<INCOTERMS>',\n",
       " '220MT': '<INCOTERMS>',\n",
       " '0/MT': '<INCOTERMS>',\n",
       " '1N0N2018': '<INCOTERMS>',\n",
       " '17N41/NN': '<INCOTERMS>',\n",
       " '0O00': '<INCOTERMS>',\n",
       " '05/05': '<INCOTERMS>',\n",
       " '0IF': '<INCOTERMS>',\n",
       " '7N29/NO': '<INCOTERMS>',\n",
       " '116/14': '<INCOTERMS>',\n",
       " '500KGS/PALLET': '<INCOTERMS>',\n",
       " '25TH': '<INCOTERMS>',\n",
       " '07929/10': '<INCOTERMS>',\n",
       " '00123/': '<INCOTERMS>',\n",
       " '1N046': '<INCOTERMS>',\n",
       " '13N62/NO': '<INCOTERMS>',\n",
       " '5PCT)': '<INCOTERMS>',\n",
       " '50KG': '<INCOTERMS>',\n",
       " '01/07/17': '<INCOTERMS>',\n",
       " '3N0N2018': '<INCOTERMS>',\n",
       " '126223/2009': '<INCOTERMS>',\n",
       " '1X40HC': '<INCOTERMS>',\n",
       " '19R4038': '<INCOTERMS>',\n",
       " '05/06/17': '<INCOTERMS>',\n",
       " '200MT': '<INCOTERMS>',\n",
       " '2007/KT/20O': '<INCOTERMS>',\n",
       " '17/07/17': '<INCOTERMS>',\n",
       " '00METRIC': '<INCOTERMS>',\n",
       " '25KGS/PE-BAG-1': '<INCOTERMS>',\n",
       " '00PCS': '<INCOTERMS>',\n",
       " '9O5': '<INCOTERMS>',\n",
       " '11214TS00010': '<INCOTERMS>',\n",
       " '1500MT': '<INCOTERMS>',\n",
       " '007/2019': '<INCOTERMS>',\n",
       " '2010DAT': '<INCOTERMS>',\n",
       " '1PCT': '<INCOTERMS>',\n",
       " '5200(+/-5PCT)': '<INCOTERMS>',\n",
       " '87O00': '<INCOTERMS>',\n",
       " '5TH': '<INCOTERMS>',\n",
       " '2018/19': '<INCOTERMS>',\n",
       " '43O34/MT': '<INCOTERMS>',\n",
       " '223/KG': '<INCOTERMS>',\n",
       " '38X38CM': '<INCOTERMS>',\n",
       " '23/11/202S': '<INCOTERMS>',\n",
       " '08/FW17': '<INCOTERMS>',\n",
       " '0O0O2014': '<INCOTERMS>',\n",
       " '2038/MT': '<INCOTERMS>',\n",
       " '2831/00': '<INCOTERMS>',\n",
       " '08/06/17': '<INCOTERMS>',\n",
       " '46C00': '<INCOTERMS>',\n",
       " '9O99': '<INCOTERMS>',\n",
       " '8ACA021X': '<INCOTERMS>',\n",
       " '4TH': '<INCOTERMS>',\n",
       " '19R4170': '<INCOTERMS>',\n",
       " '77000/MTDELIVERY': '<INCOTERMS>',\n",
       " '3S-S400W': '<INCOTERMS>',\n",
       " '00M/T': '<INCOTERMS>',\n",
       " '51C00': '<INCOTERMS>',\n",
       " '24MTS)': '<INCOTERMS>',\n",
       " '200O': '<INCOTERMS>',\n",
       " '9C': '<INCOTERMS>',\n",
       " '00121/': '<INCOTERMS>'}"
      ]
     },
     "execution_count": 55,
     "metadata": {},
     "output_type": "execute_result"
    }
   ],
   "source": [
    "dictionary"
   ]
  },
  {
   "cell_type": "code",
   "execution_count": 56,
   "metadata": {},
   "outputs": [],
   "source": [
    "# now we need to map through the dataset and change the values.\n",
    "\n",
    "def mapping(word):\n",
    "    if word in dictionary.keys():\n",
    "        return dictionary[word]\n",
    "    return word\n",
    "\n",
    "df['new_mappings'] = df['words'].apply(mapping)"
   ]
  },
  {
   "cell_type": "code",
   "execution_count": 57,
   "metadata": {},
   "outputs": [
    {
     "data": {
      "text/html": [
       "<div>\n",
       "<style scoped>\n",
       "    .dataframe tbody tr th:only-of-type {\n",
       "        vertical-align: middle;\n",
       "    }\n",
       "\n",
       "    .dataframe tbody tr th {\n",
       "        vertical-align: top;\n",
       "    }\n",
       "\n",
       "    .dataframe thead th {\n",
       "        text-align: right;\n",
       "    }\n",
       "</style>\n",
       "<table border=\"1\" class=\"dataframe\">\n",
       "  <thead>\n",
       "    <tr style=\"text-align: right;\">\n",
       "      <th></th>\n",
       "      <th>words</th>\n",
       "      <th>sentence #</th>\n",
       "      <th>tag</th>\n",
       "      <th>new_mappings</th>\n",
       "    </tr>\n",
       "  </thead>\n",
       "  <tbody>\n",
       "    <tr>\n",
       "      <th>15</th>\n",
       "      <td>22</td>\n",
       "      <td>0</td>\n",
       "      <td>O</td>\n",
       "      <td>&lt;QUANTITY&gt;</td>\n",
       "    </tr>\n",
       "    <tr>\n",
       "      <th>17</th>\n",
       "      <td>2017</td>\n",
       "      <td>0</td>\n",
       "      <td>O</td>\n",
       "      <td>&lt;QUANTITY&gt;</td>\n",
       "    </tr>\n",
       "    <tr>\n",
       "      <th>34</th>\n",
       "      <td>22</td>\n",
       "      <td>1</td>\n",
       "      <td>O</td>\n",
       "      <td>&lt;QUANTITY&gt;</td>\n",
       "    </tr>\n",
       "    <tr>\n",
       "      <th>36</th>\n",
       "      <td>2017</td>\n",
       "      <td>1</td>\n",
       "      <td>O</td>\n",
       "      <td>&lt;QUANTITY&gt;</td>\n",
       "    </tr>\n",
       "    <tr>\n",
       "      <th>52</th>\n",
       "      <td>22</td>\n",
       "      <td>2</td>\n",
       "      <td>O</td>\n",
       "      <td>&lt;QUANTITY&gt;</td>\n",
       "    </tr>\n",
       "    <tr>\n",
       "      <th>...</th>\n",
       "      <td>...</td>\n",
       "      <td>...</td>\n",
       "      <td>...</td>\n",
       "      <td>...</td>\n",
       "    </tr>\n",
       "    <tr>\n",
       "      <th>1478</th>\n",
       "      <td>788</td>\n",
       "      <td>39</td>\n",
       "      <td>O</td>\n",
       "      <td>&lt;QUANTITY&gt;</td>\n",
       "    </tr>\n",
       "    <tr>\n",
       "      <th>1479</th>\n",
       "      <td>790</td>\n",
       "      <td>39</td>\n",
       "      <td>O</td>\n",
       "      <td>&lt;QUANTITY&gt;</td>\n",
       "    </tr>\n",
       "    <tr>\n",
       "      <th>1480</th>\n",
       "      <td>792</td>\n",
       "      <td>39</td>\n",
       "      <td>O</td>\n",
       "      <td>&lt;QUANTITY&gt;</td>\n",
       "    </tr>\n",
       "    <tr>\n",
       "      <th>1482</th>\n",
       "      <td>17/07/17</td>\n",
       "      <td>39</td>\n",
       "      <td>O</td>\n",
       "      <td>&lt;INCOTERMS&gt;</td>\n",
       "    </tr>\n",
       "    <tr>\n",
       "      <th>1487</th>\n",
       "      <td>796</td>\n",
       "      <td>39</td>\n",
       "      <td>O</td>\n",
       "      <td>&lt;QUANTITY&gt;</td>\n",
       "    </tr>\n",
       "  </tbody>\n",
       "</table>\n",
       "<p>192 rows × 4 columns</p>\n",
       "</div>"
      ],
      "text/plain": [
       "         words  sentence # tag new_mappings\n",
       "15          22           0   O   <QUANTITY>\n",
       "17        2017           0   O   <QUANTITY>\n",
       "34          22           1   O   <QUANTITY>\n",
       "36        2017           1   O   <QUANTITY>\n",
       "52          22           2   O   <QUANTITY>\n",
       "...        ...         ...  ..          ...\n",
       "1478       788          39   O   <QUANTITY>\n",
       "1479       790          39   O   <QUANTITY>\n",
       "1480       792          39   O   <QUANTITY>\n",
       "1482  17/07/17          39   O  <INCOTERMS>\n",
       "1487       796          39   O   <QUANTITY>\n",
       "\n",
       "[192 rows x 4 columns]"
      ]
     },
     "execution_count": 57,
     "metadata": {},
     "output_type": "execute_result"
    }
   ],
   "source": [
    "df[(df['words'] != df['new_mappings'])]"
   ]
  },
  {
   "cell_type": "code",
   "execution_count": 58,
   "metadata": {},
   "outputs": [],
   "source": [
    "del df['words']"
   ]
  },
  {
   "cell_type": "code",
   "execution_count": 59,
   "metadata": {},
   "outputs": [
    {
     "data": {
      "text/html": [
       "<div>\n",
       "<style scoped>\n",
       "    .dataframe tbody tr th:only-of-type {\n",
       "        vertical-align: middle;\n",
       "    }\n",
       "\n",
       "    .dataframe tbody tr th {\n",
       "        vertical-align: top;\n",
       "    }\n",
       "\n",
       "    .dataframe thead th {\n",
       "        text-align: right;\n",
       "    }\n",
       "</style>\n",
       "<table border=\"1\" class=\"dataframe\">\n",
       "  <thead>\n",
       "    <tr style=\"text-align: right;\">\n",
       "      <th></th>\n",
       "      <th>sentence #</th>\n",
       "      <th>tag</th>\n",
       "      <th>words</th>\n",
       "    </tr>\n",
       "  </thead>\n",
       "  <tbody>\n",
       "    <tr>\n",
       "      <th>0</th>\n",
       "      <td>0</td>\n",
       "      <td>O</td>\n",
       "      <td>BRIDGESTONE</td>\n",
       "    </tr>\n",
       "    <tr>\n",
       "      <th>1</th>\n",
       "      <td>0</td>\n",
       "      <td>O</td>\n",
       "      <td>BRAND</td>\n",
       "    </tr>\n",
       "    <tr>\n",
       "      <th>2</th>\n",
       "      <td>0</td>\n",
       "      <td>GoodsDescription</td>\n",
       "      <td>TIRE(S)</td>\n",
       "    </tr>\n",
       "    <tr>\n",
       "      <th>3</th>\n",
       "      <td>0</td>\n",
       "      <td>GoodsDescription</td>\n",
       "      <td>AND</td>\n",
       "    </tr>\n",
       "    <tr>\n",
       "      <th>4</th>\n",
       "      <td>0</td>\n",
       "      <td>GoodsDescription</td>\n",
       "      <td>O-RING(S)</td>\n",
       "    </tr>\n",
       "    <tr>\n",
       "      <th>...</th>\n",
       "      <td>...</td>\n",
       "      <td>...</td>\n",
       "      <td>...</td>\n",
       "    </tr>\n",
       "    <tr>\n",
       "      <th>1483</th>\n",
       "      <td>39</td>\n",
       "      <td>Incoterms</td>\n",
       "      <td>HONG</td>\n",
       "    </tr>\n",
       "    <tr>\n",
       "      <th>1484</th>\n",
       "      <td>39</td>\n",
       "      <td>Incoterms</td>\n",
       "      <td>KONG</td>\n",
       "    </tr>\n",
       "    <tr>\n",
       "      <th>1485</th>\n",
       "      <td>39</td>\n",
       "      <td>O</td>\n",
       "      <td>ORDER</td>\n",
       "    </tr>\n",
       "    <tr>\n",
       "      <th>1486</th>\n",
       "      <td>39</td>\n",
       "      <td>O</td>\n",
       "      <td>NF</td>\n",
       "    </tr>\n",
       "    <tr>\n",
       "      <th>1487</th>\n",
       "      <td>39</td>\n",
       "      <td>O</td>\n",
       "      <td>&lt;QUANTITY&gt;</td>\n",
       "    </tr>\n",
       "  </tbody>\n",
       "</table>\n",
       "<p>1488 rows × 3 columns</p>\n",
       "</div>"
      ],
      "text/plain": [
       "      sentence #               tag        words\n",
       "0              0                 O  BRIDGESTONE\n",
       "1              0                 O        BRAND\n",
       "2              0  GoodsDescription      TIRE(S)\n",
       "3              0  GoodsDescription          AND\n",
       "4              0  GoodsDescription    O-RING(S)\n",
       "...          ...               ...          ...\n",
       "1483          39         Incoterms         HONG\n",
       "1484          39         Incoterms         KONG\n",
       "1485          39                 O        ORDER\n",
       "1486          39                 O           NF\n",
       "1487          39                 O   <QUANTITY>\n",
       "\n",
       "[1488 rows x 3 columns]"
      ]
     },
     "execution_count": 59,
     "metadata": {},
     "output_type": "execute_result"
    }
   ],
   "source": [
    "df = df.rename(columns={'new_mappings':'words'})\n",
    "df"
   ]
  },
  {
   "cell_type": "code",
   "execution_count": 60,
   "metadata": {},
   "outputs": [],
   "source": [
    "cols = ['words', 'sentence #', 'tag']\n",
    "df[cols].to_csv('../../data/dataset_from_json_smaller_vocab_v2.csv')"
   ]
  }
 ],
 "metadata": {
  "kernelspec": {
   "display_name": "Python 3.8.13 ('conpend')",
   "language": "python",
   "name": "python3"
  },
  "language_info": {
   "codemirror_mode": {
    "name": "ipython",
    "version": 3
   },
   "file_extension": ".py",
   "mimetype": "text/x-python",
   "name": "python",
   "nbconvert_exporter": "python",
   "pygments_lexer": "ipython3",
   "version": "3.8.13"
  },
  "orig_nbformat": 4,
  "vscode": {
   "interpreter": {
    "hash": "b02c2d9a69eb5992dd78842f785fa56e23ad9a15fb314195388d25b994c9f13f"
   }
  }
 },
 "nbformat": 4,
 "nbformat_minor": 2
}
